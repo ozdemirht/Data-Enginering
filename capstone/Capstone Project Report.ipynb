{
 "cells": [
  {
   "cell_type": "markdown",
   "metadata": {},
   "source": [
    "# Study of US Visitors \n",
    "### Data Engineering Capstone Project\n",
    "\n",
    "#### Project Summary\n",
    "The objective of this project is to build a star schema for exploring US Visitors data that is enriched by\n",
    "additional data sets such as demographics of US Cities and US Airports. The star schema representation\n",
    "will allow us to develop many queries to gain insights. \n",
    "\n",
    "The project follows the follow steps:\n",
    "* Step 1: Scope the Project and Gather Data\n",
    "* Step 2: Explore and Assess the Data\n",
    "* Step 3: Define the Data Model\n",
    "* Step 4: Run ETL to Model the Data\n",
    "* Step 5: Complete Project Write Up"
   ]
  },
  {
   "cell_type": "code",
   "execution_count": 1,
   "metadata": {},
   "outputs": [],
   "source": [
    "# Do all imports and installs here\n",
    "import pandas as pd\n",
    "import seaborn as sns\n",
    "import logging\n",
    "\n",
    "# Prep logger\n",
    "logger = logging.getLogger(__name__)"
   ]
  },
  {
   "cell_type": "code",
   "execution_count": 2,
   "metadata": {},
   "outputs": [],
   "source": [
    "# Utilities\n",
    "def check_NaN_Values_DF(df,     # type, Pandas DataFrame\n",
    "                        cnames  # type, List of String, Column Names\n",
    "                       ):\n",
    "    if df is None:\n",
    "        raise ValueError()\n",
    "    #assert (cnames != None), \"Invalid argument!\"\n",
    "    \n",
    "    print(\"%22s %6s %8s\" % ('Column Name','Count','Percentage'))\n",
    "    for c in cnames:\n",
    "        c_sum = df[c].isnull().sum()\n",
    "        c_percentage = 100.0*c_sum/len(df)\n",
    "        print(\"%22s %6d %8.2f\" % (c,c_sum,c_percentage))\n",
    "    print(\"Number of total records is %d.\\n\" % len(df))    \n"
   ]
  },
  {
   "cell_type": "markdown",
   "metadata": {},
   "source": [
    "### Step 1: Scope the Project and Gather Data\n",
    "\n",
    "#### Scope \n",
    "\n",
    "The project will use the following data sets to build a star schema based solution for generating reports;\n",
    " 1. US Visitors Data Set [1]\n",
    " 1. Airport Codes Data [3]\n",
    " 1. US Cities Demographics [4]\n",
    " 1. Global Land Temperatures By City [5]\n",
    "\n",
    "The solution will allow us to answer questions like the followings;\n",
    " 1. For each month, what are the main reason (business, tourism, education) of visits? \n",
    " 1. Which states are top-10 destinations for Tourists? Is there a difference between months? \n",
    " 1. Which states are top-10 destinations for Business travelers? Is there a difference between months? Is there a trend?\n",
    " 1. What is the relation between month, age of visitor, and top destinations?\n",
    " \n",
    "The project will use the followings;\n",
    " 1. Spark\n",
    " 2. Matplotlib for visualization\n",
    " 3. Parquet Files for star schema\n",
    " \n",
    "#### Describe and Gather Data \n",
    "This project uses the following data sets;\n",
    "\n",
    " - <b>US Visitors Data Set</b> [1] is from  https://travel.trade.gov/research/programs/i94/description.asp. It contains -94 arrivals data. <br><br>\n",
    " - <b>Airport Codes Data</b> [3] set is from Airport Codes, https://datahub.io/core/airport-codes#readme. The dataset contains the list of airports with name, type, location, and gps location attributes. <br><br>\n",
    " - <b>US Cities Demographics</b> [4] data set is from https://public.opendatasoft.com/explore/dataset/us-cities-demographics/table/. The dataset contains information about the demographics of all US cities and census-designated places with a population greater or equal to 65,000. The US Census Bureau's 2015 American Community Survey produced the data.<br><br>\n",
    " - <b>Global Land Temperatures By City</b> [5] dataset is from https://www.kaggle.com/berkeleyearth/climate-change-earth-surface-temperature-data.\n",
    "   The original data came from the Berkeley Earth, which is affiliated with Lawrence Berkeley National Laboratory. "
   ]
  },
  {
   "cell_type": "markdown",
   "metadata": {},
   "source": [
    "#### US Visitors Data Set [1]"
   ]
  },
  {
   "cell_type": "code",
   "execution_count": 3,
   "metadata": {},
   "outputs": [],
   "source": [
    "# Read in the data here\n",
    "df = pd.read_csv('immigration_data_sample.csv')"
   ]
  },
  {
   "cell_type": "code",
   "execution_count": 4,
   "metadata": {},
   "outputs": [
    {
     "data": {
      "text/html": [
       "<div>\n",
       "<style scoped>\n",
       "    .dataframe tbody tr th:only-of-type {\n",
       "        vertical-align: middle;\n",
       "    }\n",
       "\n",
       "    .dataframe tbody tr th {\n",
       "        vertical-align: top;\n",
       "    }\n",
       "\n",
       "    .dataframe thead th {\n",
       "        text-align: right;\n",
       "    }\n",
       "</style>\n",
       "<table border=\"1\" class=\"dataframe\">\n",
       "  <thead>\n",
       "    <tr style=\"text-align: right;\">\n",
       "      <th></th>\n",
       "      <th>Unnamed: 0</th>\n",
       "      <th>cicid</th>\n",
       "      <th>i94yr</th>\n",
       "      <th>i94mon</th>\n",
       "      <th>i94cit</th>\n",
       "      <th>i94res</th>\n",
       "      <th>i94port</th>\n",
       "      <th>arrdate</th>\n",
       "      <th>i94mode</th>\n",
       "      <th>i94addr</th>\n",
       "      <th>...</th>\n",
       "      <th>entdepu</th>\n",
       "      <th>matflag</th>\n",
       "      <th>biryear</th>\n",
       "      <th>dtaddto</th>\n",
       "      <th>gender</th>\n",
       "      <th>insnum</th>\n",
       "      <th>airline</th>\n",
       "      <th>admnum</th>\n",
       "      <th>fltno</th>\n",
       "      <th>visatype</th>\n",
       "    </tr>\n",
       "  </thead>\n",
       "  <tbody>\n",
       "    <tr>\n",
       "      <th>0</th>\n",
       "      <td>2027561</td>\n",
       "      <td>4084316.0</td>\n",
       "      <td>2016.0</td>\n",
       "      <td>4.0</td>\n",
       "      <td>209.0</td>\n",
       "      <td>209.0</td>\n",
       "      <td>HHW</td>\n",
       "      <td>20566.0</td>\n",
       "      <td>1.0</td>\n",
       "      <td>HI</td>\n",
       "      <td>...</td>\n",
       "      <td>NaN</td>\n",
       "      <td>M</td>\n",
       "      <td>1955.0</td>\n",
       "      <td>07202016</td>\n",
       "      <td>F</td>\n",
       "      <td>NaN</td>\n",
       "      <td>JL</td>\n",
       "      <td>5.658267e+10</td>\n",
       "      <td>00782</td>\n",
       "      <td>WT</td>\n",
       "    </tr>\n",
       "    <tr>\n",
       "      <th>1</th>\n",
       "      <td>2171295</td>\n",
       "      <td>4422636.0</td>\n",
       "      <td>2016.0</td>\n",
       "      <td>4.0</td>\n",
       "      <td>582.0</td>\n",
       "      <td>582.0</td>\n",
       "      <td>MCA</td>\n",
       "      <td>20567.0</td>\n",
       "      <td>1.0</td>\n",
       "      <td>TX</td>\n",
       "      <td>...</td>\n",
       "      <td>NaN</td>\n",
       "      <td>M</td>\n",
       "      <td>1990.0</td>\n",
       "      <td>10222016</td>\n",
       "      <td>M</td>\n",
       "      <td>NaN</td>\n",
       "      <td>*GA</td>\n",
       "      <td>9.436200e+10</td>\n",
       "      <td>XBLNG</td>\n",
       "      <td>B2</td>\n",
       "    </tr>\n",
       "    <tr>\n",
       "      <th>2</th>\n",
       "      <td>589494</td>\n",
       "      <td>1195600.0</td>\n",
       "      <td>2016.0</td>\n",
       "      <td>4.0</td>\n",
       "      <td>148.0</td>\n",
       "      <td>112.0</td>\n",
       "      <td>OGG</td>\n",
       "      <td>20551.0</td>\n",
       "      <td>1.0</td>\n",
       "      <td>FL</td>\n",
       "      <td>...</td>\n",
       "      <td>NaN</td>\n",
       "      <td>M</td>\n",
       "      <td>1940.0</td>\n",
       "      <td>07052016</td>\n",
       "      <td>M</td>\n",
       "      <td>NaN</td>\n",
       "      <td>LH</td>\n",
       "      <td>5.578047e+10</td>\n",
       "      <td>00464</td>\n",
       "      <td>WT</td>\n",
       "    </tr>\n",
       "    <tr>\n",
       "      <th>3</th>\n",
       "      <td>2631158</td>\n",
       "      <td>5291768.0</td>\n",
       "      <td>2016.0</td>\n",
       "      <td>4.0</td>\n",
       "      <td>297.0</td>\n",
       "      <td>297.0</td>\n",
       "      <td>LOS</td>\n",
       "      <td>20572.0</td>\n",
       "      <td>1.0</td>\n",
       "      <td>CA</td>\n",
       "      <td>...</td>\n",
       "      <td>NaN</td>\n",
       "      <td>M</td>\n",
       "      <td>1991.0</td>\n",
       "      <td>10272016</td>\n",
       "      <td>M</td>\n",
       "      <td>NaN</td>\n",
       "      <td>QR</td>\n",
       "      <td>9.478970e+10</td>\n",
       "      <td>00739</td>\n",
       "      <td>B2</td>\n",
       "    </tr>\n",
       "    <tr>\n",
       "      <th>4</th>\n",
       "      <td>3032257</td>\n",
       "      <td>985523.0</td>\n",
       "      <td>2016.0</td>\n",
       "      <td>4.0</td>\n",
       "      <td>111.0</td>\n",
       "      <td>111.0</td>\n",
       "      <td>CHM</td>\n",
       "      <td>20550.0</td>\n",
       "      <td>3.0</td>\n",
       "      <td>NY</td>\n",
       "      <td>...</td>\n",
       "      <td>NaN</td>\n",
       "      <td>M</td>\n",
       "      <td>1997.0</td>\n",
       "      <td>07042016</td>\n",
       "      <td>F</td>\n",
       "      <td>NaN</td>\n",
       "      <td>NaN</td>\n",
       "      <td>4.232257e+10</td>\n",
       "      <td>LAND</td>\n",
       "      <td>WT</td>\n",
       "    </tr>\n",
       "  </tbody>\n",
       "</table>\n",
       "<p>5 rows × 29 columns</p>\n",
       "</div>"
      ],
      "text/plain": [
       "   Unnamed: 0      cicid   i94yr  i94mon  i94cit  i94res i94port  arrdate  \\\n",
       "0     2027561  4084316.0  2016.0     4.0   209.0   209.0     HHW  20566.0   \n",
       "1     2171295  4422636.0  2016.0     4.0   582.0   582.0     MCA  20567.0   \n",
       "2      589494  1195600.0  2016.0     4.0   148.0   112.0     OGG  20551.0   \n",
       "3     2631158  5291768.0  2016.0     4.0   297.0   297.0     LOS  20572.0   \n",
       "4     3032257   985523.0  2016.0     4.0   111.0   111.0     CHM  20550.0   \n",
       "\n",
       "   i94mode i94addr    ...     entdepu  matflag  biryear   dtaddto  gender  \\\n",
       "0      1.0      HI    ...         NaN        M   1955.0  07202016       F   \n",
       "1      1.0      TX    ...         NaN        M   1990.0  10222016       M   \n",
       "2      1.0      FL    ...         NaN        M   1940.0  07052016       M   \n",
       "3      1.0      CA    ...         NaN        M   1991.0  10272016       M   \n",
       "4      3.0      NY    ...         NaN        M   1997.0  07042016       F   \n",
       "\n",
       "  insnum airline        admnum  fltno  visatype  \n",
       "0    NaN      JL  5.658267e+10  00782        WT  \n",
       "1    NaN     *GA  9.436200e+10  XBLNG        B2  \n",
       "2    NaN      LH  5.578047e+10  00464        WT  \n",
       "3    NaN      QR  9.478970e+10  00739        B2  \n",
       "4    NaN     NaN  4.232257e+10   LAND        WT  \n",
       "\n",
       "[5 rows x 29 columns]"
      ]
     },
     "execution_count": 4,
     "metadata": {},
     "output_type": "execute_result"
    }
   ],
   "source": [
    "df.head()"
   ]
  },
  {
   "cell_type": "code",
   "execution_count": 5,
   "metadata": {},
   "outputs": [
    {
     "data": {
      "text/html": [
       "<div>\n",
       "<style scoped>\n",
       "    .dataframe tbody tr th:only-of-type {\n",
       "        vertical-align: middle;\n",
       "    }\n",
       "\n",
       "    .dataframe tbody tr th {\n",
       "        vertical-align: top;\n",
       "    }\n",
       "\n",
       "    .dataframe thead th {\n",
       "        text-align: right;\n",
       "    }\n",
       "</style>\n",
       "<table border=\"1\" class=\"dataframe\">\n",
       "  <thead>\n",
       "    <tr style=\"text-align: right;\">\n",
       "      <th></th>\n",
       "      <th>Unnamed: 0</th>\n",
       "      <th>cicid</th>\n",
       "      <th>i94yr</th>\n",
       "      <th>i94mon</th>\n",
       "      <th>i94cit</th>\n",
       "      <th>i94res</th>\n",
       "      <th>i94port</th>\n",
       "      <th>arrdate</th>\n",
       "      <th>i94mode</th>\n",
       "      <th>i94addr</th>\n",
       "      <th>...</th>\n",
       "      <th>entdepu</th>\n",
       "      <th>matflag</th>\n",
       "      <th>biryear</th>\n",
       "      <th>dtaddto</th>\n",
       "      <th>gender</th>\n",
       "      <th>insnum</th>\n",
       "      <th>airline</th>\n",
       "      <th>admnum</th>\n",
       "      <th>fltno</th>\n",
       "      <th>visatype</th>\n",
       "    </tr>\n",
       "  </thead>\n",
       "  <tbody>\n",
       "    <tr>\n",
       "      <th>0</th>\n",
       "      <td>2027561</td>\n",
       "      <td>4084316</td>\n",
       "      <td>2016</td>\n",
       "      <td>4</td>\n",
       "      <td>209</td>\n",
       "      <td>209</td>\n",
       "      <td>HHW</td>\n",
       "      <td>20566.0</td>\n",
       "      <td>1</td>\n",
       "      <td>HI</td>\n",
       "      <td>...</td>\n",
       "      <td>NaN</td>\n",
       "      <td>M</td>\n",
       "      <td>1955</td>\n",
       "      <td>07202016</td>\n",
       "      <td>F</td>\n",
       "      <td>NaN</td>\n",
       "      <td>JL</td>\n",
       "      <td>56582674633</td>\n",
       "      <td>00782</td>\n",
       "      <td>WT</td>\n",
       "    </tr>\n",
       "    <tr>\n",
       "      <th>1</th>\n",
       "      <td>2171295</td>\n",
       "      <td>4422636</td>\n",
       "      <td>2016</td>\n",
       "      <td>4</td>\n",
       "      <td>582</td>\n",
       "      <td>582</td>\n",
       "      <td>MCA</td>\n",
       "      <td>20567.0</td>\n",
       "      <td>1</td>\n",
       "      <td>TX</td>\n",
       "      <td>...</td>\n",
       "      <td>NaN</td>\n",
       "      <td>M</td>\n",
       "      <td>1990</td>\n",
       "      <td>10222016</td>\n",
       "      <td>M</td>\n",
       "      <td>NaN</td>\n",
       "      <td>*GA</td>\n",
       "      <td>94361995930</td>\n",
       "      <td>XBLNG</td>\n",
       "      <td>B2</td>\n",
       "    </tr>\n",
       "    <tr>\n",
       "      <th>2</th>\n",
       "      <td>589494</td>\n",
       "      <td>1195600</td>\n",
       "      <td>2016</td>\n",
       "      <td>4</td>\n",
       "      <td>148</td>\n",
       "      <td>112</td>\n",
       "      <td>OGG</td>\n",
       "      <td>20551.0</td>\n",
       "      <td>1</td>\n",
       "      <td>FL</td>\n",
       "      <td>...</td>\n",
       "      <td>NaN</td>\n",
       "      <td>M</td>\n",
       "      <td>1940</td>\n",
       "      <td>07052016</td>\n",
       "      <td>M</td>\n",
       "      <td>NaN</td>\n",
       "      <td>LH</td>\n",
       "      <td>55780468433</td>\n",
       "      <td>00464</td>\n",
       "      <td>WT</td>\n",
       "    </tr>\n",
       "    <tr>\n",
       "      <th>3</th>\n",
       "      <td>2631158</td>\n",
       "      <td>5291768</td>\n",
       "      <td>2016</td>\n",
       "      <td>4</td>\n",
       "      <td>297</td>\n",
       "      <td>297</td>\n",
       "      <td>LOS</td>\n",
       "      <td>20572.0</td>\n",
       "      <td>1</td>\n",
       "      <td>CA</td>\n",
       "      <td>...</td>\n",
       "      <td>NaN</td>\n",
       "      <td>M</td>\n",
       "      <td>1991</td>\n",
       "      <td>10272016</td>\n",
       "      <td>M</td>\n",
       "      <td>NaN</td>\n",
       "      <td>QR</td>\n",
       "      <td>94789696030</td>\n",
       "      <td>00739</td>\n",
       "      <td>B2</td>\n",
       "    </tr>\n",
       "    <tr>\n",
       "      <th>4</th>\n",
       "      <td>3032257</td>\n",
       "      <td>985523</td>\n",
       "      <td>2016</td>\n",
       "      <td>4</td>\n",
       "      <td>111</td>\n",
       "      <td>111</td>\n",
       "      <td>CHM</td>\n",
       "      <td>20550.0</td>\n",
       "      <td>3</td>\n",
       "      <td>NY</td>\n",
       "      <td>...</td>\n",
       "      <td>NaN</td>\n",
       "      <td>M</td>\n",
       "      <td>1997</td>\n",
       "      <td>07042016</td>\n",
       "      <td>F</td>\n",
       "      <td>NaN</td>\n",
       "      <td>NaN</td>\n",
       "      <td>42322572633</td>\n",
       "      <td>LAND</td>\n",
       "      <td>WT</td>\n",
       "    </tr>\n",
       "  </tbody>\n",
       "</table>\n",
       "<p>5 rows × 29 columns</p>\n",
       "</div>"
      ],
      "text/plain": [
       "   Unnamed: 0    cicid  i94yr  i94mon  i94cit  i94res i94port  arrdate  \\\n",
       "0     2027561  4084316   2016       4     209     209     HHW  20566.0   \n",
       "1     2171295  4422636   2016       4     582     582     MCA  20567.0   \n",
       "2      589494  1195600   2016       4     148     112     OGG  20551.0   \n",
       "3     2631158  5291768   2016       4     297     297     LOS  20572.0   \n",
       "4     3032257   985523   2016       4     111     111     CHM  20550.0   \n",
       "\n",
       "   i94mode i94addr    ...     entdepu  matflag  biryear   dtaddto  gender  \\\n",
       "0        1      HI    ...         NaN        M     1955  07202016       F   \n",
       "1        1      TX    ...         NaN        M     1990  10222016       M   \n",
       "2        1      FL    ...         NaN        M     1940  07052016       M   \n",
       "3        1      CA    ...         NaN        M     1991  10272016       M   \n",
       "4        3      NY    ...         NaN        M     1997  07042016       F   \n",
       "\n",
       "  insnum airline       admnum  fltno  visatype  \n",
       "0    NaN      JL  56582674633  00782        WT  \n",
       "1    NaN     *GA  94361995930  XBLNG        B2  \n",
       "2    NaN      LH  55780468433  00464        WT  \n",
       "3    NaN      QR  94789696030  00739        B2  \n",
       "4    NaN     NaN  42322572633   LAND        WT  \n",
       "\n",
       "[5 rows x 29 columns]"
      ]
     },
     "execution_count": 5,
     "metadata": {},
     "output_type": "execute_result"
    }
   ],
   "source": [
    "df = df.astype({'i94yr': 'int32','i94mon': 'int32','i94mode': 'int32','biryear': 'int32','i94cit': 'int32','i94res': 'int32','cicid': 'int64','i94visa': 'int32','i94bir': 'int32','admnum': 'int64' })\n",
    "df.head()"
   ]
  },
  {
   "cell_type": "markdown",
   "metadata": {},
   "source": [
    "Let's look at column names."
   ]
  },
  {
   "cell_type": "code",
   "execution_count": 6,
   "metadata": {},
   "outputs": [
    {
     "data": {
      "text/plain": [
       "Index(['Unnamed: 0', 'cicid', 'i94yr', 'i94mon', 'i94cit', 'i94res', 'i94port',\n",
       "       'arrdate', 'i94mode', 'i94addr', 'depdate', 'i94bir', 'i94visa',\n",
       "       'count', 'dtadfile', 'visapost', 'occup', 'entdepa', 'entdepd',\n",
       "       'entdepu', 'matflag', 'biryear', 'dtaddto', 'gender', 'insnum',\n",
       "       'airline', 'admnum', 'fltno', 'visatype'],\n",
       "      dtype='object')"
      ]
     },
     "execution_count": 6,
     "metadata": {},
     "output_type": "execute_result"
    }
   ],
   "source": [
    "df.columns"
   ]
  },
  {
   "cell_type": "markdown",
   "metadata": {},
   "source": [
    "Let's check the columns with NaN value"
   ]
  },
  {
   "cell_type": "code",
   "execution_count": 8,
   "metadata": {},
   "outputs": [
    {
     "name": "stdout",
     "output_type": "stream",
     "text": [
      "           Column Name  Count Percentage\n",
      "            Unnamed: 0      0     0.00\n",
      "                 cicid      0     0.00\n",
      "                 i94yr      0     0.00\n",
      "                i94mon      0     0.00\n",
      "                i94cit      0     0.00\n",
      "                i94res      0     0.00\n",
      "               i94port      0     0.00\n",
      "               arrdate      0     0.00\n",
      "               i94mode      0     0.00\n",
      "               i94addr     59     5.90\n",
      "               depdate     49     4.90\n",
      "                i94bir      0     0.00\n",
      "               i94visa      0     0.00\n",
      "                 count      0     0.00\n",
      "              dtadfile      0     0.00\n",
      "              visapost    618    61.80\n",
      "                 occup    996    99.60\n",
      "               entdepa      0     0.00\n",
      "               entdepd     46     4.60\n",
      "               entdepu   1000   100.00\n",
      "               matflag     46     4.60\n",
      "               biryear      0     0.00\n",
      "               dtaddto      0     0.00\n",
      "                gender    141    14.10\n",
      "                insnum    965    96.50\n",
      "               airline     33     3.30\n",
      "                admnum      0     0.00\n",
      "                 fltno      8     0.80\n",
      "              visatype      0     0.00\n",
      "Number of total records is 1000.\n",
      "\n"
     ]
    }
   ],
   "source": [
    "check_NaN_Values_DF(df,df.columns)"
   ]
  },
  {
   "cell_type": "markdown",
   "metadata": {},
   "source": [
    "The following columns can be dropped;\n",
    " - entdepu (100.0%)\n",
    " - occup    (99.6%)\n",
    " - insnum   (96.5%)\n",
    " - visapost (61.8%)\n",
    "\n",
    "Drop a rows that has NaN value for any of the following columns;\n",
    " - fltno\n",
    " - airline\n",
    " - matflag\n",
    " - entdepd\n",
    " - i94addr\n",
    " - depdate\n",
    " - gender"
   ]
  },
  {
   "cell_type": "code",
   "execution_count": 9,
   "metadata": {},
   "outputs": [
    {
     "data": {
      "text/html": [
       "<div>\n",
       "<style scoped>\n",
       "    .dataframe tbody tr th:only-of-type {\n",
       "        vertical-align: middle;\n",
       "    }\n",
       "\n",
       "    .dataframe tbody tr th {\n",
       "        vertical-align: top;\n",
       "    }\n",
       "\n",
       "    .dataframe thead th {\n",
       "        text-align: right;\n",
       "    }\n",
       "</style>\n",
       "<table border=\"1\" class=\"dataframe\">\n",
       "  <thead>\n",
       "    <tr style=\"text-align: right;\">\n",
       "      <th></th>\n",
       "      <th>Unnamed: 0</th>\n",
       "      <th>cicid</th>\n",
       "      <th>i94yr</th>\n",
       "      <th>i94mon</th>\n",
       "      <th>i94cit</th>\n",
       "      <th>i94res</th>\n",
       "      <th>i94port</th>\n",
       "      <th>arrdate</th>\n",
       "      <th>i94mode</th>\n",
       "      <th>i94addr</th>\n",
       "      <th>...</th>\n",
       "      <th>entdepa</th>\n",
       "      <th>entdepd</th>\n",
       "      <th>matflag</th>\n",
       "      <th>biryear</th>\n",
       "      <th>dtaddto</th>\n",
       "      <th>gender</th>\n",
       "      <th>airline</th>\n",
       "      <th>admnum</th>\n",
       "      <th>fltno</th>\n",
       "      <th>visatype</th>\n",
       "    </tr>\n",
       "  </thead>\n",
       "  <tbody>\n",
       "    <tr>\n",
       "      <th>0</th>\n",
       "      <td>2027561</td>\n",
       "      <td>4084316</td>\n",
       "      <td>2016</td>\n",
       "      <td>4</td>\n",
       "      <td>209</td>\n",
       "      <td>209</td>\n",
       "      <td>HHW</td>\n",
       "      <td>20566.0</td>\n",
       "      <td>1</td>\n",
       "      <td>HI</td>\n",
       "      <td>...</td>\n",
       "      <td>G</td>\n",
       "      <td>O</td>\n",
       "      <td>M</td>\n",
       "      <td>1955</td>\n",
       "      <td>07202016</td>\n",
       "      <td>F</td>\n",
       "      <td>JL</td>\n",
       "      <td>56582674633</td>\n",
       "      <td>00782</td>\n",
       "      <td>WT</td>\n",
       "    </tr>\n",
       "    <tr>\n",
       "      <th>1</th>\n",
       "      <td>2171295</td>\n",
       "      <td>4422636</td>\n",
       "      <td>2016</td>\n",
       "      <td>4</td>\n",
       "      <td>582</td>\n",
       "      <td>582</td>\n",
       "      <td>MCA</td>\n",
       "      <td>20567.0</td>\n",
       "      <td>1</td>\n",
       "      <td>TX</td>\n",
       "      <td>...</td>\n",
       "      <td>G</td>\n",
       "      <td>R</td>\n",
       "      <td>M</td>\n",
       "      <td>1990</td>\n",
       "      <td>10222016</td>\n",
       "      <td>M</td>\n",
       "      <td>*GA</td>\n",
       "      <td>94361995930</td>\n",
       "      <td>XBLNG</td>\n",
       "      <td>B2</td>\n",
       "    </tr>\n",
       "    <tr>\n",
       "      <th>2</th>\n",
       "      <td>589494</td>\n",
       "      <td>1195600</td>\n",
       "      <td>2016</td>\n",
       "      <td>4</td>\n",
       "      <td>148</td>\n",
       "      <td>112</td>\n",
       "      <td>OGG</td>\n",
       "      <td>20551.0</td>\n",
       "      <td>1</td>\n",
       "      <td>FL</td>\n",
       "      <td>...</td>\n",
       "      <td>G</td>\n",
       "      <td>O</td>\n",
       "      <td>M</td>\n",
       "      <td>1940</td>\n",
       "      <td>07052016</td>\n",
       "      <td>M</td>\n",
       "      <td>LH</td>\n",
       "      <td>55780468433</td>\n",
       "      <td>00464</td>\n",
       "      <td>WT</td>\n",
       "    </tr>\n",
       "    <tr>\n",
       "      <th>3</th>\n",
       "      <td>2631158</td>\n",
       "      <td>5291768</td>\n",
       "      <td>2016</td>\n",
       "      <td>4</td>\n",
       "      <td>297</td>\n",
       "      <td>297</td>\n",
       "      <td>LOS</td>\n",
       "      <td>20572.0</td>\n",
       "      <td>1</td>\n",
       "      <td>CA</td>\n",
       "      <td>...</td>\n",
       "      <td>G</td>\n",
       "      <td>O</td>\n",
       "      <td>M</td>\n",
       "      <td>1991</td>\n",
       "      <td>10272016</td>\n",
       "      <td>M</td>\n",
       "      <td>QR</td>\n",
       "      <td>94789696030</td>\n",
       "      <td>00739</td>\n",
       "      <td>B2</td>\n",
       "    </tr>\n",
       "    <tr>\n",
       "      <th>4</th>\n",
       "      <td>3032257</td>\n",
       "      <td>985523</td>\n",
       "      <td>2016</td>\n",
       "      <td>4</td>\n",
       "      <td>111</td>\n",
       "      <td>111</td>\n",
       "      <td>CHM</td>\n",
       "      <td>20550.0</td>\n",
       "      <td>3</td>\n",
       "      <td>NY</td>\n",
       "      <td>...</td>\n",
       "      <td>Z</td>\n",
       "      <td>K</td>\n",
       "      <td>M</td>\n",
       "      <td>1997</td>\n",
       "      <td>07042016</td>\n",
       "      <td>F</td>\n",
       "      <td>NaN</td>\n",
       "      <td>42322572633</td>\n",
       "      <td>LAND</td>\n",
       "      <td>WT</td>\n",
       "    </tr>\n",
       "  </tbody>\n",
       "</table>\n",
       "<p>5 rows × 25 columns</p>\n",
       "</div>"
      ],
      "text/plain": [
       "   Unnamed: 0    cicid  i94yr  i94mon  i94cit  i94res i94port  arrdate  \\\n",
       "0     2027561  4084316   2016       4     209     209     HHW  20566.0   \n",
       "1     2171295  4422636   2016       4     582     582     MCA  20567.0   \n",
       "2      589494  1195600   2016       4     148     112     OGG  20551.0   \n",
       "3     2631158  5291768   2016       4     297     297     LOS  20572.0   \n",
       "4     3032257   985523   2016       4     111     111     CHM  20550.0   \n",
       "\n",
       "   i94mode i94addr   ...     entdepa  entdepd  matflag  biryear   dtaddto  \\\n",
       "0        1      HI   ...           G        O        M     1955  07202016   \n",
       "1        1      TX   ...           G        R        M     1990  10222016   \n",
       "2        1      FL   ...           G        O        M     1940  07052016   \n",
       "3        1      CA   ...           G        O        M     1991  10272016   \n",
       "4        3      NY   ...           Z        K        M     1997  07042016   \n",
       "\n",
       "  gender airline       admnum  fltno visatype  \n",
       "0      F      JL  56582674633  00782       WT  \n",
       "1      M     *GA  94361995930  XBLNG       B2  \n",
       "2      M      LH  55780468433  00464       WT  \n",
       "3      M      QR  94789696030  00739       B2  \n",
       "4      F     NaN  42322572633   LAND       WT  \n",
       "\n",
       "[5 rows x 25 columns]"
      ]
     },
     "execution_count": 9,
     "metadata": {},
     "output_type": "execute_result"
    }
   ],
   "source": [
    "df = df.drop(columns=['entdepu','occup','insnum','visapost'])\n",
    "df.head()"
   ]
  },
  {
   "cell_type": "code",
   "execution_count": 10,
   "metadata": {},
   "outputs": [
    {
     "data": {
      "text/html": [
       "<div>\n",
       "<style scoped>\n",
       "    .dataframe tbody tr th:only-of-type {\n",
       "        vertical-align: middle;\n",
       "    }\n",
       "\n",
       "    .dataframe tbody tr th {\n",
       "        vertical-align: top;\n",
       "    }\n",
       "\n",
       "    .dataframe thead th {\n",
       "        text-align: right;\n",
       "    }\n",
       "</style>\n",
       "<table border=\"1\" class=\"dataframe\">\n",
       "  <thead>\n",
       "    <tr style=\"text-align: right;\">\n",
       "      <th></th>\n",
       "      <th>Unnamed: 0</th>\n",
       "      <th>cicid</th>\n",
       "      <th>i94yr</th>\n",
       "      <th>i94mon</th>\n",
       "      <th>i94cit</th>\n",
       "      <th>i94res</th>\n",
       "      <th>i94port</th>\n",
       "      <th>arrdate</th>\n",
       "      <th>i94mode</th>\n",
       "      <th>i94addr</th>\n",
       "      <th>...</th>\n",
       "      <th>entdepa</th>\n",
       "      <th>entdepd</th>\n",
       "      <th>matflag</th>\n",
       "      <th>biryear</th>\n",
       "      <th>dtaddto</th>\n",
       "      <th>gender</th>\n",
       "      <th>airline</th>\n",
       "      <th>admnum</th>\n",
       "      <th>fltno</th>\n",
       "      <th>visatype</th>\n",
       "    </tr>\n",
       "  </thead>\n",
       "  <tbody>\n",
       "    <tr>\n",
       "      <th>0</th>\n",
       "      <td>2027561</td>\n",
       "      <td>4084316</td>\n",
       "      <td>2016</td>\n",
       "      <td>4</td>\n",
       "      <td>209</td>\n",
       "      <td>209</td>\n",
       "      <td>HHW</td>\n",
       "      <td>20566.0</td>\n",
       "      <td>1</td>\n",
       "      <td>HI</td>\n",
       "      <td>...</td>\n",
       "      <td>G</td>\n",
       "      <td>O</td>\n",
       "      <td>M</td>\n",
       "      <td>1955</td>\n",
       "      <td>07202016</td>\n",
       "      <td>F</td>\n",
       "      <td>JL</td>\n",
       "      <td>56582674633</td>\n",
       "      <td>00782</td>\n",
       "      <td>WT</td>\n",
       "    </tr>\n",
       "    <tr>\n",
       "      <th>1</th>\n",
       "      <td>2171295</td>\n",
       "      <td>4422636</td>\n",
       "      <td>2016</td>\n",
       "      <td>4</td>\n",
       "      <td>582</td>\n",
       "      <td>582</td>\n",
       "      <td>MCA</td>\n",
       "      <td>20567.0</td>\n",
       "      <td>1</td>\n",
       "      <td>TX</td>\n",
       "      <td>...</td>\n",
       "      <td>G</td>\n",
       "      <td>R</td>\n",
       "      <td>M</td>\n",
       "      <td>1990</td>\n",
       "      <td>10222016</td>\n",
       "      <td>M</td>\n",
       "      <td>*GA</td>\n",
       "      <td>94361995930</td>\n",
       "      <td>XBLNG</td>\n",
       "      <td>B2</td>\n",
       "    </tr>\n",
       "    <tr>\n",
       "      <th>2</th>\n",
       "      <td>589494</td>\n",
       "      <td>1195600</td>\n",
       "      <td>2016</td>\n",
       "      <td>4</td>\n",
       "      <td>148</td>\n",
       "      <td>112</td>\n",
       "      <td>OGG</td>\n",
       "      <td>20551.0</td>\n",
       "      <td>1</td>\n",
       "      <td>FL</td>\n",
       "      <td>...</td>\n",
       "      <td>G</td>\n",
       "      <td>O</td>\n",
       "      <td>M</td>\n",
       "      <td>1940</td>\n",
       "      <td>07052016</td>\n",
       "      <td>M</td>\n",
       "      <td>LH</td>\n",
       "      <td>55780468433</td>\n",
       "      <td>00464</td>\n",
       "      <td>WT</td>\n",
       "    </tr>\n",
       "    <tr>\n",
       "      <th>3</th>\n",
       "      <td>2631158</td>\n",
       "      <td>5291768</td>\n",
       "      <td>2016</td>\n",
       "      <td>4</td>\n",
       "      <td>297</td>\n",
       "      <td>297</td>\n",
       "      <td>LOS</td>\n",
       "      <td>20572.0</td>\n",
       "      <td>1</td>\n",
       "      <td>CA</td>\n",
       "      <td>...</td>\n",
       "      <td>G</td>\n",
       "      <td>O</td>\n",
       "      <td>M</td>\n",
       "      <td>1991</td>\n",
       "      <td>10272016</td>\n",
       "      <td>M</td>\n",
       "      <td>QR</td>\n",
       "      <td>94789696030</td>\n",
       "      <td>00739</td>\n",
       "      <td>B2</td>\n",
       "    </tr>\n",
       "    <tr>\n",
       "      <th>5</th>\n",
       "      <td>721257</td>\n",
       "      <td>1481650</td>\n",
       "      <td>2016</td>\n",
       "      <td>4</td>\n",
       "      <td>577</td>\n",
       "      <td>577</td>\n",
       "      <td>ATL</td>\n",
       "      <td>20552.0</td>\n",
       "      <td>1</td>\n",
       "      <td>GA</td>\n",
       "      <td>...</td>\n",
       "      <td>T</td>\n",
       "      <td>N</td>\n",
       "      <td>M</td>\n",
       "      <td>1965</td>\n",
       "      <td>10072016</td>\n",
       "      <td>M</td>\n",
       "      <td>DL</td>\n",
       "      <td>736852585</td>\n",
       "      <td>910</td>\n",
       "      <td>B2</td>\n",
       "    </tr>\n",
       "  </tbody>\n",
       "</table>\n",
       "<p>5 rows × 25 columns</p>\n",
       "</div>"
      ],
      "text/plain": [
       "   Unnamed: 0    cicid  i94yr  i94mon  i94cit  i94res i94port  arrdate  \\\n",
       "0     2027561  4084316   2016       4     209     209     HHW  20566.0   \n",
       "1     2171295  4422636   2016       4     582     582     MCA  20567.0   \n",
       "2      589494  1195600   2016       4     148     112     OGG  20551.0   \n",
       "3     2631158  5291768   2016       4     297     297     LOS  20572.0   \n",
       "5      721257  1481650   2016       4     577     577     ATL  20552.0   \n",
       "\n",
       "   i94mode i94addr   ...     entdepa  entdepd  matflag  biryear   dtaddto  \\\n",
       "0        1      HI   ...           G        O        M     1955  07202016   \n",
       "1        1      TX   ...           G        R        M     1990  10222016   \n",
       "2        1      FL   ...           G        O        M     1940  07052016   \n",
       "3        1      CA   ...           G        O        M     1991  10272016   \n",
       "5        1      GA   ...           T        N        M     1965  10072016   \n",
       "\n",
       "  gender airline       admnum  fltno visatype  \n",
       "0      F      JL  56582674633  00782       WT  \n",
       "1      M     *GA  94361995930  XBLNG       B2  \n",
       "2      M      LH  55780468433  00464       WT  \n",
       "3      M      QR  94789696030  00739       B2  \n",
       "5      M      DL    736852585    910       B2  \n",
       "\n",
       "[5 rows x 25 columns]"
      ]
     },
     "execution_count": 10,
     "metadata": {},
     "output_type": "execute_result"
    }
   ],
   "source": [
    "df = df.dropna()\n",
    "df.head()"
   ]
  },
  {
   "cell_type": "code",
   "execution_count": 11,
   "metadata": {},
   "outputs": [
    {
     "name": "stdout",
     "output_type": "stream",
     "text": [
      "           Column Name  Count Percentage\n",
      "            Unnamed: 0      0     0.00\n",
      "                 cicid      0     0.00\n",
      "                 i94yr      0     0.00\n",
      "                i94mon      0     0.00\n",
      "                i94cit      0     0.00\n",
      "                i94res      0     0.00\n",
      "               i94port      0     0.00\n",
      "               arrdate      0     0.00\n",
      "               i94mode      0     0.00\n",
      "               i94addr      0     0.00\n",
      "               depdate      0     0.00\n",
      "                i94bir      0     0.00\n",
      "               i94visa      0     0.00\n",
      "                 count      0     0.00\n",
      "              dtadfile      0     0.00\n",
      "               entdepa      0     0.00\n",
      "               entdepd      0     0.00\n",
      "               matflag      0     0.00\n",
      "               biryear      0     0.00\n",
      "               dtaddto      0     0.00\n",
      "                gender      0     0.00\n",
      "               airline      0     0.00\n",
      "                admnum      0     0.00\n",
      "                 fltno      0     0.00\n",
      "              visatype      0     0.00\n",
      "Number of total records is 757.\n",
      "\n"
     ]
    }
   ],
   "source": [
    "check_NaN_Values_DF(df,df.columns)"
   ]
  },
  {
   "cell_type": "code",
   "execution_count": 12,
   "metadata": {},
   "outputs": [
    {
     "name": "stdout",
     "output_type": "stream",
     "text": [
      "Distribution of visitors by year and destination state \n"
     ]
    },
    {
     "data": {
      "text/html": [
       "<div>\n",
       "<style scoped>\n",
       "    .dataframe tbody tr th:only-of-type {\n",
       "        vertical-align: middle;\n",
       "    }\n",
       "\n",
       "    .dataframe tbody tr th {\n",
       "        vertical-align: top;\n",
       "    }\n",
       "\n",
       "    .dataframe thead th {\n",
       "        text-align: right;\n",
       "    }\n",
       "</style>\n",
       "<table border=\"1\" class=\"dataframe\">\n",
       "  <thead>\n",
       "    <tr style=\"text-align: right;\">\n",
       "      <th></th>\n",
       "      <th></th>\n",
       "      <th>cicid</th>\n",
       "    </tr>\n",
       "    <tr>\n",
       "      <th>i94yr</th>\n",
       "      <th>i94addr</th>\n",
       "      <th></th>\n",
       "    </tr>\n",
       "  </thead>\n",
       "  <tbody>\n",
       "    <tr>\n",
       "      <th rowspan=\"5\" valign=\"top\">2016</th>\n",
       "      <th>AL</th>\n",
       "      <td>3</td>\n",
       "    </tr>\n",
       "    <tr>\n",
       "      <th>AR</th>\n",
       "      <td>1</td>\n",
       "    </tr>\n",
       "    <tr>\n",
       "      <th>AZ</th>\n",
       "      <td>4</td>\n",
       "    </tr>\n",
       "    <tr>\n",
       "      <th>CA</th>\n",
       "      <td>135</td>\n",
       "    </tr>\n",
       "    <tr>\n",
       "      <th>CO</th>\n",
       "      <td>4</td>\n",
       "    </tr>\n",
       "  </tbody>\n",
       "</table>\n",
       "</div>"
      ],
      "text/plain": [
       "               cicid\n",
       "i94yr i94addr       \n",
       "2016  AL           3\n",
       "      AR           1\n",
       "      AZ           4\n",
       "      CA         135\n",
       "      CO           4"
      ]
     },
     "execution_count": 12,
     "metadata": {},
     "output_type": "execute_result"
    }
   ],
   "source": [
    "print(\"Distribution of visitors by year and destination state \")\n",
    "df[['cicid','i94yr','i94addr']].groupby(['i94yr','i94addr']).count().head()"
   ]
  },
  {
   "cell_type": "code",
   "execution_count": 13,
   "metadata": {},
   "outputs": [
    {
     "data": {
      "text/plain": [
       "array([209, 582, 148, 297, 577, 245, 113, 438, 260, 512, 746, 111, 251,\n",
       "       268, 213, 135, 133, 373, 126, 252, 689, 687, 129, 528, 123, 691,\n",
       "       107, 103, 130, 694, 368, 575, 254, 116, 514, 273, 692, 117, 131,\n",
       "       579, 164, 263, 124, 602, 121, 162, 274, 464, 690, 207, 696, 104,\n",
       "       525, 105, 574, 576, 585, 272, 108, 114, 526, 603, 513, 516, 218,\n",
       "       332, 204, 140, 296, 258, 201, 257, 520, 718, 261, 586, 115, 299,\n",
       "       343, 688, 141, 350, 340, 734])"
      ]
     },
     "execution_count": 13,
     "metadata": {},
     "output_type": "execute_result"
    }
   ],
   "source": [
    "df['i94cit'].unique()"
   ]
  },
  {
   "cell_type": "code",
   "execution_count": 14,
   "metadata": {},
   "outputs": [
    {
     "data": {
      "text/plain": [
       "<matplotlib.axes._subplots.AxesSubplot at 0x7fb7c1f47828>"
      ]
     },
     "execution_count": 14,
     "metadata": {},
     "output_type": "execute_result"
    },
    {
     "data": {
      "image/png": "[encoded data removed]",
      "text/plain": [
       "<matplotlib.figure.Figure at 0x7fb7c1f30860>"
      ]
     },
     "metadata": {
      "needs_background": "light"
     },
     "output_type": "display_data"
    }
   ],
   "source": [
    "df['i94cit'].plot.hist(title='distribution of i94cit')"
   ]
  },
  {
   "cell_type": "code",
   "execution_count": 15,
   "metadata": {},
   "outputs": [
    {
     "data": {
      "text/plain": [
       "array([209, 582, 112, 297, 577, 245, 135, 438, 260, 512, 158, 511, 251,\n",
       "       268, 213, 264, 509, 324, 689, 687, 129, 528, 123, 691, 107, 103,\n",
       "       130, 694, 368, 575, 276, 116, 514, 124, 273, 692, 117, 131, 579,\n",
       "       164, 126, 111, 263, 602, 121, 162, 274, 690, 207, 696, 104, 525,\n",
       "       105, 518, 576, 585, 272, 108, 127, 526, 603, 513, 516, 218, 296,\n",
       "       204, 464, 140, 258, 201, 114, 257, 520, 206, 243, 261, 586, 115,\n",
       "       299, 343, 688, 141, 350, 332, 340, 120])"
      ]
     },
     "execution_count": 15,
     "metadata": {},
     "output_type": "execute_result"
    }
   ],
   "source": [
    "df['i94res'].unique()"
   ]
  },
  {
   "cell_type": "code",
   "execution_count": 16,
   "metadata": {},
   "outputs": [
    {
     "data": {
      "text/plain": [
       "<matplotlib.axes._subplots.AxesSubplot at 0x7fb7bfe36860>"
      ]
     },
     "execution_count": 16,
     "metadata": {},
     "output_type": "execute_result"
    },
    {
     "data": {
      "image/png": "[encoded data removed]",
      "text/plain": [
       "<matplotlib.figure.Figure at 0x7fb7c1f308d0>"
      ]
     },
     "metadata": {
      "needs_background": "light"
     },
     "output_type": "display_data"
    }
   ],
   "source": [
    "df['i94res'].plot.hist(title='distribution of i94res')"
   ]
  },
  {
   "cell_type": "code",
   "execution_count": 17,
   "metadata": {},
   "outputs": [
    {
     "data": {
      "text/plain": [
       "array([1, 2])"
      ]
     },
     "execution_count": 17,
     "metadata": {},
     "output_type": "execute_result"
    }
   ],
   "source": [
    "df['i94mode'].unique()"
   ]
  },
  {
   "cell_type": "code",
   "execution_count": 18,
   "metadata": {},
   "outputs": [
    {
     "data": {
      "text/plain": [
       "<matplotlib.axes._subplots.AxesSubplot at 0x7f8ba2669390>"
      ]
     },
     "execution_count": 18,
     "metadata": {},
     "output_type": "execute_result"
    },
    {
     "data": {
      "image/png": "[encoded data removed]",
      "text/plain": [
       "<matplotlib.figure.Figure at 0x7f8ba2683940>"
      ]
     },
     "metadata": {
      "needs_background": "light"
     },
     "output_type": "display_data"
    }
   ],
   "source": [
    "df['i94mode'].plot.hist(title='distribution of i94mode')"
   ]
  },
  {
   "cell_type": "code",
   "execution_count": 59,
   "metadata": {},
   "outputs": [
    {
     "data": {
      "text/plain": [
       "array(['G', 'T', 'A', 'K', 'U', 'H', 'P'], dtype=object)"
      ]
     },
     "execution_count": 59,
     "metadata": {},
     "output_type": "execute_result"
    }
   ],
   "source": [
    "df['entdepa'].unique()"
   ]
  },
  {
   "cell_type": "code",
   "execution_count": 61,
   "metadata": {},
   "outputs": [],
   "source": [
    "#df['entdepa'].plot.hist()"
   ]
  },
  {
   "cell_type": "code",
   "execution_count": 62,
   "metadata": {},
   "outputs": [
    {
     "data": {
      "text/plain": [
       "array(['O', 'R', 'N', 'K', 'D', 'I', 'Q', 'J', 'L'], dtype=object)"
      ]
     },
     "execution_count": 62,
     "metadata": {},
     "output_type": "execute_result"
    }
   ],
   "source": [
    "df['entdepd'].unique()"
   ]
  },
  {
   "cell_type": "code",
   "execution_count": 47,
   "metadata": {},
   "outputs": [
    {
     "data": {
      "text/plain": [
       "array(['WT', 'B2', 'B1', 'GMT', 'WB', 'F1', 'E2', 'CP'], dtype=object)"
      ]
     },
     "execution_count": 47,
     "metadata": {},
     "output_type": "execute_result"
    }
   ],
   "source": [
    "df['visatype'].unique()"
   ]
  },
  {
   "cell_type": "code",
   "execution_count": 24,
   "metadata": {},
   "outputs": [
    {
     "data": {
      "text/html": [
       "<div>\n",
       "<style scoped>\n",
       "    .dataframe tbody tr th:only-of-type {\n",
       "        vertical-align: middle;\n",
       "    }\n",
       "\n",
       "    .dataframe tbody tr th {\n",
       "        vertical-align: top;\n",
       "    }\n",
       "\n",
       "    .dataframe thead th {\n",
       "        text-align: right;\n",
       "    }\n",
       "</style>\n",
       "<table border=\"1\" class=\"dataframe\">\n",
       "  <thead>\n",
       "    <tr style=\"text-align: right;\">\n",
       "      <th></th>\n",
       "      <th></th>\n",
       "      <th>admnum</th>\n",
       "    </tr>\n",
       "    <tr>\n",
       "      <th>i94yr</th>\n",
       "      <th>visatype</th>\n",
       "      <th></th>\n",
       "    </tr>\n",
       "  </thead>\n",
       "  <tbody>\n",
       "    <tr>\n",
       "      <th rowspan=\"5\" valign=\"top\">2016</th>\n",
       "      <th>B1</th>\n",
       "      <td>54</td>\n",
       "    </tr>\n",
       "    <tr>\n",
       "      <th>B2</th>\n",
       "      <td>288</td>\n",
       "    </tr>\n",
       "    <tr>\n",
       "      <th>CP</th>\n",
       "      <td>1</td>\n",
       "    </tr>\n",
       "    <tr>\n",
       "      <th>E2</th>\n",
       "      <td>3</td>\n",
       "    </tr>\n",
       "    <tr>\n",
       "      <th>F1</th>\n",
       "      <td>7</td>\n",
       "    </tr>\n",
       "  </tbody>\n",
       "</table>\n",
       "</div>"
      ],
      "text/plain": [
       "                admnum\n",
       "i94yr visatype        \n",
       "2016  B1            54\n",
       "      B2           288\n",
       "      CP             1\n",
       "      E2             3\n",
       "      F1             7"
      ]
     },
     "execution_count": 24,
     "metadata": {},
     "output_type": "execute_result"
    }
   ],
   "source": [
    "df[['admnum','i94yr','visatype']].groupby(['i94yr','visatype']).count().head() "
   ]
  },
  {
   "cell_type": "markdown",
   "metadata": {},
   "source": [
    "Values of visatype (2)\n",
    " - B-1 : Visa Holders-Business\n",
    " - B-2 : Visa Holders-Pleasure\n",
    " - E-1 : Visa Holders-Treaty Trader\n",
    " - E-2 : Visa Holders-Treaty Investor\n",
    " - F-1 : Visa Holders-Students\n",
    " - F-2 : Visa Holders-Family Members of Students\n",
    " - GMB : Guam Visa Waiver-Business\n",
    " - GMT : Guam Visa Waiver-Tourist\n",
    " - I : Visa Holders-Foreign Information Media\n",
    " - M-1 : Visa Holders-Vocational Students\n",
    " - M-2 : Visa Holders-Family Members of Vocational Students\n",
    " - WB : Visa Waiver-Business\n",
    " - WT : Visa Waiver-Tourist"
   ]
  },
  {
   "cell_type": "code",
   "execution_count": 67,
   "metadata": {},
   "outputs": [
    {
     "data": {
      "text/plain": [
       "array([2, 1, 3])"
      ]
     },
     "execution_count": 67,
     "metadata": {},
     "output_type": "execute_result"
    }
   ],
   "source": [
    "df['i94visa'].unique()"
   ]
  },
  {
   "cell_type": "code",
   "execution_count": 68,
   "metadata": {},
   "outputs": [
    {
     "data": {
      "text/html": [
       "<div>\n",
       "<style scoped>\n",
       "    .dataframe tbody tr th:only-of-type {\n",
       "        vertical-align: middle;\n",
       "    }\n",
       "\n",
       "    .dataframe tbody tr th {\n",
       "        vertical-align: top;\n",
       "    }\n",
       "\n",
       "    .dataframe thead th {\n",
       "        text-align: right;\n",
       "    }\n",
       "</style>\n",
       "<table border=\"1\" class=\"dataframe\">\n",
       "  <thead>\n",
       "    <tr style=\"text-align: right;\">\n",
       "      <th></th>\n",
       "      <th>admnum</th>\n",
       "    </tr>\n",
       "    <tr>\n",
       "      <th>i94visa</th>\n",
       "      <th></th>\n",
       "    </tr>\n",
       "  </thead>\n",
       "  <tbody>\n",
       "    <tr>\n",
       "      <th>1</th>\n",
       "      <td>111</td>\n",
       "    </tr>\n",
       "    <tr>\n",
       "      <th>2</th>\n",
       "      <td>639</td>\n",
       "    </tr>\n",
       "    <tr>\n",
       "      <th>3</th>\n",
       "      <td>7</td>\n",
       "    </tr>\n",
       "  </tbody>\n",
       "</table>\n",
       "</div>"
      ],
      "text/plain": [
       "         admnum\n",
       "i94visa        \n",
       "1           111\n",
       "2           639\n",
       "3             7"
      ]
     },
     "execution_count": 68,
     "metadata": {},
     "output_type": "execute_result"
    }
   ],
   "source": [
    "df[['admnum','i94visa']].groupby('i94visa').count()"
   ]
  },
  {
   "cell_type": "code",
   "execution_count": 19,
   "metadata": {},
   "outputs": [
    {
     "name": "stdout",
     "output_type": "stream",
     "text": [
      "Index(['admnum'], dtype='object')\n"
     ]
    },
    {
     "data": {
      "text/html": [
       "<div>\n",
       "<style scoped>\n",
       "    .dataframe tbody tr th:only-of-type {\n",
       "        vertical-align: middle;\n",
       "    }\n",
       "\n",
       "    .dataframe tbody tr th {\n",
       "        vertical-align: top;\n",
       "    }\n",
       "\n",
       "    .dataframe thead th {\n",
       "        text-align: right;\n",
       "    }\n",
       "</style>\n",
       "<table border=\"1\" class=\"dataframe\">\n",
       "  <thead>\n",
       "    <tr style=\"text-align: right;\">\n",
       "      <th></th>\n",
       "      <th></th>\n",
       "      <th>admnum</th>\n",
       "    </tr>\n",
       "    <tr>\n",
       "      <th>visatype</th>\n",
       "      <th>i94visa</th>\n",
       "      <th></th>\n",
       "    </tr>\n",
       "  </thead>\n",
       "  <tbody>\n",
       "    <tr>\n",
       "      <th>B1</th>\n",
       "      <th>1</th>\n",
       "      <td>54</td>\n",
       "    </tr>\n",
       "    <tr>\n",
       "      <th>B2</th>\n",
       "      <th>2</th>\n",
       "      <td>288</td>\n",
       "    </tr>\n",
       "    <tr>\n",
       "      <th>CP</th>\n",
       "      <th>2</th>\n",
       "      <td>1</td>\n",
       "    </tr>\n",
       "    <tr>\n",
       "      <th>E2</th>\n",
       "      <th>1</th>\n",
       "      <td>3</td>\n",
       "    </tr>\n",
       "    <tr>\n",
       "      <th>F1</th>\n",
       "      <th>3</th>\n",
       "      <td>7</td>\n",
       "    </tr>\n",
       "    <tr>\n",
       "      <th>GMT</th>\n",
       "      <th>2</th>\n",
       "      <td>18</td>\n",
       "    </tr>\n",
       "    <tr>\n",
       "      <th>WB</th>\n",
       "      <th>1</th>\n",
       "      <td>54</td>\n",
       "    </tr>\n",
       "    <tr>\n",
       "      <th>WT</th>\n",
       "      <th>2</th>\n",
       "      <td>332</td>\n",
       "    </tr>\n",
       "  </tbody>\n",
       "</table>\n",
       "</div>"
      ],
      "text/plain": [
       "                  admnum\n",
       "visatype i94visa        \n",
       "B1       1            54\n",
       "B2       2           288\n",
       "CP       2             1\n",
       "E2       1             3\n",
       "F1       3             7\n",
       "GMT      2            18\n",
       "WB       1            54\n",
       "WT       2           332"
      ]
     },
     "execution_count": 19,
     "metadata": {},
     "output_type": "execute_result"
    }
   ],
   "source": [
    "df_res = df[['admnum','visatype','i94visa']].groupby(['visatype','i94visa']).count()\n",
    "print(df_res.columns)\n",
    "df_res"
   ]
  },
  {
   "cell_type": "code",
   "execution_count": 52,
   "metadata": {},
   "outputs": [
    {
     "data": {
      "text/html": [
       "<div>\n",
       "<style scoped>\n",
       "    .dataframe tbody tr th:only-of-type {\n",
       "        vertical-align: middle;\n",
       "    }\n",
       "\n",
       "    .dataframe tbody tr th {\n",
       "        vertical-align: top;\n",
       "    }\n",
       "\n",
       "    .dataframe thead th {\n",
       "        text-align: right;\n",
       "    }\n",
       "</style>\n",
       "<table border=\"1\" class=\"dataframe\">\n",
       "  <thead>\n",
       "    <tr style=\"text-align: right;\">\n",
       "      <th></th>\n",
       "      <th>i94visa</th>\n",
       "      <th>visatype</th>\n",
       "    </tr>\n",
       "  </thead>\n",
       "  <tbody>\n",
       "    <tr>\n",
       "      <th>0</th>\n",
       "      <td>2</td>\n",
       "      <td>WT</td>\n",
       "    </tr>\n",
       "    <tr>\n",
       "      <th>1</th>\n",
       "      <td>2</td>\n",
       "      <td>B2</td>\n",
       "    </tr>\n",
       "    <tr>\n",
       "      <th>30</th>\n",
       "      <td>1</td>\n",
       "      <td>B1</td>\n",
       "    </tr>\n",
       "    <tr>\n",
       "      <th>35</th>\n",
       "      <td>2</td>\n",
       "      <td>GMT</td>\n",
       "    </tr>\n",
       "    <tr>\n",
       "      <th>43</th>\n",
       "      <td>1</td>\n",
       "      <td>WB</td>\n",
       "    </tr>\n",
       "    <tr>\n",
       "      <th>70</th>\n",
       "      <td>3</td>\n",
       "      <td>F1</td>\n",
       "    </tr>\n",
       "    <tr>\n",
       "      <th>120</th>\n",
       "      <td>1</td>\n",
       "      <td>E2</td>\n",
       "    </tr>\n",
       "    <tr>\n",
       "      <th>752</th>\n",
       "      <td>2</td>\n",
       "      <td>CP</td>\n",
       "    </tr>\n",
       "  </tbody>\n",
       "</table>\n",
       "</div>"
      ],
      "text/plain": [
       "     i94visa visatype\n",
       "0          2       WT\n",
       "1          2       B2\n",
       "30         1       B1\n",
       "35         2      GMT\n",
       "43         1       WB\n",
       "70         3       F1\n",
       "120        1       E2\n",
       "752        2       CP"
      ]
     },
     "execution_count": 52,
     "metadata": {},
     "output_type": "execute_result"
    }
   ],
   "source": [
    "test_df = df[['i94visa','visatype']].drop_duplicates()\n",
    "test_df.head(11)"
   ]
  },
  {
   "cell_type": "markdown",
   "metadata": {},
   "source": [
    "Encoded value of <b>i94visa</b> \n",
    " - 1: Business\n",
    " - 2: Tourist \n",
    " - 3: Student"
   ]
  },
  {
   "cell_type": "code",
   "execution_count": 63,
   "metadata": {},
   "outputs": [
    {
     "data": {
      "text/plain": [
       "array([ 1.])"
      ]
     },
     "execution_count": 63,
     "metadata": {},
     "output_type": "execute_result"
    }
   ],
   "source": [
    "df['count'].unique()"
   ]
  },
  {
   "cell_type": "markdown",
   "metadata": {},
   "source": [
    "There is only 1 value for count column."
   ]
  },
  {
   "cell_type": "code",
   "execution_count": 66,
   "metadata": {},
   "outputs": [
    {
     "data": {
      "text/html": [
       "<div>\n",
       "<style scoped>\n",
       "    .dataframe tbody tr th:only-of-type {\n",
       "        vertical-align: middle;\n",
       "    }\n",
       "\n",
       "    .dataframe tbody tr th {\n",
       "        vertical-align: top;\n",
       "    }\n",
       "\n",
       "    .dataframe thead th {\n",
       "        text-align: right;\n",
       "    }\n",
       "</style>\n",
       "<table border=\"1\" class=\"dataframe\">\n",
       "  <thead>\n",
       "    <tr style=\"text-align: right;\">\n",
       "      <th></th>\n",
       "      <th>admnum</th>\n",
       "    </tr>\n",
       "    <tr>\n",
       "      <th>count</th>\n",
       "      <th></th>\n",
       "    </tr>\n",
       "  </thead>\n",
       "  <tbody>\n",
       "    <tr>\n",
       "      <th>1.0</th>\n",
       "      <td>757</td>\n",
       "    </tr>\n",
       "  </tbody>\n",
       "</table>\n",
       "</div>"
      ],
      "text/plain": [
       "       admnum\n",
       "count        \n",
       "1.0       757"
      ]
     },
     "execution_count": 66,
     "metadata": {},
     "output_type": "execute_result"
    }
   ],
   "source": [
    "df[['admnum','count']].groupby('count').count()"
   ]
  },
  {
   "cell_type": "markdown",
   "metadata": {},
   "source": [
    "We can consider dropping count column."
   ]
  },
  {
   "cell_type": "code",
   "execution_count": 21,
   "metadata": {},
   "outputs": [
    {
     "data": {
      "text/plain": [
       "array([ 20573.,  20568.,  20571.,  20581.,  20606.,  20635.,  20554.,\n",
       "        20565.,  20575.,  20560.,  20552.,  20596.,  20567.,  20574.,\n",
       "        20610.,  20676.,  20569.,  20561.,  20580.,  20562.,  20551.,\n",
       "        20577.,  20634.,  20570.,  20651.,  20579.,  20553.,  20578.,\n",
       "        20619.,  20572.,  20564.,  20589.,  20582.,  20639.,  20548.,\n",
       "        20563.,  20576.,  20605.,  20585.,  20549.,  20557.,  20586.,\n",
       "        20583.,  20566.,  20626.,  20558.,  20600.,  20555.,  20556.,\n",
       "        20594.,  20559.,  20623.,  20584.,  20667.,  20550.,  20664.,\n",
       "        20638.,  20620.,  20715.,  20633.,  20599.,  20591.,  20627.,\n",
       "        20590.,  20665.,  20661.,  20604.,  20613.,  20624.,  20641.,\n",
       "        20587.,  20654.,  20609.,  20657.,  20592.,  20603.,  20602.,\n",
       "        20588.,  20612.,  20611.,  20630.,  20595.,  20660.,  20659.,\n",
       "        20598.,  20621.,  20593.,  20547.,  20597.,  20693.,  20703.,\n",
       "        20652.,  20677.,  20647.,  20701.,  20679.,  20645.,  20697.,\n",
       "        20643.,  20625.,  20674.,  20663.,  20601.])"
      ]
     },
     "execution_count": 21,
     "metadata": {},
     "output_type": "execute_result"
    }
   ],
   "source": [
    "df['depdate'].unique()"
   ]
  },
  {
   "cell_type": "code",
   "execution_count": 23,
   "metadata": {},
   "outputs": [
    {
     "data": {
      "text/plain": [
       "<matplotlib.axes._subplots.AxesSubplot at 0x7f8ba25765f8>"
      ]
     },
     "execution_count": 23,
     "metadata": {},
     "output_type": "execute_result"
    },
    {
     "data": {
      "image/png": "[encoded data removed]",
      "text/plain": [
       "<matplotlib.figure.Figure at 0x7f8ba232f780>"
      ]
     },
     "metadata": {
      "needs_background": "light"
     },
     "output_type": "display_data"
    }
   ],
   "source": [
    "#df[['admnum','depdate']].groupby('depdate').count()\n",
    "df['depdate'].plot.hist(title='distribution of depdate')"
   ]
  },
  {
   "cell_type": "code",
   "execution_count": 70,
   "metadata": {},
   "outputs": [
    {
     "data": {
      "text/plain": [
       "array(['07202016', '10222016', '07052016', '10272016', '10072016',\n",
       "       '10112016', '06302016', '07252016', '10252016', '07062016',\n",
       "       '10052016', '10232016', '10132016', '07152016', '10142016',\n",
       "       '07012016', '10262016', '07092016', '10292016', '10242016',\n",
       "       '06112016', '10152016', '10032016', '07272016', '07042016',\n",
       "       '10102016', '07212016', '07072016', '09302016', '10092016',\n",
       "       '07132016', '06062016', '07122016', '10162016', '07222016', 'D/S',\n",
       "       '07112016', '10212016', '10282016', '07262016', '07162016',\n",
       "       '07282016', '07182016', '10022016', '06152016', '07022016',\n",
       "       '07142016', '06292016', '10042016', '04082018', '05082016',\n",
       "       '07172016', '10062016', '07242016', '10202016', '05232016',\n",
       "       '10192016', '07232016', '07032016', '10182016', '10012016',\n",
       "       '10122016', '10172016', '05272016', '07102016', '05172016',\n",
       "       '05152016', '10082016', '07192016', '07082016', '06132016',\n",
       "       '09012016', '05302016', '04202016', '05162016', '05222016',\n",
       "       '06022016', '06122016', '05062016', '05032016', '08062016',\n",
       "       '04222018', '12112017'], dtype=object)"
      ]
     },
     "execution_count": 70,
     "metadata": {},
     "output_type": "execute_result"
    }
   ],
   "source": [
    "df['dtaddto'].unique()"
   ]
  },
  {
   "cell_type": "code",
   "execution_count": 7,
   "metadata": {},
   "outputs": [
    {
     "data": {
      "text/html": [
       "<div>\n",
       "<style scoped>\n",
       "    .dataframe tbody tr th:only-of-type {\n",
       "        vertical-align: middle;\n",
       "    }\n",
       "\n",
       "    .dataframe tbody tr th {\n",
       "        vertical-align: top;\n",
       "    }\n",
       "\n",
       "    .dataframe thead th {\n",
       "        text-align: right;\n",
       "    }\n",
       "</style>\n",
       "<table border=\"1\" class=\"dataframe\">\n",
       "  <thead>\n",
       "    <tr style=\"text-align: right;\">\n",
       "      <th></th>\n",
       "      <th>arrdate</th>\n",
       "      <th>depdate</th>\n",
       "      <th>dtaddto</th>\n",
       "    </tr>\n",
       "  </thead>\n",
       "  <tbody>\n",
       "    <tr>\n",
       "      <th>0</th>\n",
       "      <td>20566.0</td>\n",
       "      <td>20573.0</td>\n",
       "      <td>07202016</td>\n",
       "    </tr>\n",
       "    <tr>\n",
       "      <th>1</th>\n",
       "      <td>20567.0</td>\n",
       "      <td>20568.0</td>\n",
       "      <td>10222016</td>\n",
       "    </tr>\n",
       "    <tr>\n",
       "      <th>2</th>\n",
       "      <td>20551.0</td>\n",
       "      <td>20571.0</td>\n",
       "      <td>07052016</td>\n",
       "    </tr>\n",
       "    <tr>\n",
       "      <th>3</th>\n",
       "      <td>20572.0</td>\n",
       "      <td>20581.0</td>\n",
       "      <td>10272016</td>\n",
       "    </tr>\n",
       "    <tr>\n",
       "      <th>4</th>\n",
       "      <td>20550.0</td>\n",
       "      <td>20553.0</td>\n",
       "      <td>07042016</td>\n",
       "    </tr>\n",
       "  </tbody>\n",
       "</table>\n",
       "</div>"
      ],
      "text/plain": [
       "   arrdate  depdate   dtaddto\n",
       "0  20566.0  20573.0  07202016\n",
       "1  20567.0  20568.0  10222016\n",
       "2  20551.0  20571.0  07052016\n",
       "3  20572.0  20581.0  10272016\n",
       "4  20550.0  20553.0  07042016"
      ]
     },
     "execution_count": 7,
     "metadata": {},
     "output_type": "execute_result"
    }
   ],
   "source": [
    "a_df = df[['arrdate','depdate','dtaddto']]\n",
    "a_df.head()"
   ]
  },
  {
   "cell_type": "code",
   "execution_count": 11,
   "metadata": {},
   "outputs": [],
   "source": [
    "#a_df['adate'] = a_df.arrdate + a_df.dtaddto\n",
    "#a_df['ddate'] = a_df.depdate + a_df.dtaddto\n",
    "#a_df.head()"
   ]
  },
  {
   "cell_type": "code",
   "execution_count": 75,
   "metadata": {},
   "outputs": [
    {
     "data": {
      "text/plain": [
       "array([61, 26, 76, 25, 51, 48, 33,  4, 72, 62, 34, 21, 46, 14, 41, 22, 64,\n",
       "       17, 42, 35, 16, 40, 27, 56, 32,  8, 59, 38, 43, 10, 52, 19, 31, 58,\n",
       "       66, 68, 44, 36, 12, 60, 18, 63, 50, 65, 29,  6, 73, 71, 39, 47, 37,\n",
       "       54, 49, 28, 78, 55, 53, 69, 23, 80, 11, 75, 84, 45, 57, 67, 30,  1,\n",
       "       77, 70,  5, 24, 15, 83, 20, 13, 81, 93,  3,  9, 87, 74, 85,  2])"
      ]
     },
     "execution_count": 75,
     "metadata": {},
     "output_type": "execute_result"
    }
   ],
   "source": [
    "f['i94bir'].unique()"
   ]
  },
  {
   "cell_type": "code",
   "execution_count": 24,
   "metadata": {},
   "outputs": [
    {
     "name": "stderr",
     "output_type": "stream",
     "text": [
      "/opt/conda/lib/python3.6/site-packages/ipykernel_launcher.py:2: SettingWithCopyWarning: \n",
      "A value is trying to be set on a copy of a slice from a DataFrame.\n",
      "Try using .loc[row_indexer,col_indexer] = value instead\n",
      "\n",
      "See the caveats in the documentation: http://pandas.pydata.org/pandas-docs/stable/indexing.html#indexing-view-versus-copy\n",
      "  \n"
     ]
    },
    {
     "data": {
      "text/html": [
       "<div>\n",
       "<style scoped>\n",
       "    .dataframe tbody tr th:only-of-type {\n",
       "        vertical-align: middle;\n",
       "    }\n",
       "\n",
       "    .dataframe tbody tr th {\n",
       "        vertical-align: top;\n",
       "    }\n",
       "\n",
       "    .dataframe thead th {\n",
       "        text-align: right;\n",
       "    }\n",
       "</style>\n",
       "<table border=\"1\" class=\"dataframe\">\n",
       "  <thead>\n",
       "    <tr style=\"text-align: right;\">\n",
       "      <th></th>\n",
       "      <th>cicid</th>\n",
       "      <th>i94yr</th>\n",
       "      <th>biryear</th>\n",
       "      <th>i94bir</th>\n",
       "      <th>(i94yr-biryear)</th>\n",
       "    </tr>\n",
       "  </thead>\n",
       "  <tbody>\n",
       "    <tr>\n",
       "      <th>0</th>\n",
       "      <td>4084316</td>\n",
       "      <td>2016</td>\n",
       "      <td>1955</td>\n",
       "      <td>61</td>\n",
       "      <td>61</td>\n",
       "    </tr>\n",
       "    <tr>\n",
       "      <th>1</th>\n",
       "      <td>4422636</td>\n",
       "      <td>2016</td>\n",
       "      <td>1990</td>\n",
       "      <td>26</td>\n",
       "      <td>26</td>\n",
       "    </tr>\n",
       "    <tr>\n",
       "      <th>2</th>\n",
       "      <td>1195600</td>\n",
       "      <td>2016</td>\n",
       "      <td>1940</td>\n",
       "      <td>76</td>\n",
       "      <td>76</td>\n",
       "    </tr>\n",
       "    <tr>\n",
       "      <th>3</th>\n",
       "      <td>5291768</td>\n",
       "      <td>2016</td>\n",
       "      <td>1991</td>\n",
       "      <td>25</td>\n",
       "      <td>25</td>\n",
       "    </tr>\n",
       "    <tr>\n",
       "      <th>5</th>\n",
       "      <td>1481650</td>\n",
       "      <td>2016</td>\n",
       "      <td>1965</td>\n",
       "      <td>51</td>\n",
       "      <td>51</td>\n",
       "    </tr>\n",
       "  </tbody>\n",
       "</table>\n",
       "</div>"
      ],
      "text/plain": [
       "     cicid  i94yr  biryear  i94bir  (i94yr-biryear)\n",
       "0  4084316   2016     1955      61               61\n",
       "1  4422636   2016     1990      26               26\n",
       "2  1195600   2016     1940      76               76\n",
       "3  5291768   2016     1991      25               25\n",
       "5  1481650   2016     1965      51               51"
      ]
     },
     "execution_count": 24,
     "metadata": {},
     "output_type": "execute_result"
    }
   ],
   "source": [
    "test_df = df[['cicid','i94yr','biryear','i94bir']]\n",
    "test_df['(i94yr-biryear)'] = test_df.i94yr - test_df.biryear \n",
    "test_df.head()"
   ]
  },
  {
   "cell_type": "code",
   "execution_count": 25,
   "metadata": {},
   "outputs": [
    {
     "data": {
      "text/plain": [
       "<matplotlib.axes._subplots.AxesSubplot at 0x7f8bb196b978>"
      ]
     },
     "execution_count": 25,
     "metadata": {},
     "output_type": "execute_result"
    },
    {
     "data": {
      "image/png": "[encoded data removed]",
      "text/plain": [
       "<matplotlib.figure.Figure at 0x7f8ba1c4ddd8>"
      ]
     },
     "metadata": {
      "needs_background": "light"
     },
     "output_type": "display_data"
    }
   ],
   "source": [
    "df.i94bir.plot.hist(title='distribution of i94bir')"
   ]
  },
  {
   "cell_type": "code",
   "execution_count": null,
   "metadata": {},
   "outputs": [],
   "source": []
  },
  {
   "cell_type": "markdown",
   "metadata": {},
   "source": [
    "Immigration data has the following columns;\n",
    "\n",
    "| Column | Data Type | Description |\n",
    "|--------|-----------|-------------|\n",
    "| i94yr   |  .         |     Year of arrival date        |\n",
    "| i94mon  | . | Month of arrival date |\n",
    "| i94cit  | . | |\n",
    "| i94res  | . | | \n",
    "| i94port | . | Port of arrival |\n",
    "| arrdate | . | Arrival date |\n",
    "| i94mode | . | Mode of transportation(air, land, sea)| \n",
    "| i94addr | . | State of stay address|\n",
    "| depdate | . | Departure date| \n",
    "| i94bir  | . | I-94 Age = i94yr-biryear|\n",
    "| i94visa | . | I-94 Visa (1: Business, 2: Tourist, 3: Student)|\n",
    "| count   | . | Number of person | \n",
    "| dtadfile| . | |\n",
    "| visapost| . | |\n",
    "| occup   | . | Occupation? |\n",
    "| entdepa | . | |\n",
    "| entdepd | . | |\n",
    "| entdepu | . | |\n",
    "| matflag | . | |\n",
    "| biryear | . | Birth year|\n",
    "| dtaddto | . | |\n",
    "| gender  | . | Gender |\n",
    "| insnum  | . | INS Number |\n",
    "| airline | . | Airline Code |\n",
    "| admnum  | . | ADM Number|\n",
    "| fltno   | . | Flight Number|\n",
    "| visatype| . | Visa Type|"
   ]
  },
  {
   "cell_type": "code",
   "execution_count": 26,
   "metadata": {},
   "outputs": [
    {
     "name": "stdout",
     "output_type": "stream",
     "text": [
      "           Column Name  Count Percentage\n",
      "            Unnamed: 0      0     0.00\n",
      "                 cicid      0     0.00\n",
      "                 i94yr      0     0.00\n",
      "                i94mon      0     0.00\n",
      "                i94cit      0     0.00\n",
      "                i94res      0     0.00\n",
      "               i94port      0     0.00\n",
      "               arrdate      0     0.00\n",
      "               i94mode      0     0.00\n",
      "               i94addr      0     0.00\n",
      "               depdate      0     0.00\n",
      "                i94bir      0     0.00\n",
      "               i94visa      0     0.00\n",
      "                 count      0     0.00\n",
      "              dtadfile      0     0.00\n",
      "               entdepa      0     0.00\n",
      "               entdepd      0     0.00\n",
      "               matflag      0     0.00\n",
      "               biryear      0     0.00\n",
      "               dtaddto      0     0.00\n",
      "                gender      0     0.00\n",
      "               airline      0     0.00\n",
      "                admnum      0     0.00\n",
      "                 fltno      0     0.00\n",
      "              visatype      0     0.00\n",
      "Number of total records is 757.\n",
      "\n"
     ]
    }
   ],
   "source": [
    "check_NaN_Values_DF(df,df.columns)"
   ]
  },
  {
   "cell_type": "markdown",
   "metadata": {},
   "source": [
    "Let's look at possible dimension tables"
   ]
  },
  {
   "cell_type": "markdown",
   "metadata": {},
   "source": [
    "### Visitors"
   ]
  },
  {
   "cell_type": "code",
   "execution_count": 27,
   "metadata": {},
   "outputs": [
    {
     "data": {
      "text/html": [
       "<div>\n",
       "<style scoped>\n",
       "    .dataframe tbody tr th:only-of-type {\n",
       "        vertical-align: middle;\n",
       "    }\n",
       "\n",
       "    .dataframe tbody tr th {\n",
       "        vertical-align: top;\n",
       "    }\n",
       "\n",
       "    .dataframe thead th {\n",
       "        text-align: right;\n",
       "    }\n",
       "</style>\n",
       "<table border=\"1\" class=\"dataframe\">\n",
       "  <thead>\n",
       "    <tr style=\"text-align: right;\">\n",
       "      <th></th>\n",
       "      <th>cicid</th>\n",
       "      <th>biryear</th>\n",
       "      <th>gender</th>\n",
       "      <th>i94bir</th>\n",
       "    </tr>\n",
       "  </thead>\n",
       "  <tbody>\n",
       "    <tr>\n",
       "      <th>0</th>\n",
       "      <td>4084316</td>\n",
       "      <td>1955</td>\n",
       "      <td>F</td>\n",
       "      <td>61</td>\n",
       "    </tr>\n",
       "    <tr>\n",
       "      <th>1</th>\n",
       "      <td>4422636</td>\n",
       "      <td>1990</td>\n",
       "      <td>M</td>\n",
       "      <td>26</td>\n",
       "    </tr>\n",
       "    <tr>\n",
       "      <th>2</th>\n",
       "      <td>1195600</td>\n",
       "      <td>1940</td>\n",
       "      <td>M</td>\n",
       "      <td>76</td>\n",
       "    </tr>\n",
       "    <tr>\n",
       "      <th>3</th>\n",
       "      <td>5291768</td>\n",
       "      <td>1991</td>\n",
       "      <td>M</td>\n",
       "      <td>25</td>\n",
       "    </tr>\n",
       "    <tr>\n",
       "      <th>5</th>\n",
       "      <td>1481650</td>\n",
       "      <td>1965</td>\n",
       "      <td>M</td>\n",
       "      <td>51</td>\n",
       "    </tr>\n",
       "  </tbody>\n",
       "</table>\n",
       "</div>"
      ],
      "text/plain": [
       "     cicid  biryear gender  i94bir\n",
       "0  4084316     1955      F      61\n",
       "1  4422636     1990      M      26\n",
       "2  1195600     1940      M      76\n",
       "3  5291768     1991      M      25\n",
       "5  1481650     1965      M      51"
      ]
     },
     "execution_count": 27,
     "metadata": {},
     "output_type": "execute_result"
    }
   ],
   "source": [
    "visitors_df = df[['cicid','biryear','gender','i94bir']]\n",
    "visitors_df.head()"
   ]
  },
  {
   "cell_type": "markdown",
   "metadata": {},
   "source": [
    "### Visits"
   ]
  },
  {
   "cell_type": "code",
   "execution_count": 28,
   "metadata": {},
   "outputs": [
    {
     "data": {
      "text/html": [
       "<div>\n",
       "<style scoped>\n",
       "    .dataframe tbody tr th:only-of-type {\n",
       "        vertical-align: middle;\n",
       "    }\n",
       "\n",
       "    .dataframe tbody tr th {\n",
       "        vertical-align: top;\n",
       "    }\n",
       "\n",
       "    .dataframe thead th {\n",
       "        text-align: right;\n",
       "    }\n",
       "</style>\n",
       "<table border=\"1\" class=\"dataframe\">\n",
       "  <thead>\n",
       "    <tr style=\"text-align: right;\">\n",
       "      <th></th>\n",
       "      <th>cicid</th>\n",
       "      <th>i94yr</th>\n",
       "      <th>i94mon</th>\n",
       "      <th>i94cit</th>\n",
       "      <th>i94res</th>\n",
       "      <th>i94port</th>\n",
       "      <th>i94mode</th>\n",
       "      <th>i94addr</th>\n",
       "      <th>i94bir</th>\n",
       "      <th>biryear</th>\n",
       "      <th>i94visa</th>\n",
       "      <th>visatype</th>\n",
       "    </tr>\n",
       "  </thead>\n",
       "  <tbody>\n",
       "    <tr>\n",
       "      <th>0</th>\n",
       "      <td>4084316</td>\n",
       "      <td>2016</td>\n",
       "      <td>4</td>\n",
       "      <td>209</td>\n",
       "      <td>209</td>\n",
       "      <td>HHW</td>\n",
       "      <td>1</td>\n",
       "      <td>HI</td>\n",
       "      <td>61</td>\n",
       "      <td>1955</td>\n",
       "      <td>2</td>\n",
       "      <td>WT</td>\n",
       "    </tr>\n",
       "    <tr>\n",
       "      <th>1</th>\n",
       "      <td>4422636</td>\n",
       "      <td>2016</td>\n",
       "      <td>4</td>\n",
       "      <td>582</td>\n",
       "      <td>582</td>\n",
       "      <td>MCA</td>\n",
       "      <td>1</td>\n",
       "      <td>TX</td>\n",
       "      <td>26</td>\n",
       "      <td>1990</td>\n",
       "      <td>2</td>\n",
       "      <td>B2</td>\n",
       "    </tr>\n",
       "    <tr>\n",
       "      <th>2</th>\n",
       "      <td>1195600</td>\n",
       "      <td>2016</td>\n",
       "      <td>4</td>\n",
       "      <td>148</td>\n",
       "      <td>112</td>\n",
       "      <td>OGG</td>\n",
       "      <td>1</td>\n",
       "      <td>FL</td>\n",
       "      <td>76</td>\n",
       "      <td>1940</td>\n",
       "      <td>2</td>\n",
       "      <td>WT</td>\n",
       "    </tr>\n",
       "    <tr>\n",
       "      <th>3</th>\n",
       "      <td>5291768</td>\n",
       "      <td>2016</td>\n",
       "      <td>4</td>\n",
       "      <td>297</td>\n",
       "      <td>297</td>\n",
       "      <td>LOS</td>\n",
       "      <td>1</td>\n",
       "      <td>CA</td>\n",
       "      <td>25</td>\n",
       "      <td>1991</td>\n",
       "      <td>2</td>\n",
       "      <td>B2</td>\n",
       "    </tr>\n",
       "    <tr>\n",
       "      <th>5</th>\n",
       "      <td>1481650</td>\n",
       "      <td>2016</td>\n",
       "      <td>4</td>\n",
       "      <td>577</td>\n",
       "      <td>577</td>\n",
       "      <td>ATL</td>\n",
       "      <td>1</td>\n",
       "      <td>GA</td>\n",
       "      <td>51</td>\n",
       "      <td>1965</td>\n",
       "      <td>2</td>\n",
       "      <td>B2</td>\n",
       "    </tr>\n",
       "  </tbody>\n",
       "</table>\n",
       "</div>"
      ],
      "text/plain": [
       "     cicid  i94yr  i94mon  i94cit  i94res i94port  i94mode i94addr  i94bir  \\\n",
       "0  4084316   2016       4     209     209     HHW        1      HI      61   \n",
       "1  4422636   2016       4     582     582     MCA        1      TX      26   \n",
       "2  1195600   2016       4     148     112     OGG        1      FL      76   \n",
       "3  5291768   2016       4     297     297     LOS        1      CA      25   \n",
       "5  1481650   2016       4     577     577     ATL        1      GA      51   \n",
       "\n",
       "   biryear  i94visa visatype  \n",
       "0     1955        2       WT  \n",
       "1     1990        2       B2  \n",
       "2     1940        2       WT  \n",
       "3     1991        2       B2  \n",
       "5     1965        2       B2  "
      ]
     },
     "execution_count": 28,
     "metadata": {},
     "output_type": "execute_result"
    }
   ],
   "source": [
    "i94_df = df[['cicid', 'i94yr', 'i94mon', 'i94cit', 'i94res', 'i94port','i94mode', 'i94addr', 'i94bir','biryear', 'i94visa','visatype']]\n",
    "i94_df.head()"
   ]
  },
  {
   "cell_type": "code",
   "execution_count": 29,
   "metadata": {},
   "outputs": [
    {
     "data": {
      "text/plain": [
       "array([1, 2])"
      ]
     },
     "execution_count": 29,
     "metadata": {},
     "output_type": "execute_result"
    }
   ],
   "source": [
    "i94_df['i94mode'].unique()"
   ]
  },
  {
   "cell_type": "code",
   "execution_count": 30,
   "metadata": {},
   "outputs": [
    {
     "data": {
      "text/plain": [
       "<matplotlib.axes._subplots.AxesSubplot at 0x7f8ba18da400>"
      ]
     },
     "execution_count": 30,
     "metadata": {},
     "output_type": "execute_result"
    },
    {
     "data": {
      "image/png": "[encoded data removed]",
      "text/plain": [
       "<matplotlib.figure.Figure at 0x7f8ba20cb400>"
      ]
     },
     "metadata": {
      "needs_background": "light"
     },
     "output_type": "display_data"
    }
   ],
   "source": [
    "i94_df.i94mode.plot.hist()"
   ]
  },
  {
   "cell_type": "code",
   "execution_count": 31,
   "metadata": {},
   "outputs": [
    {
     "name": "stdout",
     "output_type": "stream",
     "text": [
      "Value_of_i94mode count\n",
      "1 756\n",
      "2 1\n"
     ]
    }
   ],
   "source": [
    "print(\"Value_of_i94mode count\")\n",
    "for v in i94_df['i94mode'].unique():\n",
    "    print(v,i94_df[ i94_df['i94mode'] == v]['cicid'].count())\n",
    "    "
   ]
  },
  {
   "cell_type": "code",
   "execution_count": 32,
   "metadata": {},
   "outputs": [
    {
     "name": "stdout",
     "output_type": "stream",
     "text": [
      "Top stay desitinations\n"
     ]
    },
    {
     "data": {
      "text/html": [
       "<div>\n",
       "<style scoped>\n",
       "    .dataframe tbody tr th:only-of-type {\n",
       "        vertical-align: middle;\n",
       "    }\n",
       "\n",
       "    .dataframe tbody tr th {\n",
       "        vertical-align: top;\n",
       "    }\n",
       "\n",
       "    .dataframe thead th {\n",
       "        text-align: right;\n",
       "    }\n",
       "</style>\n",
       "<table border=\"1\" class=\"dataframe\">\n",
       "  <thead>\n",
       "    <tr style=\"text-align: right;\">\n",
       "      <th></th>\n",
       "      <th>cicid</th>\n",
       "    </tr>\n",
       "    <tr>\n",
       "      <th>i94addr</th>\n",
       "      <th></th>\n",
       "    </tr>\n",
       "  </thead>\n",
       "  <tbody>\n",
       "    <tr>\n",
       "      <th>FL</th>\n",
       "      <td>148</td>\n",
       "    </tr>\n",
       "    <tr>\n",
       "      <th>NY</th>\n",
       "      <td>139</td>\n",
       "    </tr>\n",
       "    <tr>\n",
       "      <th>CA</th>\n",
       "      <td>135</td>\n",
       "    </tr>\n",
       "    <tr>\n",
       "      <th>HI</th>\n",
       "      <td>44</td>\n",
       "    </tr>\n",
       "    <tr>\n",
       "      <th>NV</th>\n",
       "      <td>32</td>\n",
       "    </tr>\n",
       "  </tbody>\n",
       "</table>\n",
       "</div>"
      ],
      "text/plain": [
       "         cicid\n",
       "i94addr       \n",
       "FL         148\n",
       "NY         139\n",
       "CA         135\n",
       "HI          44\n",
       "NV          32"
      ]
     },
     "execution_count": 32,
     "metadata": {},
     "output_type": "execute_result"
    }
   ],
   "source": [
    "print(\"Top stay desitinations\")\n",
    "test_df = df[['cicid', 'i94addr']]\n",
    "test_df = test_df.groupby('i94addr').count()\n",
    "test_df.sort_values(by=['cicid'], ascending=False).head(5)"
   ]
  },
  {
   "cell_type": "code",
   "execution_count": 33,
   "metadata": {},
   "outputs": [
    {
     "name": "stdout",
     "output_type": "stream",
     "text": [
      "Top stay destinations by age\n"
     ]
    },
    {
     "data": {
      "text/html": [
       "<div>\n",
       "<style scoped>\n",
       "    .dataframe tbody tr th:only-of-type {\n",
       "        vertical-align: middle;\n",
       "    }\n",
       "\n",
       "    .dataframe tbody tr th {\n",
       "        vertical-align: top;\n",
       "    }\n",
       "\n",
       "    .dataframe thead th {\n",
       "        text-align: right;\n",
       "    }\n",
       "</style>\n",
       "<table border=\"1\" class=\"dataframe\">\n",
       "  <thead>\n",
       "    <tr style=\"text-align: right;\">\n",
       "      <th></th>\n",
       "      <th></th>\n",
       "      <th>cicid</th>\n",
       "    </tr>\n",
       "    <tr>\n",
       "      <th>i94bir</th>\n",
       "      <th>i94addr</th>\n",
       "      <th></th>\n",
       "    </tr>\n",
       "  </thead>\n",
       "  <tbody>\n",
       "    <tr>\n",
       "      <th>42</th>\n",
       "      <th>CA</th>\n",
       "      <td>8</td>\n",
       "    </tr>\n",
       "    <tr>\n",
       "      <th>50</th>\n",
       "      <th>CA</th>\n",
       "      <td>7</td>\n",
       "    </tr>\n",
       "    <tr>\n",
       "      <th>35</th>\n",
       "      <th>NY</th>\n",
       "      <td>7</td>\n",
       "    </tr>\n",
       "    <tr>\n",
       "      <th>30</th>\n",
       "      <th>FL</th>\n",
       "      <td>6</td>\n",
       "    </tr>\n",
       "    <tr>\n",
       "      <th>44</th>\n",
       "      <th>NY</th>\n",
       "      <td>6</td>\n",
       "    </tr>\n",
       "  </tbody>\n",
       "</table>\n",
       "</div>"
      ],
      "text/plain": [
       "                cicid\n",
       "i94bir i94addr       \n",
       "42     CA           8\n",
       "50     CA           7\n",
       "35     NY           7\n",
       "30     FL           6\n",
       "44     NY           6"
      ]
     },
     "execution_count": 33,
     "metadata": {},
     "output_type": "execute_result"
    }
   ],
   "source": [
    "print(\"Top stay destinations by age\")\n",
    "test_df = df[['cicid', 'i94bir','i94addr']]\n",
    "test_df = test_df.groupby(['i94bir','i94addr']).count()\n",
    "test_df.sort_values(by=['cicid'], ascending=False).head(5)"
   ]
  },
  {
   "cell_type": "code",
   "execution_count": 36,
   "metadata": {},
   "outputs": [
    {
     "name": "stdout",
     "output_type": "stream",
     "text": [
      "Top stay destinations by year and age\n"
     ]
    },
    {
     "data": {
      "text/html": [
       "<div>\n",
       "<style scoped>\n",
       "    .dataframe tbody tr th:only-of-type {\n",
       "        vertical-align: middle;\n",
       "    }\n",
       "\n",
       "    .dataframe tbody tr th {\n",
       "        vertical-align: top;\n",
       "    }\n",
       "\n",
       "    .dataframe thead th {\n",
       "        text-align: right;\n",
       "    }\n",
       "</style>\n",
       "<table border=\"1\" class=\"dataframe\">\n",
       "  <thead>\n",
       "    <tr style=\"text-align: right;\">\n",
       "      <th></th>\n",
       "      <th></th>\n",
       "      <th></th>\n",
       "      <th>cicid</th>\n",
       "    </tr>\n",
       "    <tr>\n",
       "      <th>i94yr</th>\n",
       "      <th>i94bir</th>\n",
       "      <th>i94addr</th>\n",
       "      <th></th>\n",
       "    </tr>\n",
       "  </thead>\n",
       "  <tbody>\n",
       "    <tr>\n",
       "      <th rowspan=\"5\" valign=\"top\">2016</th>\n",
       "      <th>42</th>\n",
       "      <th>CA</th>\n",
       "      <td>8</td>\n",
       "    </tr>\n",
       "    <tr>\n",
       "      <th>50</th>\n",
       "      <th>CA</th>\n",
       "      <td>7</td>\n",
       "    </tr>\n",
       "    <tr>\n",
       "      <th>35</th>\n",
       "      <th>NY</th>\n",
       "      <td>7</td>\n",
       "    </tr>\n",
       "    <tr>\n",
       "      <th>30</th>\n",
       "      <th>FL</th>\n",
       "      <td>6</td>\n",
       "    </tr>\n",
       "    <tr>\n",
       "      <th>44</th>\n",
       "      <th>NY</th>\n",
       "      <td>6</td>\n",
       "    </tr>\n",
       "  </tbody>\n",
       "</table>\n",
       "</div>"
      ],
      "text/plain": [
       "                      cicid\n",
       "i94yr i94bir i94addr       \n",
       "2016  42     CA           8\n",
       "      50     CA           7\n",
       "      35     NY           7\n",
       "      30     FL           6\n",
       "      44     NY           6"
      ]
     },
     "execution_count": 36,
     "metadata": {},
     "output_type": "execute_result"
    }
   ],
   "source": [
    "print(\"Top stay destinations by year and age\")\n",
    "test_df = df[['cicid', 'i94yr','i94bir','i94addr']]\n",
    "test_df = test_df.groupby(['i94yr','i94bir','i94addr']).count()\n",
    "test_df.sort_values(by=['cicid'], ascending=False).head(5)"
   ]
  },
  {
   "cell_type": "markdown",
   "metadata": {},
   "source": [
    "### Flights"
   ]
  },
  {
   "cell_type": "code",
   "execution_count": 37,
   "metadata": {},
   "outputs": [
    {
     "data": {
      "text/plain": [
       "array(['JL', '*GA', 'LH', 'QR', 'DL', 'CX', 'BA', 'QF', 'EK', 'AF', 'OZ',\n",
       "       'DY', 'UA', 'VS', 'Y4', 'TK', 'AA', 'IB', 'TW', 'AR', 'CA', 'AM',\n",
       "       'JJ', 'EI', 'NZ', 'CM', 'SU', 'FI', 'AV', 'WN', 'RS', 'KE', 'EV',\n",
       "       'KL', 'NH', 'AD', 'CI', 'B6', 'BR', 'LX', 'SK', 'EQ', 'SQ', 'AZ',\n",
       "       '7C', 'LA', '4M', 'SWQ', 'AB', 'NK', 'WK', 'SE', 'AI', 'PY', '4O',\n",
       "       'HA', 'HU', 'TOM', 'LJ', 'LY', 'VES', 'CZ', 'BB', 'KU', 'MT', 'KX',\n",
       "       'BW', 'MQ', 'NQ', 'MU', 'EY', 'TP', '9V', 'S3', 'UP', 'JQ', 'AY',\n",
       "       '2D', 'CP', 'YX', 'PR', 'SV', 'VA', '5J', 'FJ', 'BX', 'UX', '3U',\n",
       "       'RV', 'LO', 'TB', 'SN', 'WS', '9E', 'W3', 'OS', 'ARU', '7I', 'ZX'], dtype=object)"
      ]
     },
     "execution_count": 37,
     "metadata": {},
     "output_type": "execute_result"
    }
   ],
   "source": [
    "df['airline'].unique()"
   ]
  },
  {
   "cell_type": "code",
   "execution_count": 38,
   "metadata": {},
   "outputs": [
    {
     "data": {
      "text/html": [
       "<div>\n",
       "<style scoped>\n",
       "    .dataframe tbody tr th:only-of-type {\n",
       "        vertical-align: middle;\n",
       "    }\n",
       "\n",
       "    .dataframe tbody tr th {\n",
       "        vertical-align: top;\n",
       "    }\n",
       "\n",
       "    .dataframe thead th {\n",
       "        text-align: right;\n",
       "    }\n",
       "</style>\n",
       "<table border=\"1\" class=\"dataframe\">\n",
       "  <thead>\n",
       "    <tr style=\"text-align: right;\">\n",
       "      <th></th>\n",
       "      <th>cicid</th>\n",
       "    </tr>\n",
       "    <tr>\n",
       "      <th>airline</th>\n",
       "      <th></th>\n",
       "    </tr>\n",
       "  </thead>\n",
       "  <tbody>\n",
       "    <tr>\n",
       "      <th>*GA</th>\n",
       "      <td>4</td>\n",
       "    </tr>\n",
       "    <tr>\n",
       "      <th>2D</th>\n",
       "      <td>2</td>\n",
       "    </tr>\n",
       "    <tr>\n",
       "      <th>3U</th>\n",
       "      <td>1</td>\n",
       "    </tr>\n",
       "    <tr>\n",
       "      <th>4M</th>\n",
       "      <td>2</td>\n",
       "    </tr>\n",
       "    <tr>\n",
       "      <th>4O</th>\n",
       "      <td>3</td>\n",
       "    </tr>\n",
       "  </tbody>\n",
       "</table>\n",
       "</div>"
      ],
      "text/plain": [
       "         cicid\n",
       "airline       \n",
       "*GA          4\n",
       "2D           2\n",
       "3U           1\n",
       "4M           2\n",
       "4O           3"
      ]
     },
     "execution_count": 38,
     "metadata": {},
     "output_type": "execute_result"
    }
   ],
   "source": [
    "df[['cicid','airline']].groupby('airline').count().head(5)"
   ]
  },
  {
   "cell_type": "code",
   "execution_count": 39,
   "metadata": {},
   "outputs": [
    {
     "data": {
      "text/plain": [
       "array(['00782', 'XBLNG', '00464', '00739', '910', '870', '00117', '00015',\n",
       "       '00598', '00215', '00338', '00554', '00143', '00204', '06750',\n",
       "       '00273', '00872', '00075', '00930', '00033', '01498', '01428',\n",
       "       '06253', '01085', '00311', '00428', '00196', '01304', '00819',\n",
       "       '00078', '01504', '00017', '08094', '00139', '06165', '01300', '6',\n",
       "       '00302', '00102', '00071', '00227', '00876', '00615', '00010',\n",
       "       '00150', '00838', '00402', '00030', '02039', '02831', '00066',\n",
       "       '00420', '00079', '07597', '00342', '00085', '00020', '00283',\n",
       "       '00988', '00228', '08090', '00023', '00925', '00111', '00287',\n",
       "       '00956', '00992', '00115', '00625', '05510', '00473', '00034',\n",
       "       '00621', '01089', '00008', '00007', '08704', '00966', '01306',\n",
       "       '00006', '00060', '00002', '00022', '00907', '00616', '00209',\n",
       "       '00550', '00062', '00792', '00179', '00578', '982', '00057',\n",
       "       '00608', '00787', '00016', '00731', '03106', '02514', '00128',\n",
       "       '00688', '00955', '04520', '00865', '00252', '00916', '00705',\n",
       "       '139', '00214', '03182', '00040', '07450', '00232', '01423',\n",
       "       '00186', '00978', '00278', '00928', '03502', '00184', '00408',\n",
       "       '01302', '00426', '00065', '00025', '02682', '00026', '06171',\n",
       "       '00846', '00244', '00100', '00191', '06275', '07599', 'N104B',\n",
       "       '00605', '01069', '00421', '00014', '01250', '02422', '07015',\n",
       "       '2960', '00458', '00073', '00104', '00701', '00404', '00495',\n",
       "       '00945', '00077', '00206', '00001', '00434', '00296', '00018',\n",
       "       '00183', '00012', '731', '02167', '00219', '00964', '00099',\n",
       "       '00378', '00132', '00178', '08706', 'N137W', '00601', '00222',\n",
       "       '00113', '00452', '00490', '00903', '01810', '00707', '216',\n",
       "       '00226', 'MANAD', '00106', '00123', '00733', '00327', '00884',\n",
       "       '00028', '04590', '00900', '00522', '00193', '00641', '00994',\n",
       "       '00478', '02294', '01694', '00021', '00288', 'B5286', '00836',\n",
       "       '00003', '00901', '00960', '00848', '00500', '02065', '00032',\n",
       "       '00275', '00270', '00794', '02200', '00090', '00011', '05623',\n",
       "       '00950', '00004', '00105', '00045', '00958', '02572', '15', '00051',\n",
       "       '00005', '07001', '00274', '95', '00786', '00109', '00482', '00827',\n",
       "       '03102', '00948', '00080', '00284', '0019C', '00713', '00088',\n",
       "       '00053', '00400', '00902', '00840', '00203', '00935', '00982',\n",
       "       '03348', '00019', '01130', '11', '00880', '00041', '00185', '07083',\n",
       "       '00182', '00698', '00583', '00176', '00031', '00107', '00456',\n",
       "       '00124', '00172', '00983', '00103', '00037', '00235', '00717',\n",
       "       '00331', '00135', '00212', '00777', '01045', '00207', '02510',\n",
       "       '00201', '01220', '00412', '00101', '00410', '00414', '00914',\n",
       "       '00985', '01901', '00175', '00862', '01515', '00882', '00502',\n",
       "       '237', '00093', '00269', '07210', '00976', '211', '00436', '998',\n",
       "       '00970', '00919', '00564', '00046', '00505', '01567', '02282', '41',\n",
       "       '00589', '01122', '00366', '00939', '00729', '00642', '00858',\n",
       "       '00962', '00009', '00265', '00276', '00231', '185', '00125',\n",
       "       '00651', '00047', '00719', '00144', '00968', '00998', '01008',\n",
       "       '00177', '804', '00067', '00027', '00406', '00580', '00990',\n",
       "       '00430', '00910', '00054', '05776', '00682', '08086', '00643',\n",
       "       '00280', '00038', '00703', '04335', '00138', '00230', '00830',\n",
       "       '00906', '00211', '00216', '00874', '00063', '00602', '01484',\n",
       "       '02604', '810', '09137', '00173', '00043', '04429', '00217',\n",
       "       '08092', '00279', '18', '00310', '00612', '01467', '00133', '00610',\n",
       "       '00689', '00049', '00091', '00189', '00472', '00197', '01501',\n",
       "       '00083', '08647', '00582', '00995', '00084', '00818', '00156',\n",
       "       '01087', '00850', '07091', '00131', '00070', '07420', '07067',\n",
       "       '04104', '00922', '00450', '00137', '21', '01884', '02247', '20',\n",
       "       '00520', '00432', '01033', '00588', '00405', '02037', '203',\n",
       "       '07008', '00611', '00161', '07011', '07041', '00501', '01686',\n",
       "       '08005', '00808', '00892', '00368', '01754', '00262', '00725',\n",
       "       '00497', '03848', '00974', '00141', '05746', '888', '821', '01525',\n",
       "       '00904', '00418', '00460', '07365', '00941', '00940', '00081',\n",
       "       '00444', '00560', '00158'], dtype=object)"
      ]
     },
     "execution_count": 39,
     "metadata": {},
     "output_type": "execute_result"
    }
   ],
   "source": [
    "df['fltno'].unique()"
   ]
  },
  {
   "cell_type": "code",
   "execution_count": 40,
   "metadata": {},
   "outputs": [
    {
     "data": {
      "text/html": [
       "<div>\n",
       "<style scoped>\n",
       "    .dataframe tbody tr th:only-of-type {\n",
       "        vertical-align: middle;\n",
       "    }\n",
       "\n",
       "    .dataframe tbody tr th {\n",
       "        vertical-align: top;\n",
       "    }\n",
       "\n",
       "    .dataframe thead th {\n",
       "        text-align: right;\n",
       "    }\n",
       "</style>\n",
       "<table border=\"1\" class=\"dataframe\">\n",
       "  <thead>\n",
       "    <tr style=\"text-align: right;\">\n",
       "      <th></th>\n",
       "      <th>airline</th>\n",
       "      <th>fltno</th>\n",
       "      <th>i94port</th>\n",
       "      <th>i94yr</th>\n",
       "      <th>i94mon</th>\n",
       "    </tr>\n",
       "  </thead>\n",
       "  <tbody>\n",
       "    <tr>\n",
       "      <th>0</th>\n",
       "      <td>JL</td>\n",
       "      <td>00782</td>\n",
       "      <td>HHW</td>\n",
       "      <td>2016</td>\n",
       "      <td>4</td>\n",
       "    </tr>\n",
       "    <tr>\n",
       "      <th>1</th>\n",
       "      <td>*GA</td>\n",
       "      <td>XBLNG</td>\n",
       "      <td>MCA</td>\n",
       "      <td>2016</td>\n",
       "      <td>4</td>\n",
       "    </tr>\n",
       "    <tr>\n",
       "      <th>2</th>\n",
       "      <td>LH</td>\n",
       "      <td>00464</td>\n",
       "      <td>OGG</td>\n",
       "      <td>2016</td>\n",
       "      <td>4</td>\n",
       "    </tr>\n",
       "    <tr>\n",
       "      <th>3</th>\n",
       "      <td>QR</td>\n",
       "      <td>00739</td>\n",
       "      <td>LOS</td>\n",
       "      <td>2016</td>\n",
       "      <td>4</td>\n",
       "    </tr>\n",
       "    <tr>\n",
       "      <th>5</th>\n",
       "      <td>DL</td>\n",
       "      <td>910</td>\n",
       "      <td>ATL</td>\n",
       "      <td>2016</td>\n",
       "      <td>4</td>\n",
       "    </tr>\n",
       "  </tbody>\n",
       "</table>\n",
       "</div>"
      ],
      "text/plain": [
       "  airline  fltno i94port  i94yr  i94mon\n",
       "0      JL  00782     HHW   2016       4\n",
       "1     *GA  XBLNG     MCA   2016       4\n",
       "2      LH  00464     OGG   2016       4\n",
       "3      QR  00739     LOS   2016       4\n",
       "5      DL    910     ATL   2016       4"
      ]
     },
     "execution_count": 40,
     "metadata": {},
     "output_type": "execute_result"
    }
   ],
   "source": [
    "# Drop duplicates and rows with NaN value\n",
    "flights_df = df[df['i94mode']==1]\n",
    "flights_df = flights_df[['airline','fltno','i94port','i94yr','i94mon']].drop_duplicates().dropna()\n",
    "flights_df.head()"
   ]
  },
  {
   "cell_type": "code",
   "execution_count": 41,
   "metadata": {},
   "outputs": [
    {
     "data": {
      "text/plain": [
       "airline    597\n",
       "fltno      597\n",
       "i94port    597\n",
       "i94yr      597\n",
       "i94mon     597\n",
       "dtype: int64"
      ]
     },
     "execution_count": 41,
     "metadata": {},
     "output_type": "execute_result"
    }
   ],
   "source": [
    "flights_df.count()"
   ]
  },
  {
   "cell_type": "code",
   "execution_count": 42,
   "metadata": {},
   "outputs": [
    {
     "data": {
      "text/html": [
       "<div>\n",
       "<style scoped>\n",
       "    .dataframe tbody tr th:only-of-type {\n",
       "        vertical-align: middle;\n",
       "    }\n",
       "\n",
       "    .dataframe tbody tr th {\n",
       "        vertical-align: top;\n",
       "    }\n",
       "\n",
       "    .dataframe thead th {\n",
       "        text-align: right;\n",
       "    }\n",
       "</style>\n",
       "<table border=\"1\" class=\"dataframe\">\n",
       "  <thead>\n",
       "    <tr style=\"text-align: right;\">\n",
       "      <th></th>\n",
       "      <th>Unnamed: 0</th>\n",
       "      <th>cicid</th>\n",
       "      <th>i94yr</th>\n",
       "      <th>i94mon</th>\n",
       "      <th>i94cit</th>\n",
       "      <th>i94res</th>\n",
       "      <th>i94port</th>\n",
       "      <th>arrdate</th>\n",
       "      <th>i94mode</th>\n",
       "      <th>i94addr</th>\n",
       "      <th>...</th>\n",
       "      <th>entdepa</th>\n",
       "      <th>entdepd</th>\n",
       "      <th>matflag</th>\n",
       "      <th>biryear</th>\n",
       "      <th>dtaddto</th>\n",
       "      <th>gender</th>\n",
       "      <th>airline</th>\n",
       "      <th>admnum</th>\n",
       "      <th>fltno</th>\n",
       "      <th>visatype</th>\n",
       "    </tr>\n",
       "  </thead>\n",
       "  <tbody>\n",
       "    <tr>\n",
       "      <th>0</th>\n",
       "      <td>2027561</td>\n",
       "      <td>4084316</td>\n",
       "      <td>2016</td>\n",
       "      <td>4</td>\n",
       "      <td>209</td>\n",
       "      <td>209</td>\n",
       "      <td>HHW</td>\n",
       "      <td>20566.0</td>\n",
       "      <td>1</td>\n",
       "      <td>HI</td>\n",
       "      <td>...</td>\n",
       "      <td>G</td>\n",
       "      <td>O</td>\n",
       "      <td>M</td>\n",
       "      <td>1955</td>\n",
       "      <td>07202016</td>\n",
       "      <td>F</td>\n",
       "      <td>JL</td>\n",
       "      <td>56582674633</td>\n",
       "      <td>00782</td>\n",
       "      <td>WT</td>\n",
       "    </tr>\n",
       "    <tr>\n",
       "      <th>1</th>\n",
       "      <td>2171295</td>\n",
       "      <td>4422636</td>\n",
       "      <td>2016</td>\n",
       "      <td>4</td>\n",
       "      <td>582</td>\n",
       "      <td>582</td>\n",
       "      <td>MCA</td>\n",
       "      <td>20567.0</td>\n",
       "      <td>1</td>\n",
       "      <td>TX</td>\n",
       "      <td>...</td>\n",
       "      <td>G</td>\n",
       "      <td>R</td>\n",
       "      <td>M</td>\n",
       "      <td>1990</td>\n",
       "      <td>10222016</td>\n",
       "      <td>M</td>\n",
       "      <td>*GA</td>\n",
       "      <td>94361995930</td>\n",
       "      <td>XBLNG</td>\n",
       "      <td>B2</td>\n",
       "    </tr>\n",
       "    <tr>\n",
       "      <th>2</th>\n",
       "      <td>589494</td>\n",
       "      <td>1195600</td>\n",
       "      <td>2016</td>\n",
       "      <td>4</td>\n",
       "      <td>148</td>\n",
       "      <td>112</td>\n",
       "      <td>OGG</td>\n",
       "      <td>20551.0</td>\n",
       "      <td>1</td>\n",
       "      <td>FL</td>\n",
       "      <td>...</td>\n",
       "      <td>G</td>\n",
       "      <td>O</td>\n",
       "      <td>M</td>\n",
       "      <td>1940</td>\n",
       "      <td>07052016</td>\n",
       "      <td>M</td>\n",
       "      <td>LH</td>\n",
       "      <td>55780468433</td>\n",
       "      <td>00464</td>\n",
       "      <td>WT</td>\n",
       "    </tr>\n",
       "    <tr>\n",
       "      <th>3</th>\n",
       "      <td>2631158</td>\n",
       "      <td>5291768</td>\n",
       "      <td>2016</td>\n",
       "      <td>4</td>\n",
       "      <td>297</td>\n",
       "      <td>297</td>\n",
       "      <td>LOS</td>\n",
       "      <td>20572.0</td>\n",
       "      <td>1</td>\n",
       "      <td>CA</td>\n",
       "      <td>...</td>\n",
       "      <td>G</td>\n",
       "      <td>O</td>\n",
       "      <td>M</td>\n",
       "      <td>1991</td>\n",
       "      <td>10272016</td>\n",
       "      <td>M</td>\n",
       "      <td>QR</td>\n",
       "      <td>94789696030</td>\n",
       "      <td>00739</td>\n",
       "      <td>B2</td>\n",
       "    </tr>\n",
       "    <tr>\n",
       "      <th>5</th>\n",
       "      <td>721257</td>\n",
       "      <td>1481650</td>\n",
       "      <td>2016</td>\n",
       "      <td>4</td>\n",
       "      <td>577</td>\n",
       "      <td>577</td>\n",
       "      <td>ATL</td>\n",
       "      <td>20552.0</td>\n",
       "      <td>1</td>\n",
       "      <td>GA</td>\n",
       "      <td>...</td>\n",
       "      <td>T</td>\n",
       "      <td>N</td>\n",
       "      <td>M</td>\n",
       "      <td>1965</td>\n",
       "      <td>10072016</td>\n",
       "      <td>M</td>\n",
       "      <td>DL</td>\n",
       "      <td>736852585</td>\n",
       "      <td>910</td>\n",
       "      <td>B2</td>\n",
       "    </tr>\n",
       "  </tbody>\n",
       "</table>\n",
       "<p>5 rows × 25 columns</p>\n",
       "</div>"
      ],
      "text/plain": [
       "   Unnamed: 0    cicid  i94yr  i94mon  i94cit  i94res i94port  arrdate  \\\n",
       "0     2027561  4084316   2016       4     209     209     HHW  20566.0   \n",
       "1     2171295  4422636   2016       4     582     582     MCA  20567.0   \n",
       "2      589494  1195600   2016       4     148     112     OGG  20551.0   \n",
       "3     2631158  5291768   2016       4     297     297     LOS  20572.0   \n",
       "5      721257  1481650   2016       4     577     577     ATL  20552.0   \n",
       "\n",
       "   i94mode i94addr   ...     entdepa  entdepd  matflag  biryear   dtaddto  \\\n",
       "0        1      HI   ...           G        O        M     1955  07202016   \n",
       "1        1      TX   ...           G        R        M     1990  10222016   \n",
       "2        1      FL   ...           G        O        M     1940  07052016   \n",
       "3        1      CA   ...           G        O        M     1991  10272016   \n",
       "5        1      GA   ...           T        N        M     1965  10072016   \n",
       "\n",
       "  gender airline       admnum  fltno visatype  \n",
       "0      F      JL  56582674633  00782       WT  \n",
       "1      M     *GA  94361995930  XBLNG       B2  \n",
       "2      M      LH  55780468433  00464       WT  \n",
       "3      M      QR  94789696030  00739       B2  \n",
       "5      M      DL    736852585    910       B2  \n",
       "\n",
       "[5 rows x 25 columns]"
      ]
     },
     "execution_count": 42,
     "metadata": {},
     "output_type": "execute_result"
    }
   ],
   "source": [
    "df.head()"
   ]
  },
  {
   "cell_type": "markdown",
   "metadata": {},
   "source": [
    "### Airport Codes Data [3]"
   ]
  },
  {
   "cell_type": "code",
   "execution_count": 43,
   "metadata": {},
   "outputs": [],
   "source": [
    "airport_df = pd.read_csv('airport-codes_csv.csv')"
   ]
  },
  {
   "cell_type": "code",
   "execution_count": 44,
   "metadata": {},
   "outputs": [
    {
     "data": {
      "text/html": [
       "<div>\n",
       "<style scoped>\n",
       "    .dataframe tbody tr th:only-of-type {\n",
       "        vertical-align: middle;\n",
       "    }\n",
       "\n",
       "    .dataframe tbody tr th {\n",
       "        vertical-align: top;\n",
       "    }\n",
       "\n",
       "    .dataframe thead th {\n",
       "        text-align: right;\n",
       "    }\n",
       "</style>\n",
       "<table border=\"1\" class=\"dataframe\">\n",
       "  <thead>\n",
       "    <tr style=\"text-align: right;\">\n",
       "      <th></th>\n",
       "      <th>ident</th>\n",
       "      <th>type</th>\n",
       "      <th>name</th>\n",
       "      <th>elevation_ft</th>\n",
       "      <th>continent</th>\n",
       "      <th>iso_country</th>\n",
       "      <th>iso_region</th>\n",
       "      <th>municipality</th>\n",
       "      <th>gps_code</th>\n",
       "      <th>iata_code</th>\n",
       "      <th>local_code</th>\n",
       "      <th>coordinates</th>\n",
       "    </tr>\n",
       "  </thead>\n",
       "  <tbody>\n",
       "    <tr>\n",
       "      <th>0</th>\n",
       "      <td>00A</td>\n",
       "      <td>heliport</td>\n",
       "      <td>Total Rf Heliport</td>\n",
       "      <td>11.0</td>\n",
       "      <td>NaN</td>\n",
       "      <td>US</td>\n",
       "      <td>US-PA</td>\n",
       "      <td>Bensalem</td>\n",
       "      <td>00A</td>\n",
       "      <td>NaN</td>\n",
       "      <td>00A</td>\n",
       "      <td>-74.93360137939453, 40.07080078125</td>\n",
       "    </tr>\n",
       "    <tr>\n",
       "      <th>1</th>\n",
       "      <td>00AA</td>\n",
       "      <td>small_airport</td>\n",
       "      <td>Aero B Ranch Airport</td>\n",
       "      <td>3435.0</td>\n",
       "      <td>NaN</td>\n",
       "      <td>US</td>\n",
       "      <td>US-KS</td>\n",
       "      <td>Leoti</td>\n",
       "      <td>00AA</td>\n",
       "      <td>NaN</td>\n",
       "      <td>00AA</td>\n",
       "      <td>-101.473911, 38.704022</td>\n",
       "    </tr>\n",
       "    <tr>\n",
       "      <th>2</th>\n",
       "      <td>00AK</td>\n",
       "      <td>small_airport</td>\n",
       "      <td>Lowell Field</td>\n",
       "      <td>450.0</td>\n",
       "      <td>NaN</td>\n",
       "      <td>US</td>\n",
       "      <td>US-AK</td>\n",
       "      <td>Anchor Point</td>\n",
       "      <td>00AK</td>\n",
       "      <td>NaN</td>\n",
       "      <td>00AK</td>\n",
       "      <td>-151.695999146, 59.94919968</td>\n",
       "    </tr>\n",
       "    <tr>\n",
       "      <th>3</th>\n",
       "      <td>00AL</td>\n",
       "      <td>small_airport</td>\n",
       "      <td>Epps Airpark</td>\n",
       "      <td>820.0</td>\n",
       "      <td>NaN</td>\n",
       "      <td>US</td>\n",
       "      <td>US-AL</td>\n",
       "      <td>Harvest</td>\n",
       "      <td>00AL</td>\n",
       "      <td>NaN</td>\n",
       "      <td>00AL</td>\n",
       "      <td>-86.77030181884766, 34.86479949951172</td>\n",
       "    </tr>\n",
       "    <tr>\n",
       "      <th>4</th>\n",
       "      <td>00AR</td>\n",
       "      <td>closed</td>\n",
       "      <td>Newport Hospital &amp; Clinic Heliport</td>\n",
       "      <td>237.0</td>\n",
       "      <td>NaN</td>\n",
       "      <td>US</td>\n",
       "      <td>US-AR</td>\n",
       "      <td>Newport</td>\n",
       "      <td>NaN</td>\n",
       "      <td>NaN</td>\n",
       "      <td>NaN</td>\n",
       "      <td>-91.254898, 35.6087</td>\n",
       "    </tr>\n",
       "  </tbody>\n",
       "</table>\n",
       "</div>"
      ],
      "text/plain": [
       "  ident           type                                name  elevation_ft  \\\n",
       "0   00A       heliport                   Total Rf Heliport          11.0   \n",
       "1  00AA  small_airport                Aero B Ranch Airport        3435.0   \n",
       "2  00AK  small_airport                        Lowell Field         450.0   \n",
       "3  00AL  small_airport                        Epps Airpark         820.0   \n",
       "4  00AR         closed  Newport Hospital & Clinic Heliport         237.0   \n",
       "\n",
       "  continent iso_country iso_region  municipality gps_code iata_code  \\\n",
       "0       NaN          US      US-PA      Bensalem      00A       NaN   \n",
       "1       NaN          US      US-KS         Leoti     00AA       NaN   \n",
       "2       NaN          US      US-AK  Anchor Point     00AK       NaN   \n",
       "3       NaN          US      US-AL       Harvest     00AL       NaN   \n",
       "4       NaN          US      US-AR       Newport      NaN       NaN   \n",
       "\n",
       "  local_code                            coordinates  \n",
       "0        00A     -74.93360137939453, 40.07080078125  \n",
       "1       00AA                 -101.473911, 38.704022  \n",
       "2       00AK            -151.695999146, 59.94919968  \n",
       "3       00AL  -86.77030181884766, 34.86479949951172  \n",
       "4        NaN                    -91.254898, 35.6087  "
      ]
     },
     "execution_count": 44,
     "metadata": {},
     "output_type": "execute_result"
    }
   ],
   "source": [
    "airport_df.head()"
   ]
  },
  {
   "cell_type": "markdown",
   "metadata": {},
   "source": [
    "Let's look at the column names"
   ]
  },
  {
   "cell_type": "code",
   "execution_count": 45,
   "metadata": {},
   "outputs": [
    {
     "data": {
      "text/plain": [
       "Index(['ident', 'type', 'name', 'elevation_ft', 'continent', 'iso_country',\n",
       "       'iso_region', 'municipality', 'gps_code', 'iata_code', 'local_code',\n",
       "       'coordinates'],\n",
       "      dtype='object')"
      ]
     },
     "execution_count": 45,
     "metadata": {},
     "output_type": "execute_result"
    }
   ],
   "source": [
    "airport_df.columns"
   ]
  },
  {
   "cell_type": "markdown",
   "metadata": {},
   "source": [
    "Raw data has the following columns;\n",
    "\n",
    "| Column             | Data Type | Description |\n",
    "|--------------------|-----------|-------------|\n",
    "| ident              | string    | Identifier        |\n",
    "| type               | string    | Type of airport |\n",
    "| name               | string    | Name of airport |\n",
    "| elevation_ft       | float     | Elevation (in ft) |\n",
    "| continent          | string    | Continent of airport |\n",
    "| iso_country        | string    | Country of airport |\n",
    "| iso_region         | string    | Region of airport |\n",
    "| municipality       | string    | Municipality of airport |\n",
    "| gps_code           | string    | GPS Code of airport |\n",
    "| iata_code          | string    | IATA Code of airport |\n",
    "| local_code         | string    | Local Code of airport |\n",
    "| coordinates        | float, float | Coordinates of airport |"
   ]
  },
  {
   "cell_type": "code",
   "execution_count": 46,
   "metadata": {},
   "outputs": [
    {
     "name": "stdout",
     "output_type": "stream",
     "text": [
      "           Column Name  Count Percentage\n",
      "                 ident      0     0.00\n",
      "                  type      0     0.00\n",
      "                  name      0     0.00\n",
      "          elevation_ft   7006    12.72\n",
      "             continent  27719    50.33\n",
      "           iso_country    247     0.45\n",
      "            iso_region      0     0.00\n",
      "          municipality   5676    10.31\n",
      "              gps_code  14045    25.50\n",
      "             iata_code  45886    83.32\n",
      "            local_code  26389    47.91\n",
      "           coordinates      0     0.00\n",
      "Number of total records is 55075.\n",
      "\n"
     ]
    }
   ],
   "source": [
    "check_NaN_Values_DF(airport_df,airport_df.columns)"
   ]
  },
  {
   "cell_type": "markdown",
   "metadata": {},
   "source": [
    "The following columns can be dropped;\n",
    " - iata_code    (83.32%)\n",
    " - continent    (50.33%)\n",
    " - local_code   (47.91%)\n",
    " - gps_code     (25.50%)\n",
    " - elevation_ft (12.72%)\n",
    "\n",
    "Drop a row that has NaN value for any of the following columns;\n",
    " - iso_country\n",
    " - municipality"
   ]
  },
  {
   "cell_type": "code",
   "execution_count": 47,
   "metadata": {},
   "outputs": [
    {
     "data": {
      "text/html": [
       "<div>\n",
       "<style scoped>\n",
       "    .dataframe tbody tr th:only-of-type {\n",
       "        vertical-align: middle;\n",
       "    }\n",
       "\n",
       "    .dataframe tbody tr th {\n",
       "        vertical-align: top;\n",
       "    }\n",
       "\n",
       "    .dataframe thead th {\n",
       "        text-align: right;\n",
       "    }\n",
       "</style>\n",
       "<table border=\"1\" class=\"dataframe\">\n",
       "  <thead>\n",
       "    <tr style=\"text-align: right;\">\n",
       "      <th></th>\n",
       "      <th>ident</th>\n",
       "      <th>type</th>\n",
       "      <th>name</th>\n",
       "      <th>iso_country</th>\n",
       "      <th>iso_region</th>\n",
       "      <th>municipality</th>\n",
       "      <th>coordinates</th>\n",
       "    </tr>\n",
       "  </thead>\n",
       "  <tbody>\n",
       "    <tr>\n",
       "      <th>0</th>\n",
       "      <td>00A</td>\n",
       "      <td>heliport</td>\n",
       "      <td>Total Rf Heliport</td>\n",
       "      <td>US</td>\n",
       "      <td>US-PA</td>\n",
       "      <td>Bensalem</td>\n",
       "      <td>-74.93360137939453, 40.07080078125</td>\n",
       "    </tr>\n",
       "    <tr>\n",
       "      <th>1</th>\n",
       "      <td>00AA</td>\n",
       "      <td>small_airport</td>\n",
       "      <td>Aero B Ranch Airport</td>\n",
       "      <td>US</td>\n",
       "      <td>US-KS</td>\n",
       "      <td>Leoti</td>\n",
       "      <td>-101.473911, 38.704022</td>\n",
       "    </tr>\n",
       "    <tr>\n",
       "      <th>2</th>\n",
       "      <td>00AK</td>\n",
       "      <td>small_airport</td>\n",
       "      <td>Lowell Field</td>\n",
       "      <td>US</td>\n",
       "      <td>US-AK</td>\n",
       "      <td>Anchor Point</td>\n",
       "      <td>-151.695999146, 59.94919968</td>\n",
       "    </tr>\n",
       "    <tr>\n",
       "      <th>3</th>\n",
       "      <td>00AL</td>\n",
       "      <td>small_airport</td>\n",
       "      <td>Epps Airpark</td>\n",
       "      <td>US</td>\n",
       "      <td>US-AL</td>\n",
       "      <td>Harvest</td>\n",
       "      <td>-86.77030181884766, 34.86479949951172</td>\n",
       "    </tr>\n",
       "    <tr>\n",
       "      <th>4</th>\n",
       "      <td>00AR</td>\n",
       "      <td>closed</td>\n",
       "      <td>Newport Hospital &amp; Clinic Heliport</td>\n",
       "      <td>US</td>\n",
       "      <td>US-AR</td>\n",
       "      <td>Newport</td>\n",
       "      <td>-91.254898, 35.6087</td>\n",
       "    </tr>\n",
       "  </tbody>\n",
       "</table>\n",
       "</div>"
      ],
      "text/plain": [
       "  ident           type                                name iso_country  \\\n",
       "0   00A       heliport                   Total Rf Heliport          US   \n",
       "1  00AA  small_airport                Aero B Ranch Airport          US   \n",
       "2  00AK  small_airport                        Lowell Field          US   \n",
       "3  00AL  small_airport                        Epps Airpark          US   \n",
       "4  00AR         closed  Newport Hospital & Clinic Heliport          US   \n",
       "\n",
       "  iso_region  municipality                            coordinates  \n",
       "0      US-PA      Bensalem     -74.93360137939453, 40.07080078125  \n",
       "1      US-KS         Leoti                 -101.473911, 38.704022  \n",
       "2      US-AK  Anchor Point            -151.695999146, 59.94919968  \n",
       "3      US-AL       Harvest  -86.77030181884766, 34.86479949951172  \n",
       "4      US-AR       Newport                    -91.254898, 35.6087  "
      ]
     },
     "execution_count": 47,
     "metadata": {},
     "output_type": "execute_result"
    }
   ],
   "source": [
    "airport_df = airport_df[['ident', 'type', 'name', 'iso_country','iso_region','municipality', 'coordinates']]\n",
    "airport_df = airport_df.drop_duplicates().dropna()\n",
    "airport_df.head()"
   ]
  },
  {
   "cell_type": "code",
   "execution_count": 48,
   "metadata": {},
   "outputs": [
    {
     "name": "stdout",
     "output_type": "stream",
     "text": [
      "           Column Name  Count Percentage\n",
      "                 ident      0     0.00\n",
      "                  type      0     0.00\n",
      "                  name      0     0.00\n",
      "           iso_country      0     0.00\n",
      "            iso_region      0     0.00\n",
      "          municipality      0     0.00\n",
      "           coordinates      0     0.00\n",
      "Number of total records is 49254.\n",
      "\n"
     ]
    }
   ],
   "source": [
    "check_NaN_Values_DF(airport_df,airport_df.columns)"
   ]
  },
  {
   "cell_type": "code",
   "execution_count": 49,
   "metadata": {},
   "outputs": [
    {
     "data": {
      "text/html": [
       "<div>\n",
       "<style scoped>\n",
       "    .dataframe tbody tr th:only-of-type {\n",
       "        vertical-align: middle;\n",
       "    }\n",
       "\n",
       "    .dataframe tbody tr th {\n",
       "        vertical-align: top;\n",
       "    }\n",
       "\n",
       "    .dataframe thead th {\n",
       "        text-align: right;\n",
       "    }\n",
       "</style>\n",
       "<table border=\"1\" class=\"dataframe\">\n",
       "  <thead>\n",
       "    <tr style=\"text-align: right;\">\n",
       "      <th></th>\n",
       "      <th>ident</th>\n",
       "      <th>type</th>\n",
       "      <th>name</th>\n",
       "      <th>iso_country</th>\n",
       "      <th>iso_region</th>\n",
       "      <th>municipality</th>\n",
       "      <th>coordinates</th>\n",
       "    </tr>\n",
       "  </thead>\n",
       "  <tbody>\n",
       "    <tr>\n",
       "      <th>count</th>\n",
       "      <td>49254</td>\n",
       "      <td>49254</td>\n",
       "      <td>49254</td>\n",
       "      <td>49254</td>\n",
       "      <td>49254</td>\n",
       "      <td>49254</td>\n",
       "      <td>49254</td>\n",
       "    </tr>\n",
       "    <tr>\n",
       "      <th>unique</th>\n",
       "      <td>49254</td>\n",
       "      <td>7</td>\n",
       "      <td>46522</td>\n",
       "      <td>241</td>\n",
       "      <td>2629</td>\n",
       "      <td>27019</td>\n",
       "      <td>49101</td>\n",
       "    </tr>\n",
       "    <tr>\n",
       "      <th>top</th>\n",
       "      <td>HTMD</td>\n",
       "      <td>small_airport</td>\n",
       "      <td>Centre Hospitalier Heliport</td>\n",
       "      <td>US</td>\n",
       "      <td>US-TX</td>\n",
       "      <td>Seoul</td>\n",
       "      <td>129.115255, 37.540345</td>\n",
       "    </tr>\n",
       "    <tr>\n",
       "      <th>freq</th>\n",
       "      <td>1</td>\n",
       "      <td>29929</td>\n",
       "      <td>85</td>\n",
       "      <td>22655</td>\n",
       "      <td>2265</td>\n",
       "      <td>404</td>\n",
       "      <td>50</td>\n",
       "    </tr>\n",
       "  </tbody>\n",
       "</table>\n",
       "</div>"
      ],
      "text/plain": [
       "        ident           type                         name iso_country  \\\n",
       "count   49254          49254                        49254       49254   \n",
       "unique  49254              7                        46522         241   \n",
       "top      HTMD  small_airport  Centre Hospitalier Heliport          US   \n",
       "freq        1          29929                           85       22655   \n",
       "\n",
       "       iso_region municipality            coordinates  \n",
       "count       49254        49254                  49254  \n",
       "unique       2629        27019                  49101  \n",
       "top         US-TX        Seoul  129.115255, 37.540345  \n",
       "freq         2265          404                     50  "
      ]
     },
     "execution_count": 49,
     "metadata": {},
     "output_type": "execute_result"
    }
   ],
   "source": [
    "airport_df.describe()"
   ]
  },
  {
   "cell_type": "code",
   "execution_count": 50,
   "metadata": {},
   "outputs": [
    {
     "data": {
      "text/plain": [
       "ident           49254\n",
       "type            49254\n",
       "name            49254\n",
       "iso_country     49254\n",
       "iso_region      49254\n",
       "municipality    49254\n",
       "coordinates     49254\n",
       "dtype: int64"
      ]
     },
     "execution_count": 50,
     "metadata": {},
     "output_type": "execute_result"
    }
   ],
   "source": [
    "airport_df.count()"
   ]
  },
  {
   "cell_type": "markdown",
   "metadata": {},
   "source": [
    "Select US airports"
   ]
  },
  {
   "cell_type": "code",
   "execution_count": 51,
   "metadata": {},
   "outputs": [
    {
     "data": {
      "text/html": [
       "<div>\n",
       "<style scoped>\n",
       "    .dataframe tbody tr th:only-of-type {\n",
       "        vertical-align: middle;\n",
       "    }\n",
       "\n",
       "    .dataframe tbody tr th {\n",
       "        vertical-align: top;\n",
       "    }\n",
       "\n",
       "    .dataframe thead th {\n",
       "        text-align: right;\n",
       "    }\n",
       "</style>\n",
       "<table border=\"1\" class=\"dataframe\">\n",
       "  <thead>\n",
       "    <tr style=\"text-align: right;\">\n",
       "      <th></th>\n",
       "      <th>ident</th>\n",
       "      <th>type</th>\n",
       "      <th>name</th>\n",
       "      <th>iso_country</th>\n",
       "      <th>iso_region</th>\n",
       "      <th>municipality</th>\n",
       "      <th>coordinates</th>\n",
       "    </tr>\n",
       "  </thead>\n",
       "  <tbody>\n",
       "    <tr>\n",
       "      <th>0</th>\n",
       "      <td>00A</td>\n",
       "      <td>heliport</td>\n",
       "      <td>Total Rf Heliport</td>\n",
       "      <td>US</td>\n",
       "      <td>US-PA</td>\n",
       "      <td>Bensalem</td>\n",
       "      <td>-74.93360137939453, 40.07080078125</td>\n",
       "    </tr>\n",
       "    <tr>\n",
       "      <th>1</th>\n",
       "      <td>00AA</td>\n",
       "      <td>small_airport</td>\n",
       "      <td>Aero B Ranch Airport</td>\n",
       "      <td>US</td>\n",
       "      <td>US-KS</td>\n",
       "      <td>Leoti</td>\n",
       "      <td>-101.473911, 38.704022</td>\n",
       "    </tr>\n",
       "    <tr>\n",
       "      <th>2</th>\n",
       "      <td>00AK</td>\n",
       "      <td>small_airport</td>\n",
       "      <td>Lowell Field</td>\n",
       "      <td>US</td>\n",
       "      <td>US-AK</td>\n",
       "      <td>Anchor Point</td>\n",
       "      <td>-151.695999146, 59.94919968</td>\n",
       "    </tr>\n",
       "    <tr>\n",
       "      <th>3</th>\n",
       "      <td>00AL</td>\n",
       "      <td>small_airport</td>\n",
       "      <td>Epps Airpark</td>\n",
       "      <td>US</td>\n",
       "      <td>US-AL</td>\n",
       "      <td>Harvest</td>\n",
       "      <td>-86.77030181884766, 34.86479949951172</td>\n",
       "    </tr>\n",
       "    <tr>\n",
       "      <th>4</th>\n",
       "      <td>00AR</td>\n",
       "      <td>closed</td>\n",
       "      <td>Newport Hospital &amp; Clinic Heliport</td>\n",
       "      <td>US</td>\n",
       "      <td>US-AR</td>\n",
       "      <td>Newport</td>\n",
       "      <td>-91.254898, 35.6087</td>\n",
       "    </tr>\n",
       "  </tbody>\n",
       "</table>\n",
       "</div>"
      ],
      "text/plain": [
       "  ident           type                                name iso_country  \\\n",
       "0   00A       heliport                   Total Rf Heliport          US   \n",
       "1  00AA  small_airport                Aero B Ranch Airport          US   \n",
       "2  00AK  small_airport                        Lowell Field          US   \n",
       "3  00AL  small_airport                        Epps Airpark          US   \n",
       "4  00AR         closed  Newport Hospital & Clinic Heliport          US   \n",
       "\n",
       "  iso_region  municipality                            coordinates  \n",
       "0      US-PA      Bensalem     -74.93360137939453, 40.07080078125  \n",
       "1      US-KS         Leoti                 -101.473911, 38.704022  \n",
       "2      US-AK  Anchor Point            -151.695999146, 59.94919968  \n",
       "3      US-AL       Harvest  -86.77030181884766, 34.86479949951172  \n",
       "4      US-AR       Newport                    -91.254898, 35.6087  "
      ]
     },
     "execution_count": 51,
     "metadata": {},
     "output_type": "execute_result"
    }
   ],
   "source": [
    "us_airport_df = airport_df[airport_df.iso_country == 'US'] \n",
    "#us_airport_df['iso_region'] = us_airport_df['iso_region'].apply(lambda x: x.replace('US-',''))\n",
    "us_airport_df.head(5)"
   ]
  },
  {
   "cell_type": "markdown",
   "metadata": {},
   "source": [
    "Let's remove 'US-' prefix from iso_region"
   ]
  },
  {
   "cell_type": "code",
   "execution_count": 52,
   "metadata": {},
   "outputs": [
    {
     "data": {
      "text/plain": [
       "0    PA\n",
       "1    KS\n",
       "2    AK\n",
       "3    AL\n",
       "4    AR\n",
       "Name: iso_region, dtype: object"
      ]
     },
     "execution_count": 52,
     "metadata": {},
     "output_type": "execute_result"
    }
   ],
   "source": [
    "us_airport_df_state = us_airport_df['iso_region'].apply(lambda x: x.replace('US-',''))\n",
    "us_airport_df_state.head()"
   ]
  },
  {
   "cell_type": "code",
   "execution_count": 53,
   "metadata": {},
   "outputs": [
    {
     "name": "stdout",
     "output_type": "stream",
     "text": [
      "There are 22655 US airports.\n"
     ]
    }
   ],
   "source": [
    "print(\"There are %d US airports.\" % us_airport_df_state.count())"
   ]
  },
  {
   "cell_type": "code",
   "execution_count": 54,
   "metadata": {},
   "outputs": [
    {
     "data": {
      "text/html": [
       "<div>\n",
       "<style scoped>\n",
       "    .dataframe tbody tr th:only-of-type {\n",
       "        vertical-align: middle;\n",
       "    }\n",
       "\n",
       "    .dataframe tbody tr th {\n",
       "        vertical-align: top;\n",
       "    }\n",
       "\n",
       "    .dataframe thead th {\n",
       "        text-align: right;\n",
       "    }\n",
       "</style>\n",
       "<table border=\"1\" class=\"dataframe\">\n",
       "  <thead>\n",
       "    <tr style=\"text-align: right;\">\n",
       "      <th></th>\n",
       "      <th>ident</th>\n",
       "      <th>type</th>\n",
       "      <th>name</th>\n",
       "      <th>iso_country</th>\n",
       "      <th>municipality</th>\n",
       "      <th>coordinates</th>\n",
       "      <th>iso_region</th>\n",
       "    </tr>\n",
       "  </thead>\n",
       "  <tbody>\n",
       "    <tr>\n",
       "      <th>0</th>\n",
       "      <td>00A</td>\n",
       "      <td>heliport</td>\n",
       "      <td>Total Rf Heliport</td>\n",
       "      <td>US</td>\n",
       "      <td>Bensalem</td>\n",
       "      <td>-74.93360137939453, 40.07080078125</td>\n",
       "      <td>PA</td>\n",
       "    </tr>\n",
       "    <tr>\n",
       "      <th>1</th>\n",
       "      <td>00AA</td>\n",
       "      <td>small_airport</td>\n",
       "      <td>Aero B Ranch Airport</td>\n",
       "      <td>US</td>\n",
       "      <td>Leoti</td>\n",
       "      <td>-101.473911, 38.704022</td>\n",
       "      <td>KS</td>\n",
       "    </tr>\n",
       "    <tr>\n",
       "      <th>2</th>\n",
       "      <td>00AK</td>\n",
       "      <td>small_airport</td>\n",
       "      <td>Lowell Field</td>\n",
       "      <td>US</td>\n",
       "      <td>Anchor Point</td>\n",
       "      <td>-151.695999146, 59.94919968</td>\n",
       "      <td>AK</td>\n",
       "    </tr>\n",
       "    <tr>\n",
       "      <th>3</th>\n",
       "      <td>00AL</td>\n",
       "      <td>small_airport</td>\n",
       "      <td>Epps Airpark</td>\n",
       "      <td>US</td>\n",
       "      <td>Harvest</td>\n",
       "      <td>-86.77030181884766, 34.86479949951172</td>\n",
       "      <td>AL</td>\n",
       "    </tr>\n",
       "    <tr>\n",
       "      <th>4</th>\n",
       "      <td>00AR</td>\n",
       "      <td>closed</td>\n",
       "      <td>Newport Hospital &amp; Clinic Heliport</td>\n",
       "      <td>US</td>\n",
       "      <td>Newport</td>\n",
       "      <td>-91.254898, 35.6087</td>\n",
       "      <td>AR</td>\n",
       "    </tr>\n",
       "  </tbody>\n",
       "</table>\n",
       "</div>"
      ],
      "text/plain": [
       "  ident           type                                name iso_country  \\\n",
       "0   00A       heliport                   Total Rf Heliport          US   \n",
       "1  00AA  small_airport                Aero B Ranch Airport          US   \n",
       "2  00AK  small_airport                        Lowell Field          US   \n",
       "3  00AL  small_airport                        Epps Airpark          US   \n",
       "4  00AR         closed  Newport Hospital & Clinic Heliport          US   \n",
       "\n",
       "   municipality                            coordinates iso_region  \n",
       "0      Bensalem     -74.93360137939453, 40.07080078125         PA  \n",
       "1         Leoti                 -101.473911, 38.704022         KS  \n",
       "2  Anchor Point            -151.695999146, 59.94919968         AK  \n",
       "3       Harvest  -86.77030181884766, 34.86479949951172         AL  \n",
       "4       Newport                    -91.254898, 35.6087         AR  "
      ]
     },
     "execution_count": 54,
     "metadata": {},
     "output_type": "execute_result"
    }
   ],
   "source": [
    "us_airport_df = us_airport_df.drop(columns=['iso_region'])\n",
    "us_airport_df = pd.concat([us_airport_df,us_airport_df_state], axis=1)\n",
    "us_airport_df.head()"
   ]
  },
  {
   "cell_type": "code",
   "execution_count": 55,
   "metadata": {},
   "outputs": [
    {
     "data": {
      "text/plain": [
       "0       [-74.93360137939453,  40.07080078125]\n",
       "1                   [-101.473911,  38.704022]\n",
       "2              [-151.695999146,  59.94919968]\n",
       "3    [-86.77030181884766,  34.86479949951172]\n",
       "4                      [-91.254898,  35.6087]\n",
       "Name: coordinates, dtype: object"
      ]
     },
     "execution_count": 55,
     "metadata": {},
     "output_type": "execute_result"
    }
   ],
   "source": [
    "us_airport_df['coordinates'].apply(lambda x: x.split(',')).head()"
   ]
  },
  {
   "cell_type": "code",
   "execution_count": 56,
   "metadata": {},
   "outputs": [
    {
     "data": {
      "text/plain": [
       "array([['-74.93360137939453', ' 40.07080078125'],\n",
       "       ['-101.473911', ' 38.704022'], ['-151.695999146', ' 59.94919968'],\n",
       "       ..., ['-145.294006348', ' 61.9412002563'],\n",
       "       ['-110.44400024414062', ' 34.003299713134766'],\n",
       "       ['-159.994003296', ' 60.9807014465']], dtype=object)"
      ]
     },
     "execution_count": 56,
     "metadata": {},
     "output_type": "execute_result"
    }
   ],
   "source": [
    "us_airport_df['coordinates'].apply(lambda x: x.split(',')).get_values()"
   ]
  },
  {
   "cell_type": "markdown",
   "metadata": {},
   "source": [
    "## US Cities Demographics [4]"
   ]
  },
  {
   "cell_type": "code",
   "execution_count": 57,
   "metadata": {},
   "outputs": [],
   "source": [
    "us_cities_df = pd.read_csv('us-cities-demographics.csv',sep=';')"
   ]
  },
  {
   "cell_type": "code",
   "execution_count": 58,
   "metadata": {},
   "outputs": [
    {
     "data": {
      "text/html": [
       "<div>\n",
       "<style scoped>\n",
       "    .dataframe tbody tr th:only-of-type {\n",
       "        vertical-align: middle;\n",
       "    }\n",
       "\n",
       "    .dataframe tbody tr th {\n",
       "        vertical-align: top;\n",
       "    }\n",
       "\n",
       "    .dataframe thead th {\n",
       "        text-align: right;\n",
       "    }\n",
       "</style>\n",
       "<table border=\"1\" class=\"dataframe\">\n",
       "  <thead>\n",
       "    <tr style=\"text-align: right;\">\n",
       "      <th></th>\n",
       "      <th>City</th>\n",
       "      <th>State</th>\n",
       "      <th>Median Age</th>\n",
       "      <th>Male Population</th>\n",
       "      <th>Female Population</th>\n",
       "      <th>Total Population</th>\n",
       "      <th>Number of Veterans</th>\n",
       "      <th>Foreign-born</th>\n",
       "      <th>Average Household Size</th>\n",
       "      <th>State Code</th>\n",
       "      <th>Race</th>\n",
       "      <th>Count</th>\n",
       "    </tr>\n",
       "  </thead>\n",
       "  <tbody>\n",
       "    <tr>\n",
       "      <th>0</th>\n",
       "      <td>Silver Spring</td>\n",
       "      <td>Maryland</td>\n",
       "      <td>33.8</td>\n",
       "      <td>40601.0</td>\n",
       "      <td>41862.0</td>\n",
       "      <td>82463</td>\n",
       "      <td>1562.0</td>\n",
       "      <td>30908.0</td>\n",
       "      <td>2.60</td>\n",
       "      <td>MD</td>\n",
       "      <td>Hispanic or Latino</td>\n",
       "      <td>25924</td>\n",
       "    </tr>\n",
       "    <tr>\n",
       "      <th>1</th>\n",
       "      <td>Quincy</td>\n",
       "      <td>Massachusetts</td>\n",
       "      <td>41.0</td>\n",
       "      <td>44129.0</td>\n",
       "      <td>49500.0</td>\n",
       "      <td>93629</td>\n",
       "      <td>4147.0</td>\n",
       "      <td>32935.0</td>\n",
       "      <td>2.39</td>\n",
       "      <td>MA</td>\n",
       "      <td>White</td>\n",
       "      <td>58723</td>\n",
       "    </tr>\n",
       "    <tr>\n",
       "      <th>2</th>\n",
       "      <td>Hoover</td>\n",
       "      <td>Alabama</td>\n",
       "      <td>38.5</td>\n",
       "      <td>38040.0</td>\n",
       "      <td>46799.0</td>\n",
       "      <td>84839</td>\n",
       "      <td>4819.0</td>\n",
       "      <td>8229.0</td>\n",
       "      <td>2.58</td>\n",
       "      <td>AL</td>\n",
       "      <td>Asian</td>\n",
       "      <td>4759</td>\n",
       "    </tr>\n",
       "    <tr>\n",
       "      <th>3</th>\n",
       "      <td>Rancho Cucamonga</td>\n",
       "      <td>California</td>\n",
       "      <td>34.5</td>\n",
       "      <td>88127.0</td>\n",
       "      <td>87105.0</td>\n",
       "      <td>175232</td>\n",
       "      <td>5821.0</td>\n",
       "      <td>33878.0</td>\n",
       "      <td>3.18</td>\n",
       "      <td>CA</td>\n",
       "      <td>Black or African-American</td>\n",
       "      <td>24437</td>\n",
       "    </tr>\n",
       "    <tr>\n",
       "      <th>4</th>\n",
       "      <td>Newark</td>\n",
       "      <td>New Jersey</td>\n",
       "      <td>34.6</td>\n",
       "      <td>138040.0</td>\n",
       "      <td>143873.0</td>\n",
       "      <td>281913</td>\n",
       "      <td>5829.0</td>\n",
       "      <td>86253.0</td>\n",
       "      <td>2.73</td>\n",
       "      <td>NJ</td>\n",
       "      <td>White</td>\n",
       "      <td>76402</td>\n",
       "    </tr>\n",
       "  </tbody>\n",
       "</table>\n",
       "</div>"
      ],
      "text/plain": [
       "               City          State  Median Age  Male Population  \\\n",
       "0     Silver Spring       Maryland        33.8          40601.0   \n",
       "1            Quincy  Massachusetts        41.0          44129.0   \n",
       "2            Hoover        Alabama        38.5          38040.0   \n",
       "3  Rancho Cucamonga     California        34.5          88127.0   \n",
       "4            Newark     New Jersey        34.6         138040.0   \n",
       "\n",
       "   Female Population  Total Population  Number of Veterans  Foreign-born  \\\n",
       "0            41862.0             82463              1562.0       30908.0   \n",
       "1            49500.0             93629              4147.0       32935.0   \n",
       "2            46799.0             84839              4819.0        8229.0   \n",
       "3            87105.0            175232              5821.0       33878.0   \n",
       "4           143873.0            281913              5829.0       86253.0   \n",
       "\n",
       "   Average Household Size State Code                       Race  Count  \n",
       "0                    2.60         MD         Hispanic or Latino  25924  \n",
       "1                    2.39         MA                      White  58723  \n",
       "2                    2.58         AL                      Asian   4759  \n",
       "3                    3.18         CA  Black or African-American  24437  \n",
       "4                    2.73         NJ                      White  76402  "
      ]
     },
     "execution_count": 58,
     "metadata": {},
     "output_type": "execute_result"
    }
   ],
   "source": [
    "us_cities_df.head()"
   ]
  },
  {
   "cell_type": "code",
   "execution_count": 59,
   "metadata": {},
   "outputs": [
    {
     "name": "stdout",
     "output_type": "stream",
     "text": [
      "There are 2891 entries.\n"
     ]
    }
   ],
   "source": [
    "print(\"There are %d entries.\" % len(us_cities_df) )"
   ]
  },
  {
   "cell_type": "markdown",
   "metadata": {},
   "source": [
    "Let's look at columns"
   ]
  },
  {
   "cell_type": "code",
   "execution_count": 60,
   "metadata": {},
   "outputs": [
    {
     "data": {
      "text/plain": [
       "Index(['City', 'State', 'Median Age', 'Male Population', 'Female Population',\n",
       "       'Total Population', 'Number of Veterans', 'Foreign-born',\n",
       "       'Average Household Size', 'State Code', 'Race', 'Count'],\n",
       "      dtype='object')"
      ]
     },
     "execution_count": 60,
     "metadata": {},
     "output_type": "execute_result"
    }
   ],
   "source": [
    "us_cities_df.columns"
   ]
  },
  {
   "cell_type": "code",
   "execution_count": 61,
   "metadata": {},
   "outputs": [
    {
     "name": "stdout",
     "output_type": "stream",
     "text": [
      "           Column Name  Count Percentage\n",
      "                  City      0     0.00\n",
      "                 State      0     0.00\n",
      "            Median Age      0     0.00\n",
      "       Male Population      3     0.10\n",
      "     Female Population      3     0.10\n",
      "      Total Population      0     0.00\n",
      "    Number of Veterans     13     0.45\n",
      "          Foreign-born     13     0.45\n",
      "Average Household Size     16     0.55\n",
      "            State Code      0     0.00\n",
      "                  Race      0     0.00\n",
      "                 Count      0     0.00\n",
      "Number of total records is 2891.\n",
      "\n"
     ]
    }
   ],
   "source": [
    "check_NaN_Values_DF(us_cities_df,us_cities_df.columns)"
   ]
  },
  {
   "cell_type": "markdown",
   "metadata": {},
   "source": [
    "We can drop rows having NaN values while we still have at least more than 98% of data."
   ]
  },
  {
   "cell_type": "code",
   "execution_count": 62,
   "metadata": {},
   "outputs": [
    {
     "data": {
      "text/html": [
       "<div>\n",
       "<style scoped>\n",
       "    .dataframe tbody tr th:only-of-type {\n",
       "        vertical-align: middle;\n",
       "    }\n",
       "\n",
       "    .dataframe tbody tr th {\n",
       "        vertical-align: top;\n",
       "    }\n",
       "\n",
       "    .dataframe thead th {\n",
       "        text-align: right;\n",
       "    }\n",
       "</style>\n",
       "<table border=\"1\" class=\"dataframe\">\n",
       "  <thead>\n",
       "    <tr style=\"text-align: right;\">\n",
       "      <th></th>\n",
       "      <th>City</th>\n",
       "      <th>State</th>\n",
       "      <th>Median Age</th>\n",
       "      <th>Male Population</th>\n",
       "      <th>Female Population</th>\n",
       "      <th>Total Population</th>\n",
       "      <th>Number of Veterans</th>\n",
       "      <th>Foreign-born</th>\n",
       "      <th>Average Household Size</th>\n",
       "      <th>State Code</th>\n",
       "      <th>Race</th>\n",
       "      <th>Count</th>\n",
       "    </tr>\n",
       "  </thead>\n",
       "  <tbody>\n",
       "    <tr>\n",
       "      <th>0</th>\n",
       "      <td>Silver Spring</td>\n",
       "      <td>Maryland</td>\n",
       "      <td>33.8</td>\n",
       "      <td>40601.0</td>\n",
       "      <td>41862.0</td>\n",
       "      <td>82463</td>\n",
       "      <td>1562.0</td>\n",
       "      <td>30908.0</td>\n",
       "      <td>2.60</td>\n",
       "      <td>MD</td>\n",
       "      <td>Hispanic or Latino</td>\n",
       "      <td>25924</td>\n",
       "    </tr>\n",
       "    <tr>\n",
       "      <th>1</th>\n",
       "      <td>Quincy</td>\n",
       "      <td>Massachusetts</td>\n",
       "      <td>41.0</td>\n",
       "      <td>44129.0</td>\n",
       "      <td>49500.0</td>\n",
       "      <td>93629</td>\n",
       "      <td>4147.0</td>\n",
       "      <td>32935.0</td>\n",
       "      <td>2.39</td>\n",
       "      <td>MA</td>\n",
       "      <td>White</td>\n",
       "      <td>58723</td>\n",
       "    </tr>\n",
       "    <tr>\n",
       "      <th>2</th>\n",
       "      <td>Hoover</td>\n",
       "      <td>Alabama</td>\n",
       "      <td>38.5</td>\n",
       "      <td>38040.0</td>\n",
       "      <td>46799.0</td>\n",
       "      <td>84839</td>\n",
       "      <td>4819.0</td>\n",
       "      <td>8229.0</td>\n",
       "      <td>2.58</td>\n",
       "      <td>AL</td>\n",
       "      <td>Asian</td>\n",
       "      <td>4759</td>\n",
       "    </tr>\n",
       "    <tr>\n",
       "      <th>3</th>\n",
       "      <td>Rancho Cucamonga</td>\n",
       "      <td>California</td>\n",
       "      <td>34.5</td>\n",
       "      <td>88127.0</td>\n",
       "      <td>87105.0</td>\n",
       "      <td>175232</td>\n",
       "      <td>5821.0</td>\n",
       "      <td>33878.0</td>\n",
       "      <td>3.18</td>\n",
       "      <td>CA</td>\n",
       "      <td>Black or African-American</td>\n",
       "      <td>24437</td>\n",
       "    </tr>\n",
       "    <tr>\n",
       "      <th>4</th>\n",
       "      <td>Newark</td>\n",
       "      <td>New Jersey</td>\n",
       "      <td>34.6</td>\n",
       "      <td>138040.0</td>\n",
       "      <td>143873.0</td>\n",
       "      <td>281913</td>\n",
       "      <td>5829.0</td>\n",
       "      <td>86253.0</td>\n",
       "      <td>2.73</td>\n",
       "      <td>NJ</td>\n",
       "      <td>White</td>\n",
       "      <td>76402</td>\n",
       "    </tr>\n",
       "  </tbody>\n",
       "</table>\n",
       "</div>"
      ],
      "text/plain": [
       "               City          State  Median Age  Male Population  \\\n",
       "0     Silver Spring       Maryland        33.8          40601.0   \n",
       "1            Quincy  Massachusetts        41.0          44129.0   \n",
       "2            Hoover        Alabama        38.5          38040.0   \n",
       "3  Rancho Cucamonga     California        34.5          88127.0   \n",
       "4            Newark     New Jersey        34.6         138040.0   \n",
       "\n",
       "   Female Population  Total Population  Number of Veterans  Foreign-born  \\\n",
       "0            41862.0             82463              1562.0       30908.0   \n",
       "1            49500.0             93629              4147.0       32935.0   \n",
       "2            46799.0             84839              4819.0        8229.0   \n",
       "3            87105.0            175232              5821.0       33878.0   \n",
       "4           143873.0            281913              5829.0       86253.0   \n",
       "\n",
       "   Average Household Size State Code                       Race  Count  \n",
       "0                    2.60         MD         Hispanic or Latino  25924  \n",
       "1                    2.39         MA                      White  58723  \n",
       "2                    2.58         AL                      Asian   4759  \n",
       "3                    3.18         CA  Black or African-American  24437  \n",
       "4                    2.73         NJ                      White  76402  "
      ]
     },
     "execution_count": 62,
     "metadata": {},
     "output_type": "execute_result"
    }
   ],
   "source": [
    "us_cities_df = us_cities_df.dropna()\n",
    "us_cities_df.head()"
   ]
  },
  {
   "cell_type": "code",
   "execution_count": 63,
   "metadata": {},
   "outputs": [
    {
     "name": "stdout",
     "output_type": "stream",
     "text": [
      "There are 2875 entries.\n"
     ]
    }
   ],
   "source": [
    "print(\"There are %d entries.\" % len(us_cities_df) )"
   ]
  },
  {
   "cell_type": "markdown",
   "metadata": {},
   "source": [
    "Raw data has the following columns;\n",
    "\n",
    "| Column             | Data Type | Description |\n",
    "|--------------------|-----------|-------------|\n",
    "| City               | string    | City        |\n",
    "| State              | string    | State        |\n",
    "| Median Age         | float   | Median Age |\n",
    "| Male Population    | integer | Male Population |\n",
    "| Female Population   | integer | Female Population |\n",
    "| Total Population   | integer | Total Population |\n",
    "| Number of Veterans | integer | Number of Veterans |\n",
    "| Foreign-born       | integer | Number of foreign-born |\n",
    "| Average Household Size | float | Average Household Size |\n",
    "| State Code         | string  | State Code |\n",
    "| Race               | string  | Race |\n",
    "| Count              | integer | Count |"
   ]
  },
  {
   "cell_type": "markdown",
   "metadata": {},
   "source": [
    "## Global Land Temperatures By City [5]"
   ]
  },
  {
   "cell_type": "code",
   "execution_count": 64,
   "metadata": {},
   "outputs": [],
   "source": [
    "\n",
    "fname = '../../data2/GlobalLandTemperaturesByCity.csv'\n",
    "temp_df = pd.read_csv(fname)"
   ]
  },
  {
   "cell_type": "code",
   "execution_count": 65,
   "metadata": {},
   "outputs": [
    {
     "data": {
      "text/html": [
       "<div>\n",
       "<style scoped>\n",
       "    .dataframe tbody tr th:only-of-type {\n",
       "        vertical-align: middle;\n",
       "    }\n",
       "\n",
       "    .dataframe tbody tr th {\n",
       "        vertical-align: top;\n",
       "    }\n",
       "\n",
       "    .dataframe thead th {\n",
       "        text-align: right;\n",
       "    }\n",
       "</style>\n",
       "<table border=\"1\" class=\"dataframe\">\n",
       "  <thead>\n",
       "    <tr style=\"text-align: right;\">\n",
       "      <th></th>\n",
       "      <th>dt</th>\n",
       "      <th>AverageTemperature</th>\n",
       "      <th>AverageTemperatureUncertainty</th>\n",
       "      <th>City</th>\n",
       "      <th>Country</th>\n",
       "      <th>Latitude</th>\n",
       "      <th>Longitude</th>\n",
       "    </tr>\n",
       "  </thead>\n",
       "  <tbody>\n",
       "    <tr>\n",
       "      <th>0</th>\n",
       "      <td>1743-11-01</td>\n",
       "      <td>6.068</td>\n",
       "      <td>1.737</td>\n",
       "      <td>Århus</td>\n",
       "      <td>Denmark</td>\n",
       "      <td>57.05N</td>\n",
       "      <td>10.33E</td>\n",
       "    </tr>\n",
       "    <tr>\n",
       "      <th>1</th>\n",
       "      <td>1743-12-01</td>\n",
       "      <td>NaN</td>\n",
       "      <td>NaN</td>\n",
       "      <td>Århus</td>\n",
       "      <td>Denmark</td>\n",
       "      <td>57.05N</td>\n",
       "      <td>10.33E</td>\n",
       "    </tr>\n",
       "    <tr>\n",
       "      <th>2</th>\n",
       "      <td>1744-01-01</td>\n",
       "      <td>NaN</td>\n",
       "      <td>NaN</td>\n",
       "      <td>Århus</td>\n",
       "      <td>Denmark</td>\n",
       "      <td>57.05N</td>\n",
       "      <td>10.33E</td>\n",
       "    </tr>\n",
       "    <tr>\n",
       "      <th>3</th>\n",
       "      <td>1744-02-01</td>\n",
       "      <td>NaN</td>\n",
       "      <td>NaN</td>\n",
       "      <td>Århus</td>\n",
       "      <td>Denmark</td>\n",
       "      <td>57.05N</td>\n",
       "      <td>10.33E</td>\n",
       "    </tr>\n",
       "    <tr>\n",
       "      <th>4</th>\n",
       "      <td>1744-03-01</td>\n",
       "      <td>NaN</td>\n",
       "      <td>NaN</td>\n",
       "      <td>Århus</td>\n",
       "      <td>Denmark</td>\n",
       "      <td>57.05N</td>\n",
       "      <td>10.33E</td>\n",
       "    </tr>\n",
       "  </tbody>\n",
       "</table>\n",
       "</div>"
      ],
      "text/plain": [
       "           dt  AverageTemperature  AverageTemperatureUncertainty   City  \\\n",
       "0  1743-11-01               6.068                          1.737  Århus   \n",
       "1  1743-12-01                 NaN                            NaN  Århus   \n",
       "2  1744-01-01                 NaN                            NaN  Århus   \n",
       "3  1744-02-01                 NaN                            NaN  Århus   \n",
       "4  1744-03-01                 NaN                            NaN  Århus   \n",
       "\n",
       "   Country Latitude Longitude  \n",
       "0  Denmark   57.05N    10.33E  \n",
       "1  Denmark   57.05N    10.33E  \n",
       "2  Denmark   57.05N    10.33E  \n",
       "3  Denmark   57.05N    10.33E  \n",
       "4  Denmark   57.05N    10.33E  "
      ]
     },
     "execution_count": 65,
     "metadata": {},
     "output_type": "execute_result"
    }
   ],
   "source": [
    "temp_df.head(5)"
   ]
  },
  {
   "cell_type": "code",
   "execution_count": 66,
   "metadata": {},
   "outputs": [
    {
     "name": "stdout",
     "output_type": "stream",
     "text": [
      "           Column Name  Count Percentage\n",
      "                    dt      0     0.00\n",
      "    AverageTemperature 364130     4.23\n",
      "AverageTemperatureUncertainty 364130     4.23\n",
      "                  City      0     0.00\n",
      "               Country      0     0.00\n",
      "              Latitude      0     0.00\n",
      "             Longitude      0     0.00\n",
      "Number of total records is 8599212.\n",
      "\n"
     ]
    }
   ],
   "source": [
    "check_NaN_Values_DF(temp_df,temp_df.columns)"
   ]
  },
  {
   "cell_type": "code",
   "execution_count": 67,
   "metadata": {},
   "outputs": [
    {
     "name": "stdout",
     "output_type": "stream",
     "text": [
      "Number of rows both colums have NaN is 0\n",
      "\n"
     ]
    }
   ],
   "source": [
    "print(\"Number of rows both colums have NaN is %d\\n\" % len(temp_df[(temp_df.AverageTemperature == None) & (temp_df.AverageTemperatureUncertainty == None)]) )"
   ]
  },
  {
   "cell_type": "markdown",
   "metadata": {},
   "source": [
    "It seems that it is safe to drop these rows instead of imputation (fillna). We will have at least 91% of data. "
   ]
  },
  {
   "cell_type": "code",
   "execution_count": 68,
   "metadata": {},
   "outputs": [
    {
     "name": "stdout",
     "output_type": "stream",
     "text": [
      "           Column Name  Count Percentage\n",
      "                    dt      0     0.00\n",
      "    AverageTemperature      0     0.00\n",
      "AverageTemperatureUncertainty      0     0.00\n",
      "                  City      0     0.00\n",
      "               Country      0     0.00\n",
      "              Latitude      0     0.00\n",
      "             Longitude      0     0.00\n",
      "Number of total records is 8235082.\n",
      "\n"
     ]
    }
   ],
   "source": [
    "temp_df = temp_df.dropna()\n",
    "check_NaN_Values_DF(temp_df,temp_df.columns)"
   ]
  },
  {
   "cell_type": "code",
   "execution_count": null,
   "metadata": {},
   "outputs": [],
   "source": []
  },
  {
   "cell_type": "code",
   "execution_count": 3,
   "metadata": {},
   "outputs": [],
   "source": [
    "\t\n",
    "from pyspark.sql import SparkSession\n",
    "from pyspark.sql.functions import *\n",
    "\n",
    "output_data = './star/'\n",
    "\n",
    "spark = SparkSession.builder.\\\n",
    "config(\"spark.jars.packages\",\"saurfang:spark-sas7bdat:2.0.0-s_2.11\")\\\n",
    ".enableHiveSupport().getOrCreate()\n",
    "df_spark =spark.read.format('com.github.saurfang.sas.spark').load('../../data/18-83510-I94-Data-2016/i94_apr16_sub.sas7bdat')\n"
   ]
  },
  {
   "cell_type": "code",
   "execution_count": 4,
   "metadata": {},
   "outputs": [],
   "source": [
    "#write to parquet\n",
    "#df_spark.write.mode(\"overwrite\").parquet(\"sas_data_test\")\n",
    "#df_spark=spark.read.parquet(\"sas_data_test\")"
   ]
  },
  {
   "cell_type": "markdown",
   "metadata": {},
   "source": [
    "### Step 2: Explore and Assess the Data\n"
   ]
  },
  {
   "cell_type": "markdown",
   "metadata": {},
   "source": [
    "#### Explore the Data: US Cities Demographics"
   ]
  },
  {
   "cell_type": "code",
   "execution_count": 4,
   "metadata": {},
   "outputs": [
    {
     "name": "stdout",
     "output_type": "stream",
     "text": [
      "root\n",
      " |-- City: string (nullable = true)\n",
      " |-- State: string (nullable = true)\n",
      " |-- Median Age: string (nullable = true)\n",
      " |-- Male Population: string (nullable = true)\n",
      " |-- Female Population: string (nullable = true)\n",
      " |-- Total Population: string (nullable = true)\n",
      " |-- Number of Veterans: string (nullable = true)\n",
      " |-- Foreign-born: string (nullable = true)\n",
      " |-- Average Household Size: string (nullable = true)\n",
      " |-- State Code: string (nullable = true)\n",
      " |-- Race: string (nullable = true)\n",
      " |-- Count: string (nullable = true)\n",
      "\n",
      "+----------------+-------------+----------+---------------+-----------------+----------------+------------------+------------+----------------------+----------+--------------------+-----+\n",
      "|            City|        State|Median Age|Male Population|Female Population|Total Population|Number of Veterans|Foreign-born|Average Household Size|State Code|                Race|Count|\n",
      "+----------------+-------------+----------+---------------+-----------------+----------------+------------------+------------+----------------------+----------+--------------------+-----+\n",
      "|   Silver Spring|     Maryland|      33.8|          40601|            41862|           82463|              1562|       30908|                   2.6|        MD|  Hispanic or Latino|25924|\n",
      "|          Quincy|Massachusetts|      41.0|          44129|            49500|           93629|              4147|       32935|                  2.39|        MA|               White|58723|\n",
      "|          Hoover|      Alabama|      38.5|          38040|            46799|           84839|              4819|        8229|                  2.58|        AL|               Asian| 4759|\n",
      "|Rancho Cucamonga|   California|      34.5|          88127|            87105|          175232|              5821|       33878|                  3.18|        CA|Black or African-...|24437|\n",
      "|          Newark|   New Jersey|      34.6|         138040|           143873|          281913|              5829|       86253|                  2.73|        NJ|               White|76402|\n",
      "+----------------+-------------+----------+---------------+-----------------+----------------+------------------+------------+----------------------+----------+--------------------+-----+\n",
      "only showing top 5 rows\n",
      "\n",
      "+-------+-------+---------+-----------------+------------------+------------------+------------------+------------------+------------------+----------------------+----------+--------------------+------------------+\n",
      "|summary|   City|    State|       Median Age|   Male Population| Female Population|  Total Population|Number of Veterans|      Foreign-born|Average Household Size|State Code|                Race|             Count|\n",
      "+-------+-------+---------+-----------------+------------------+------------------+------------------+------------------+------------------+----------------------+----------+--------------------+------------------+\n",
      "|  count|   2891|     2891|             2891|              2888|              2888|              2891|              2878|              2878|                  2875|      2891|                2891|              2891|\n",
      "|   mean|   null|     null|35.49488066413016| 97328.42624653739|101769.63088642659|198966.77931511588| 9367.832522585128|40653.598679638635|     2.742542608695655|      null|                null| 48963.77447250087|\n",
      "| stddev|   null|     null|4.401616730099886|216299.93692873296|231564.57257148277| 447555.9296335903| 13211.21992386408| 155749.1036650984|    0.4332910878973046|      null|                null|144385.58856460615|\n",
      "|    min|Abilene|  Alabama|             22.9|            100135|            100260|            100247|             10001|             10024|                   2.0|        AK|American Indian a...|            100055|\n",
      "|    max|   Yuma|Wisconsin|             70.5|             99967|             99430|             99897|              9988|              9929|                  4.98|        WI|               White|             99948|\n",
      "+-------+-------+---------+-----------------+------------------+------------------+------------------+------------------+------------------+----------------------+----------+--------------------+------------------+\n",
      "\n"
     ]
    }
   ],
   "source": [
    "df_spark_us_cities = spark.read.csv(\"./us-cities-demographics.csv\", sep = ';', header = True)\n",
    "logger.debug(\"Opened %s\\n\",\"./us-cities-demographics.csv\")\n",
    "df_spark_us_cities.printSchema()\n",
    "df_spark_us_cities.show(5)\n",
    "df_spark_us_cities.describe().show()"
   ]
  },
  {
   "cell_type": "code",
   "execution_count": 5,
   "metadata": {},
   "outputs": [],
   "source": [
    "def check_nan_counts(df):\n",
    "    assert (df != None), \"Invalid Value!\"\n",
    "    for c in df.columns:\n",
    "        print(\"Number of rows with None %s column is %d\" % (c, df.filter( (df[c].isNull()) ).count()) )\n",
    "    print(\"There are %d records!\" % df.count())"
   ]
  },
  {
   "cell_type": "code",
   "execution_count": 6,
   "metadata": {},
   "outputs": [],
   "source": [
    "def check_nan_counts2(df):\n",
    "    assert (df != None), \"Invalid Value!\"\n",
    "    len = df.count()\n",
    "    print(\"%22s %10s %8s\" % ('Column Name','Count', 'Percentage'))\n",
    "    for c in df.columns:\n",
    "        cnt = df.filter( (df[c].isNull()) ).count()\n",
    "        print(\"%22s %10d %8.2f\" % (c, cnt, 100*(cnt/len) ))\n",
    "    print(\"\\nThere are %d records!\\n\" % len )"
   ]
  },
  {
   "cell_type": "code",
   "execution_count": 7,
   "metadata": {},
   "outputs": [
    {
     "name": "stdout",
     "output_type": "stream",
     "text": [
      "Number of rows with None City column is 0\n",
      "Number of rows with None State column is 0\n",
      "Number of rows with None Median Age column is 0\n",
      "Number of rows with None Male Population column is 3\n",
      "Number of rows with None Female Population column is 3\n",
      "Number of rows with None Total Population column is 0\n",
      "Number of rows with None Number of Veterans column is 13\n",
      "Number of rows with None Foreign-born column is 13\n",
      "Number of rows with None Average Household Size column is 16\n",
      "Number of rows with None State Code column is 0\n",
      "Number of rows with None Race column is 0\n",
      "Number of rows with None Count column is 0\n",
      "There are 2891 records!\n"
     ]
    }
   ],
   "source": [
    "check_nan_counts(df_spark_us_cities)"
   ]
  },
  {
   "cell_type": "markdown",
   "metadata": {},
   "source": [
    "<b>Conclusion</b>: We should apply dropna() to drop rows that has a column with NaN value."
   ]
  },
  {
   "cell_type": "markdown",
   "metadata": {},
   "source": [
    "#### Explore the Data: US Airports"
   ]
  },
  {
   "cell_type": "code",
   "execution_count": 8,
   "metadata": {},
   "outputs": [
    {
     "name": "stdout",
     "output_type": "stream",
     "text": [
      "root\n",
      " |-- ident: string (nullable = true)\n",
      " |-- type: string (nullable = true)\n",
      " |-- name: string (nullable = true)\n",
      " |-- elevation_ft: string (nullable = true)\n",
      " |-- continent: string (nullable = true)\n",
      " |-- iso_country: string (nullable = true)\n",
      " |-- iso_region: string (nullable = true)\n",
      " |-- municipality: string (nullable = true)\n",
      " |-- gps_code: string (nullable = true)\n",
      " |-- iata_code: string (nullable = true)\n",
      " |-- local_code: string (nullable = true)\n",
      " |-- coordinates: string (nullable = true)\n",
      "\n",
      "+-----+-------------+--------------------+------------+---------+-----------+----------+------------+--------+---------+----------+--------------------+\n",
      "|ident|         type|                name|elevation_ft|continent|iso_country|iso_region|municipality|gps_code|iata_code|local_code|         coordinates|\n",
      "+-----+-------------+--------------------+------------+---------+-----------+----------+------------+--------+---------+----------+--------------------+\n",
      "|  00A|     heliport|   Total Rf Heliport|          11|       NA|         US|     US-PA|    Bensalem|     00A|     null|       00A|-74.9336013793945...|\n",
      "| 00AA|small_airport|Aero B Ranch Airport|        3435|       NA|         US|     US-KS|       Leoti|    00AA|     null|      00AA|-101.473911, 38.7...|\n",
      "| 00AK|small_airport|        Lowell Field|         450|       NA|         US|     US-AK|Anchor Point|    00AK|     null|      00AK|-151.695999146, 5...|\n",
      "| 00AL|small_airport|        Epps Airpark|         820|       NA|         US|     US-AL|     Harvest|    00AL|     null|      00AL|-86.7703018188476...|\n",
      "| 00AR|       closed|Newport Hospital ...|         237|       NA|         US|     US-AR|     Newport|    null|     null|      null| -91.254898, 35.6087|\n",
      "+-----+-------------+--------------------+------------+---------+-----------+----------+------------+--------+---------+----------+--------------------+\n",
      "only showing top 5 rows\n",
      "\n"
     ]
    }
   ],
   "source": [
    "# Load CSV file \n",
    "df_spark_us_airports = spark.read.csv(\"./airport-codes_csv.csv\", sep = ',', header = True)\n",
    "logger.info(\"Opened %s\\n\",\"./us-cities-demographics.csv\")\n",
    "df_spark_us_airports.printSchema()\n",
    "df_spark_us_airports.show(5)"
   ]
  },
  {
   "cell_type": "code",
   "execution_count": 9,
   "metadata": {},
   "outputs": [
    {
     "name": "stdout",
     "output_type": "stream",
     "text": [
      "           Column Name      Count Percentage\n",
      "                 ident          0     0.00\n",
      "                  type          0     0.00\n",
      "                  name          0     0.00\n",
      "          elevation_ft       7006    12.72\n",
      "             continent          0     0.00\n",
      "           iso_country          0     0.00\n",
      "            iso_region          0     0.00\n",
      "          municipality       5676    10.31\n",
      "              gps_code      14045    25.50\n",
      "             iata_code      45886    83.32\n",
      "            local_code      26389    47.91\n",
      "           coordinates          0     0.00\n",
      "\n",
      "There are 55075 records!\n",
      "\n"
     ]
    }
   ],
   "source": [
    "check_nan_counts2(df_spark_us_airports)"
   ]
  },
  {
   "cell_type": "markdown",
   "metadata": {},
   "source": [
    "<b>Conclusion</b>: It is beneficial to drop columns (iata_code,local_code,gps_code,elevation_ft) because of their high percentage of null values. Then, apply dropna() to drop rows that has a column with NaN value."
   ]
  },
  {
   "cell_type": "code",
   "execution_count": 10,
   "metadata": {},
   "outputs": [],
   "source": [
    "df_spark_us_airports = df_spark_us_airports.select('ident','iso_country','iso_region','municipality',\\\n",
    "                                               'name','type','coordinates')"
   ]
  },
  {
   "cell_type": "code",
   "execution_count": 11,
   "metadata": {},
   "outputs": [
    {
     "name": "stdout",
     "output_type": "stream",
     "text": [
      "           Column Name      Count Percentage\n",
      "                 ident          0     0.00\n",
      "           iso_country          0     0.00\n",
      "            iso_region          0     0.00\n",
      "          municipality       5676    10.31\n",
      "                  name          0     0.00\n",
      "                  type          0     0.00\n",
      "           coordinates          0     0.00\n",
      "\n",
      "There are 55075 records!\n",
      "\n"
     ]
    }
   ],
   "source": [
    "check_nan_counts2(df_spark_us_airports)"
   ]
  },
  {
   "cell_type": "markdown",
   "metadata": {},
   "source": [
    "<b>Then</b>: Apply dropna() to drop rows that has a column with NaN value."
   ]
  },
  {
   "cell_type": "code",
   "execution_count": 12,
   "metadata": {},
   "outputs": [
    {
     "name": "stdout",
     "output_type": "stream",
     "text": [
      "           Column Name      Count Percentage\n",
      "                 ident          0     0.00\n",
      "           iso_country          0     0.00\n",
      "            iso_region          0     0.00\n",
      "          municipality          0     0.00\n",
      "                  name          0     0.00\n",
      "                  type          0     0.00\n",
      "           coordinates          0     0.00\n",
      "\n",
      "There are 49399 records!\n",
      "\n"
     ]
    }
   ],
   "source": [
    "check_nan_counts2(df_spark_us_airports.dropna())"
   ]
  },
  {
   "cell_type": "code",
   "execution_count": 13,
   "metadata": {},
   "outputs": [
    {
     "name": "stdout",
     "output_type": "stream",
     "text": [
      "+-----------+-----+\n",
      "|iso_country|count|\n",
      "+-----------+-----+\n",
      "|         US|22757|\n",
      "|         BR| 4334|\n",
      "|         CA| 2784|\n",
      "|         AU| 1963|\n",
      "|         KR| 1376|\n",
      "|         MX| 1181|\n",
      "|         RU| 1040|\n",
      "|         DE|  947|\n",
      "|         GB|  911|\n",
      "|         FR|  850|\n",
      "+-----------+-----+\n",
      "only showing top 10 rows\n",
      "\n"
     ]
    }
   ],
   "source": [
    "df_spark_us_airports.select('iso_country','iso_region','municipality')\\\n",
    "                    .groupby('iso_country')\\\n",
    "                    .count()\\\n",
    "                    .orderBy('count',ascending=False)\\\n",
    "                    .show(10)\n",
    "#display(df_vis)\n",
    "#print(df_vis.column)\n",
    "#sns.barplot(x='iso_country', y='count', data=df_vis.toPandas(),height=6, kind=\"bar\", palette=\"muted\")"
   ]
  },
  {
   "cell_type": "markdown",
   "metadata": {},
   "source": [
    "#### Explore the Data: Global Land Temperatures By City"
   ]
  },
  {
   "cell_type": "code",
   "execution_count": 14,
   "metadata": {},
   "outputs": [
    {
     "name": "stdout",
     "output_type": "stream",
     "text": [
      "root\n",
      " |-- dt: string (nullable = true)\n",
      " |-- AverageTemperature: string (nullable = true)\n",
      " |-- AverageTemperatureUncertainty: string (nullable = true)\n",
      " |-- City: string (nullable = true)\n",
      " |-- Country: string (nullable = true)\n",
      " |-- Latitude: string (nullable = true)\n",
      " |-- Longitude: string (nullable = true)\n",
      "\n",
      "+----------+------------------+-----------------------------+-----+-------+--------+---------+\n",
      "|        dt|AverageTemperature|AverageTemperatureUncertainty| City|Country|Latitude|Longitude|\n",
      "+----------+------------------+-----------------------------+-----+-------+--------+---------+\n",
      "|1743-11-01|             6.068|           1.7369999999999999|Århus|Denmark|  57.05N|   10.33E|\n",
      "|1743-12-01|              null|                         null|Århus|Denmark|  57.05N|   10.33E|\n",
      "|1744-01-01|              null|                         null|Århus|Denmark|  57.05N|   10.33E|\n",
      "|1744-02-01|              null|                         null|Århus|Denmark|  57.05N|   10.33E|\n",
      "|1744-03-01|              null|                         null|Århus|Denmark|  57.05N|   10.33E|\n",
      "+----------+------------------+-----------------------------+-----+-------+--------+---------+\n",
      "only showing top 5 rows\n",
      "\n",
      "+-------+----------+--------------------+-----------------------------+--------+-----------+--------+---------+\n",
      "|summary|        dt|  AverageTemperature|AverageTemperatureUncertainty|    City|    Country|Latitude|Longitude|\n",
      "+-------+----------+--------------------+-----------------------------+--------+-----------+--------+---------+\n",
      "|  count|   8599212|             8235082|                      8235082| 8599212|    8599212| 8599212|  8599212|\n",
      "|   mean|      null|  16.727432636250835|           1.0285747414536532|    null|       null|    null|     null|\n",
      "| stddev|      null|  10.353442482534422|           1.1297332887133706|    null|       null|    null|     null|\n",
      "|    min|1743-11-01|-0.00099999999999...|                        0.034|A Coruña|Afghanistan|   0.80N|    0.00W|\n",
      "|    max|2013-09-01|               9.999|                        9.998|  Ürümqi|   Zimbabwe|   8.84S|   99.91E|\n",
      "+-------+----------+--------------------+-----------------------------+--------+-----------+--------+---------+\n",
      "\n"
     ]
    }
   ],
   "source": [
    "df_spark_us_temps = spark.read.csv(\"../../data2/GlobalLandTemperaturesByCity.csv\", header = True)\n",
    "logger.info(\"Opened %s\\n\",\"../../data2/GlobalLandTemperaturesByCity.csv\")\n",
    "df_spark_us_temps.printSchema()\n",
    "df_spark_us_temps.show(5)\n",
    "df_spark_us_temps.describe().show()"
   ]
  },
  {
   "cell_type": "code",
   "execution_count": 15,
   "metadata": {},
   "outputs": [
    {
     "name": "stdout",
     "output_type": "stream",
     "text": [
      "           Column Name      Count Percentage\n",
      "                    dt          0     0.00\n",
      "    AverageTemperature     364130     4.23\n",
      "AverageTemperatureUncertainty     364130     4.23\n",
      "                  City          0     0.00\n",
      "               Country          0     0.00\n",
      "              Latitude          0     0.00\n",
      "             Longitude          0     0.00\n",
      "\n",
      "There are 8599212 records!\n",
      "\n"
     ]
    }
   ],
   "source": [
    "check_nan_counts2(df_spark_us_temps)"
   ]
  },
  {
   "cell_type": "markdown",
   "metadata": {},
   "source": [
    "<b>Conclusion</b>: : Apply dropna() to drop rows that has a column with NaN value."
   ]
  },
  {
   "cell_type": "code",
   "execution_count": 16,
   "metadata": {},
   "outputs": [
    {
     "name": "stdout",
     "output_type": "stream",
     "text": [
      "           Column Name      Count Percentage\n",
      "                    dt          0     0.00\n",
      "    AverageTemperature          0     0.00\n",
      "AverageTemperatureUncertainty          0     0.00\n",
      "                  City          0     0.00\n",
      "               Country          0     0.00\n",
      "              Latitude          0     0.00\n",
      "             Longitude          0     0.00\n",
      "\n",
      "There are 8235082 records!\n",
      "\n"
     ]
    }
   ],
   "source": [
    "check_nan_counts2(df_spark_us_temps.dropna())"
   ]
  },
  {
   "cell_type": "code",
   "execution_count": 17,
   "metadata": {},
   "outputs": [
    {
     "name": "stdout",
     "output_type": "stream",
     "text": [
      "+-------+----------+--------------------+-----------------------------+--------+-----------+--------+---------+\n",
      "|summary|        dt|  AverageTemperature|AverageTemperatureUncertainty|    City|    Country|Latitude|Longitude|\n",
      "+-------+----------+--------------------+-----------------------------+--------+-----------+--------+---------+\n",
      "|  count|   8599212|             8235082|                      8235082| 8599212|    8599212| 8599212|  8599212|\n",
      "|   mean|      null|  16.727432636250835|           1.0285747414536532|    null|       null|    null|     null|\n",
      "| stddev|      null|  10.353442482534422|           1.1297332887133706|    null|       null|    null|     null|\n",
      "|    min|1743-11-01|-0.00099999999999...|                        0.034|A Coruña|Afghanistan|   0.80N|    0.00W|\n",
      "|    max|2013-09-01|               9.999|                        9.998|  Ürümqi|   Zimbabwe|   8.84S|   99.91E|\n",
      "+-------+----------+--------------------+-----------------------------+--------+-----------+--------+---------+\n",
      "\n"
     ]
    }
   ],
   "source": [
    "df_spark_us_temps.describe().show()"
   ]
  },
  {
   "cell_type": "markdown",
   "metadata": {},
   "source": [
    "#### Explore the Data: US Visitors Data"
   ]
  },
  {
   "cell_type": "code",
   "execution_count": 18,
   "metadata": {},
   "outputs": [
    {
     "name": "stdout",
     "output_type": "stream",
     "text": [
      "           Column Name      Count Percentage\n",
      "                 cicid          0     0.00\n",
      "                 i94yr          0     0.00\n",
      "                i94mon          0     0.00\n",
      "                i94cit          0     0.00\n",
      "                i94res          0     0.00\n",
      "               i94port          0     0.00\n",
      "               arrdate          0     0.00\n",
      "               i94mode        239     0.01\n",
      "               i94addr     152592     4.93\n",
      "               depdate     142457     4.60\n",
      "                i94bir        802     0.03\n",
      "               i94visa          0     0.00\n",
      "                 count          0     0.00\n",
      "              dtadfile          1     0.00\n",
      "              visapost    1881250    60.76\n",
      "                 occup    3088187    99.74\n",
      "               entdepa        238     0.01\n",
      "               entdepd     138429     4.47\n",
      "               entdepu    3095921    99.99\n",
      "               matflag     138429     4.47\n",
      "               biryear        802     0.03\n",
      "               dtaddto        477     0.02\n",
      "                gender     414269    13.38\n",
      "                insnum    2982605    96.33\n",
      "               airline      83627     2.70\n",
      "                admnum          0     0.00\n",
      "                 fltno      19549     0.63\n",
      "              visatype          0     0.00\n",
      "\n",
      "There are 3096313 records!\n",
      "\n"
     ]
    }
   ],
   "source": [
    "check_nan_counts2(df_spark)"
   ]
  },
  {
   "cell_type": "markdown",
   "metadata": {},
   "source": [
    "<b>Conclusion</b>: It is beneficial to drop columns (occup,entdepu,insnum,visapost) because of their high percentage of null values. Then, apply dropna() to drop rows that has a column with NaN value."
   ]
  },
  {
   "cell_type": "code",
   "execution_count": 19,
   "metadata": {},
   "outputs": [
    {
     "name": "stdout",
     "output_type": "stream",
     "text": [
      "           Column Name      Count Percentage\n",
      "                 cicid          0     0.00\n",
      "                 i94yr          0     0.00\n",
      "                i94mon          0     0.00\n",
      "                i94cit          0     0.00\n",
      "                i94res          0     0.00\n",
      "               i94port          0     0.00\n",
      "               arrdate          0     0.00\n",
      "               i94mode          0     0.00\n",
      "               i94addr          0     0.00\n",
      "               depdate          0     0.00\n",
      "                i94bir          0     0.00\n",
      "               i94visa          0     0.00\n",
      "                 count          0     0.00\n",
      "              dtadfile          0     0.00\n",
      "               entdepa          0     0.00\n",
      "               entdepd          0     0.00\n",
      "               matflag          0     0.00\n",
      "               biryear          0     0.00\n",
      "               dtaddto          0     0.00\n",
      "                gender          0     0.00\n",
      "               airline          0     0.00\n",
      "                admnum          0     0.00\n",
      "                 fltno          0     0.00\n",
      "              visatype          0     0.00\n",
      "\n",
      "There are 2384498 records!\n",
      "\n"
     ]
    }
   ],
   "source": [
    "df_spark = df_spark.drop('occup','entdepu','insnum','visapost')\n",
    "check_nan_counts2(df_spark.dropna())"
   ]
  },
  {
   "cell_type": "code",
   "execution_count": 20,
   "metadata": {},
   "outputs": [
    {
     "name": "stdout",
     "output_type": "stream",
     "text": [
      "+-------+-------+\n",
      "|summary|  i94yr|\n",
      "+-------+-------+\n",
      "|  count|2384498|\n",
      "|   mean| 2016.0|\n",
      "| stddev|    0.0|\n",
      "|    min| 2016.0|\n",
      "|    max| 2016.0|\n",
      "+-------+-------+\n",
      "\n"
     ]
    }
   ],
   "source": [
    "df_spark.dropna().describe('i94yr').show()"
   ]
  },
  {
   "cell_type": "markdown",
   "metadata": {},
   "source": [
    "#### Cleaning Steps: Summary"
   ]
  },
  {
   "cell_type": "markdown",
   "metadata": {},
   "source": [
    "| Data Set                                | Recommendations |\n",
    "|-----------------------------------------|-----------------|\n",
    "| <b>US Cities Demographics</b>           | Apply dropna() |\n",
    "| <b>US Airports</b>                      | Drop columns (iata_code,local_code,gps_code,elevation_ft)<br>Apply dropna() |\n",
    "| <b>Global Land Temperatures By City</b> | Apply dropna() |\n",
    "| <b>US I94 Immigration Data</b>          | Drop columns (occup,entdepu,insnum,visapost)<br>Apply dropna()             |"
   ]
  },
  {
   "cell_type": "code",
   "execution_count": 91,
   "metadata": {},
   "outputs": [],
   "source": [
    "#df_spark.head(5)"
   ]
  },
  {
   "cell_type": "markdown",
   "metadata": {},
   "source": [
    "### Step 3: Define the Data Model\n",
    "#### 3.1 Conceptual Data Model\n",
    "\n"
   ]
  },
  {
   "cell_type": "markdown",
   "metadata": {},
   "source": [
    "The proposed design uses [star schema](https://en.wikipedia.org/wiki/Star_schema) to support many different queries. The following [Parquet files](https://parquet.apache.org/) are for dimensional tables;\n",
    "\n",
    " - <b>us_cities.parquet</b> keeps track of US Cities and demographics.\n",
    " - <b>us_airports.parquet</b> keeps track of US Airports.\n",
    " - <b>flights.parquet</b> keeps track of flights.\n",
    " - <b>visitors.parquet</b> keeps track of visitors."
   ]
  },
  {
   "cell_type": "markdown",
   "metadata": {},
   "source": [
    "![](./img/image.png)"
   ]
  },
  {
   "cell_type": "markdown",
   "metadata": {},
   "source": [
    "<i>us_cities.parquet</i> has the following columns;\n",
    "\n",
    "| Column             | Data Type | Description |\n",
    "|--------------------|-----------|-------------|\n",
    "| state              | string    | State        |\n",
    "| state_code         | string    | State Code |\n",
    "| city               | string    | City        |\n",
    "| population_total   | integer   | Total Population |\n",
    "| population_male    | integer   | Male Population |\n",
    "| population_female  | integer   | Female Population |\n",
    "| veterans_cnt       | integer   | Number of Veterans |\n",
    "| foreign_born_cnt   | integer   | Number of foreign-born |\n",
    "| median_age         | float     | Median Age |\n",
    "| ave_household_size | float     | Average Household Size |"
   ]
  },
  {
   "cell_type": "markdown",
   "metadata": {},
   "source": [
    "<i>us_airports.parquet</i> has the following columns;\n",
    "\n",
    "| Column             | Data Type | Description |\n",
    "|--------------------|-----------|-------------|\n",
    "| id                 | string    | Identifier        |\n",
    "| iso_region         | string    | Region of airport |\n",
    "| iso_country        | string    | Country of airport |\n",
    "| municipality       | string    | Municipality of airport |\n",
    "| name               | string    | Name of airport |\n",
    "| type               | string    | Type of airport |\n",
    "| coordinates        | float, float | Coordinates of airport |"
   ]
  },
  {
   "cell_type": "markdown",
   "metadata": {},
   "source": [
    "<i>flights.parquet</i> has the following columns;\n",
    "\n",
    "| Column       | Data Type | Description |\n",
    "|--------------|-----------|-------------|\n",
    "| id           | integer   | Unique Identifier | \n",
    "| airline      | string    | Airline Code | \n",
    "| flight_no    | string    | Flight Number |\n",
    "| airport_code | string    | Airport Code |\n",
    "| date_yy      | integer   | Year of Date of Flight |\n",
    "| date_mm      | Integer   | Month of Data of Flight |"
   ]
  },
  {
   "cell_type": "markdown",
   "metadata": {},
   "source": [
    "<i>visitors.parquet</i> has the following columns;\n",
    "\n",
    "| Column | Data Type | Description |\n",
    "|--------|-----------|-------------|\n",
    "| id     | string    | Visitor Identifier           |\n",
    "| dob_yy | integer   | Year of DOB |\n",
    "| gender | string    | Gender |\n",
    "| age    | integer   | Age at visit |"
   ]
  },
  {
   "cell_type": "markdown",
   "metadata": {},
   "source": [
    "<i>visits.parquet</i> is a fact table and has the following columns;\n",
    "\n",
    "\n",
    "| Column         | Data Type | Description |\n",
    "|----------------|-----------|-------------|\n",
    "| id             | integer   | Identifier        |\n",
    "| visit_yy       | integer   |     Year of arrival date        |\n",
    "| visit_mm       | integer   | Month of arrival date |\n",
    "| cit_code       | integer   | |\n",
    "| res_code       | integer   | | \n",
    "| port_code      | string    | Port of arrival |\n",
    "| transport_mode | string    | Mode of transportation(air, land, sea)| \n",
    "| visitor_id     | integer   | (FK) Visitor's identifier (=> visitors)|\n",
    "| flight_id      | string    | (FK) Flight's identifier (=> flights)|\n",
    "| addr_state     | string    | State of stay address |\n",
    "| visa_kind      | integer   | I-94 Visa (1: Business, 2: Tourist, 3: Student)|\n",
    "| visa_type      | string    | Visa Type|"
   ]
  },
  {
   "cell_type": "markdown",
   "metadata": {},
   "source": [
    "#### 3.2 Mapping Out Data Pipelines\n",
    "List the steps necessary to pipeline the data into the chosen data model"
   ]
  },
  {
   "cell_type": "markdown",
   "metadata": {},
   "source": [
    " 1. Ingest US Cities data\n",
    "   - select US cities\n",
    "   - Load US cities\n",
    " 1. Ingest US Airports from Airports Data\n",
    "   - Select US Airports\n",
    "   - Load airports\n",
    "     * Link to a record in US cities\n",
    " 1. Ingest US Visitors data \n",
    "   - Select visits by Air \n",
    "   - Extract and load flights\n",
    "   - Extract and load visitors\n",
    "   - Extract and load visits\n",
    "     * Link to a record in flights\n",
    "     * Link to a record in vsitors"
   ]
  },
  {
   "cell_type": "markdown",
   "metadata": {},
   "source": [
    "### Step 4: Run Pipelines to Model the Data \n",
    "#### 4.1 Create the data model\n",
    "Build the data pipelines to create the data model."
   ]
  },
  {
   "cell_type": "code",
   "execution_count": 21,
   "metadata": {},
   "outputs": [],
   "source": [
    "#\n",
    "# Utilities\n",
    "#\n",
    "def log_df(df,          # type : Spark DataFrame\n",
    "           table_name   # type : string, table name\n",
    "          ):\n",
    "    if df is None:\n",
    "        raise ValueError('DataFrame is None!')\n",
    "    print('\\nTable: %s\\n' % table_name)\n",
    "    df.printSchema()\n",
    "    df.show(5)"
   ]
  },
  {
   "cell_type": "code",
   "execution_count": 22,
   "metadata": {},
   "outputs": [],
   "source": [
    "#\n",
    "# Extracts records for us_cities.parquet\n",
    "#\n",
    "def extract_us_cities(df               # type : Spark DataFrame\n",
    "                     ):\n",
    "    \"\"\" Extracts US Cities \"\"\"\n",
    "    if df is None:\n",
    "        raise ValueError('DataFrame is None!')\n",
    "\n",
    "    # Rename Columns to be consistent with documentation\n",
    "    df_spark_us_cities = df.withColumnRenamed('Median Age','median_age')\n",
    "    df_spark_us_cities = df_spark_us_cities.withColumnRenamed('City','city')\n",
    "    df_spark_us_cities = df_spark_us_cities.withColumnRenamed('State','state')\n",
    "    df_spark_us_cities = df_spark_us_cities.withColumnRenamed('Male Population','population_male')\n",
    "    df_spark_us_cities = df_spark_us_cities.withColumnRenamed('Female Population','population_female')\n",
    "    df_spark_us_cities = df_spark_us_cities.withColumnRenamed('Total Population','population_total')\n",
    "    df_spark_us_cities = df_spark_us_cities.withColumnRenamed('Number of Veterans','veterans_cnt')\n",
    "    df_spark_us_cities = df_spark_us_cities.withColumnRenamed('Foreign-born','foreign_born_cnt')\n",
    "    df_spark_us_cities = df_spark_us_cities.withColumnRenamed('Average Household Size','ave_household_size')\n",
    "    df_spark_us_cities = df_spark_us_cities.withColumnRenamed('State Code','state_code')\n",
    "\n",
    "    # Select Columns since we do not need all\n",
    "    df_spark_us_cities = df_spark_us_cities.select('state','state_code','city','population_total',\\\n",
    "                                               'population_male','population_female','veterans_cnt',\\\n",
    "                                               'foreign_born_cnt','ave_household_size')\n",
    "    # Revise data type of columns - astype/cast\n",
    "    df_spark_us_cities = df_spark_us_cities.withColumn('population_total',df_spark_us_cities['population_total'].cast('integer'))\n",
    "    df_spark_us_cities = df_spark_us_cities.withColumn('population_female',df_spark_us_cities['population_female'].cast('integer'))\n",
    "    df_spark_us_cities = df_spark_us_cities.withColumn('population_male',df_spark_us_cities['population_male'].cast('integer'))\n",
    "    df_spark_us_cities = df_spark_us_cities.withColumn('veterans_cnt',df_spark_us_cities['veterans_cnt'].cast('integer'))\n",
    "    df_spark_us_cities = df_spark_us_cities.withColumn('foreign_born_cnt',df_spark_us_cities['foreign_born_cnt'].cast('integer'))\n",
    "    df_spark_us_cities = df_spark_us_cities.withColumn('ave_household_size',df_spark_us_cities['ave_household_size'].cast('float'))\n",
    "    \n",
    "    # Clean rows having NaN values\n",
    "    return df_spark_us_cities.dropna()\n"
   ]
  },
  {
   "cell_type": "code",
   "execution_count": 23,
   "metadata": {},
   "outputs": [],
   "source": [
    "#\n",
    "# Loads records to us_cities.parquet\n",
    "#\n",
    "def load_us_cities(df,               # type : Spark DataFrame\n",
    "                      output_data_path, # type : String, directoty of parquet file\n",
    "                      output_data_name, # type : String, name of parquet file\n",
    "                      output_data_mode  # type : String, mode (overwrite, append) for parquet file \n",
    "                     ):\n",
    "    \"\"\" Loads US Cities \"\"\"\n",
    "    if df is None:\n",
    "        raise ValueError('DataFrame is None!')\n",
    "\n",
    "    # Write \n",
    "    df.write.mode(output_data_mode).partitionBy(\"state\").parquet(output_data_path + output_data_name)\n",
    "\n",
    "    return df\n"
   ]
  },
  {
   "cell_type": "code",
   "execution_count": 24,
   "metadata": {},
   "outputs": [],
   "source": [
    "#\n",
    "# write us_cities.parquet\n",
    "#\n",
    "def process_us_cities(df,               # type : Spark DataFrame\n",
    "                      output_data_path, # type : String, directoty of parquet file\n",
    "                      output_data_name, # type : String, name of parquet file\n",
    "                      output_data_mode  # type : String, mode (overwrite, append) for parquet file \n",
    "                     ):\n",
    "    \"\"\" Extracts and Loads US Cities \"\"\"\n",
    "    if df is None:\n",
    "        raise ValueError('DataFrame is None!')\n",
    "\n",
    "    # Extract records\n",
    "    df_spark_us_cities = extract_us_cities(df)\n",
    "\n",
    "    # Load records \n",
    "    return load_us_cities(df_spark_us_cities,output_data_path,output_data_name,output_data_mode)\n"
   ]
  },
  {
   "cell_type": "code",
   "execution_count": 25,
   "metadata": {},
   "outputs": [
    {
     "name": "stdout",
     "output_type": "stream",
     "text": [
      "\n",
      "Table: us_cities.parquet\n",
      "\n",
      "root\n",
      " |-- City: string (nullable = true)\n",
      " |-- State: string (nullable = true)\n",
      " |-- Median Age: string (nullable = true)\n",
      " |-- Male Population: string (nullable = true)\n",
      " |-- Female Population: string (nullable = true)\n",
      " |-- Total Population: string (nullable = true)\n",
      " |-- Number of Veterans: string (nullable = true)\n",
      " |-- Foreign-born: string (nullable = true)\n",
      " |-- Average Household Size: string (nullable = true)\n",
      " |-- State Code: string (nullable = true)\n",
      " |-- Race: string (nullable = true)\n",
      " |-- Count: string (nullable = true)\n",
      "\n",
      "+----------------+-------------+----------+---------------+-----------------+----------------+------------------+------------+----------------------+----------+--------------------+-----+\n",
      "|            City|        State|Median Age|Male Population|Female Population|Total Population|Number of Veterans|Foreign-born|Average Household Size|State Code|                Race|Count|\n",
      "+----------------+-------------+----------+---------------+-----------------+----------------+------------------+------------+----------------------+----------+--------------------+-----+\n",
      "|   Silver Spring|     Maryland|      33.8|          40601|            41862|           82463|              1562|       30908|                   2.6|        MD|  Hispanic or Latino|25924|\n",
      "|          Quincy|Massachusetts|      41.0|          44129|            49500|           93629|              4147|       32935|                  2.39|        MA|               White|58723|\n",
      "|          Hoover|      Alabama|      38.5|          38040|            46799|           84839|              4819|        8229|                  2.58|        AL|               Asian| 4759|\n",
      "|Rancho Cucamonga|   California|      34.5|          88127|            87105|          175232|              5821|       33878|                  3.18|        CA|Black or African-...|24437|\n",
      "|          Newark|   New Jersey|      34.6|         138040|           143873|          281913|              5829|       86253|                  2.73|        NJ|               White|76402|\n",
      "+----------------+-------------+----------+---------------+-----------------+----------------+------------------+------------+----------------------+----------+--------------------+-----+\n",
      "only showing top 5 rows\n",
      "\n",
      "\n",
      "Table: us_cities.parquet\n",
      "\n",
      "root\n",
      " |-- state: string (nullable = true)\n",
      " |-- state_code: string (nullable = true)\n",
      " |-- city: string (nullable = true)\n",
      " |-- population_total: integer (nullable = true)\n",
      " |-- population_male: integer (nullable = true)\n",
      " |-- population_female: integer (nullable = true)\n",
      " |-- veterans_cnt: integer (nullable = true)\n",
      " |-- foreign_born_cnt: integer (nullable = true)\n",
      " |-- ave_household_size: float (nullable = true)\n",
      "\n",
      "+-------------+----------+----------------+----------------+---------------+-----------------+------------+----------------+------------------+\n",
      "|        state|state_code|            city|population_total|population_male|population_female|veterans_cnt|foreign_born_cnt|ave_household_size|\n",
      "+-------------+----------+----------------+----------------+---------------+-----------------+------------+----------------+------------------+\n",
      "|     Maryland|        MD|   Silver Spring|           82463|          40601|            41862|        1562|           30908|               2.6|\n",
      "|Massachusetts|        MA|          Quincy|           93629|          44129|            49500|        4147|           32935|              2.39|\n",
      "|      Alabama|        AL|          Hoover|           84839|          38040|            46799|        4819|            8229|              2.58|\n",
      "|   California|        CA|Rancho Cucamonga|          175232|          88127|            87105|        5821|           33878|              3.18|\n",
      "|   New Jersey|        NJ|          Newark|          281913|         138040|           143873|        5829|           86253|              2.73|\n",
      "+-------------+----------+----------------+----------------+---------------+-----------------+------------+----------------+------------------+\n",
      "only showing top 5 rows\n",
      "\n"
     ]
    }
   ],
   "source": [
    "# Read CSV File \n",
    "df_spark_us_cities = spark.read.csv(\"./us-cities-demographics.csv\", sep = ';', header = True)\n",
    "log_df(df_spark_us_cities,'us_cities.parquet')\n",
    "\n",
    "# Load values to us_cities.parquet\n",
    "df_spark_us_cities = process_us_cities(df_spark_us_cities,output_data,'us_cities.parquet','overwrite')\n",
    "\n",
    "# Log \n",
    "log_df(df_spark_us_cities,'us_cities.parquet')"
   ]
  },
  {
   "cell_type": "markdown",
   "metadata": {},
   "source": [
    "Load US Airports data. "
   ]
  },
  {
   "cell_type": "code",
   "execution_count": 26,
   "metadata": {},
   "outputs": [],
   "source": [
    "#\n",
    "# Extracts US Airports for us_airports table from Spark DataFrame (df)\n",
    "#\n",
    "def extract_us_airports(df               # type : Spark DataFrame\n",
    "                       ):\n",
    "    \"\"\" Extracts US Airports \"\"\"\n",
    "    \n",
    "    if df is None:\n",
    "        raise ValueError('DataFrame is None!')\n",
    "\n",
    "    # Rename Columns\n",
    "    df_spark_us_airports = df.withColumnRenamed('ident','id')\n",
    "    df_spark_us_airports = df_spark_us_airports.withColumnRenamed('iso_region','iso_region_0')\n",
    "\n",
    "\n",
    "    # Extract State Code from iso_region column, for US, prefixed with 'US-'\n",
    "    df_spark_us_airports = df_spark_us_airports.withColumn('iso_region',regexp_replace('iso_region_0', \"US-\", \"\"))\n",
    "\n",
    "    # Drop iso_region_0 column and clean rows having NaN value\n",
    "    df_spark_us_airports = df_spark_us_airports.drop('iso_region_0').dropna()\n",
    "\n",
    "    # Select Columns\n",
    "    return df_spark_us_airports.select('id','iso_country','iso_region','municipality',\\\n",
    "                                               'name','type','coordinates')\n"
   ]
  },
  {
   "cell_type": "code",
   "execution_count": 27,
   "metadata": {},
   "outputs": [],
   "source": [
    "#\n",
    "# Loads US Airports to us_airports table from Spark DataFrame (df)\n",
    "#\n",
    "def load_us_airports(df,               # type : Spark DataFrame\n",
    "                        output_data_path, # type : String, directoty of parquet file\n",
    "                        output_data_name, # type : String, name of parquet file\n",
    "                        output_data_mode  # type : String, mode (overwrite, append) for parquet file \n",
    "                       ):\n",
    "    \"\"\" Loads US Airports \"\"\"\n",
    "    \n",
    "    if df is None:\n",
    "        raise ValueError('DataFrame is None!')\n",
    "\n",
    "    # Write to dimension table\n",
    "    df.write.mode(output_data_mode) \\\n",
    "            .partitionBy('iso_country','iso_region','municipality') \\\n",
    "            .parquet(output_data_path + output_data_name)\n",
    "    # Return \n",
    "    return df\n"
   ]
  },
  {
   "cell_type": "code",
   "execution_count": 28,
   "metadata": {},
   "outputs": [],
   "source": [
    "#\n",
    "# Extracts and loads US Airports to us_airports table from Spark DataFrame (df) \n",
    "#\n",
    "def process_us_airports(df,               # type : Spark DataFrame\n",
    "                        output_data_path, # type : String, directoty of parquet file\n",
    "                        output_data_name, # type : String, name of parquet file\n",
    "                        output_data_mode  # type : String, mode (overwrite, append) for parquet file \n",
    "                       ):\n",
    "    \"\"\" Extracts and loads US Airports \"\"\"\n",
    "    \n",
    "    if df is None:\n",
    "        raise ValueError('DataFrame is None!')\n",
    "\n",
    "    # Extract\n",
    "    df_spark_us_airports = extract_us_airports(df)\n",
    "    \n",
    "    # Load & Return \n",
    "    return load_us_airports(df_spark_us_airports,output_data_path,output_data_name,output_data_mode)\n"
   ]
  },
  {
   "cell_type": "code",
   "execution_count": 29,
   "metadata": {},
   "outputs": [
    {
     "name": "stdout",
     "output_type": "stream",
     "text": [
      "\n",
      "Table: us_airports.parquet\n",
      "\n",
      "root\n",
      " |-- ident: string (nullable = true)\n",
      " |-- type: string (nullable = true)\n",
      " |-- name: string (nullable = true)\n",
      " |-- elevation_ft: string (nullable = true)\n",
      " |-- continent: string (nullable = true)\n",
      " |-- iso_country: string (nullable = true)\n",
      " |-- iso_region: string (nullable = true)\n",
      " |-- municipality: string (nullable = true)\n",
      " |-- gps_code: string (nullable = true)\n",
      " |-- iata_code: string (nullable = true)\n",
      " |-- local_code: string (nullable = true)\n",
      " |-- coordinates: string (nullable = true)\n",
      "\n",
      "+-----+-------------+--------------------+------------+---------+-----------+----------+------------+--------+---------+----------+--------------------+\n",
      "|ident|         type|                name|elevation_ft|continent|iso_country|iso_region|municipality|gps_code|iata_code|local_code|         coordinates|\n",
      "+-----+-------------+--------------------+------------+---------+-----------+----------+------------+--------+---------+----------+--------------------+\n",
      "|  00A|     heliport|   Total Rf Heliport|          11|       NA|         US|     US-PA|    Bensalem|     00A|     null|       00A|-74.9336013793945...|\n",
      "| 00AA|small_airport|Aero B Ranch Airport|        3435|       NA|         US|     US-KS|       Leoti|    00AA|     null|      00AA|-101.473911, 38.7...|\n",
      "| 00AK|small_airport|        Lowell Field|         450|       NA|         US|     US-AK|Anchor Point|    00AK|     null|      00AK|-151.695999146, 5...|\n",
      "| 00AL|small_airport|        Epps Airpark|         820|       NA|         US|     US-AL|     Harvest|    00AL|     null|      00AL|-86.7703018188476...|\n",
      "| 00AR|       closed|Newport Hospital ...|         237|       NA|         US|     US-AR|     Newport|    null|     null|      null| -91.254898, 35.6087|\n",
      "+-----+-------------+--------------------+------------+---------+-----------+----------+------------+--------+---------+----------+--------------------+\n",
      "only showing top 5 rows\n",
      "\n",
      "\n",
      "Table: us_airports.parquet\n",
      "\n",
      "root\n",
      " |-- id: string (nullable = true)\n",
      " |-- iso_country: string (nullable = true)\n",
      " |-- iso_region: string (nullable = true)\n",
      " |-- municipality: string (nullable = true)\n",
      " |-- name: string (nullable = true)\n",
      " |-- type: string (nullable = true)\n",
      " |-- coordinates: string (nullable = true)\n",
      "\n",
      "+----+-----------+----------+-------------+--------------------+-------------+--------------------+\n",
      "|  id|iso_country|iso_region| municipality|                name|         type|         coordinates|\n",
      "+----+-----------+----------+-------------+--------------------+-------------+--------------------+\n",
      "|07FA|         US|        FL|    Key Largo|Ocean Reef Club A...|small_airport|-80.274803161621,...|\n",
      "|0CO2|         US|        CO|Crested Butte|Crested Butte Air...|small_airport|-106.928341, 38.8...|\n",
      "|0TE7|         US|        TX| Johnson City|   LBJ Ranch Airport|small_airport|-98.6224975585999...|\n",
      "|13MA|         US|        MA|       Palmer|Metropolitan Airport|small_airport|-72.3114013671999...|\n",
      "| 13Z|         US|        AK|       Loring|Loring Seaplane Base|seaplane_base|-131.636993408, 5...|\n",
      "+----+-----------+----------+-------------+--------------------+-------------+--------------------+\n",
      "only showing top 5 rows\n",
      "\n"
     ]
    }
   ],
   "source": [
    "# Load CSV file \n",
    "df_spark_us_airports = spark.read.csv(\"./airport-codes_csv.csv\", sep = ',', header = True)\n",
    "log_df(df_spark_us_airports,'us_airports.parquet')\n",
    "\n",
    "# Select Airports in US\n",
    "df_spark_us_airports = df_spark_us_airports.filter(df_spark_us_airports.iso_country=='US')\n",
    "\n",
    "# Load airports data to us_airports.parquet\n",
    "df_spark_us_airports = process_us_airports(df_spark_us_airports,output_data,'us_airports.parquet','overwrite')\n",
    "\n",
    "# Log\n",
    "log_df(df_spark_us_airports,'us_airports.parquet')\n"
   ]
  },
  {
   "cell_type": "code",
   "execution_count": 30,
   "metadata": {},
   "outputs": [],
   "source": [
    "#\n",
    "# Extracts records for flights table from Spark DataFrame (df)\n",
    "#\n",
    "def extract_us_flights(df               # type : Spark DataFrame\n",
    "                      ):\n",
    "    \"\"\" Extract US flights \"\"\"\n",
    "    \n",
    "    if df is None:\n",
    "        raise ValueError('DataFrame is None!')\n",
    "\n",
    "    # Select columns\n",
    "    df_spark_flights = df.select('airline','fltno','i94port','i94yr','i94mon')\n",
    "\n",
    "    df_spark_flights = df_spark_flights.withColumnRenamed('fltno','flight_no')\n",
    "    df_spark_flights = df_spark_flights.withColumnRenamed('i94yr','date_yy')\n",
    "    df_spark_flights = df_spark_flights.withColumnRenamed('i94mon','date_mm')\n",
    "    df_spark_flights = df_spark_flights.withColumnRenamed('i94port','airport_code')\n",
    "    df_spark_flights = df_spark_flights.withColumn('id', monotonically_increasing_id())\n",
    "    \n",
    "    # Revise data type of columns - astype/cast\n",
    "    df_spark_flights = df_spark_flights.withColumn('date_yy',df_spark_flights['date_yy'].cast('integer'))\n",
    "    df_spark_flights = df_spark_flights.withColumn('date_mm',df_spark_flights['date_mm'].cast('integer'))\n",
    "\n",
    "    # Drop duplicate rows (distinct()) and rows having NaN value and return\n",
    "    return df_spark_flights.dropDuplicates(['airline','flight_no','date_yy','date_mm','airport_code']).dropna()\n"
   ]
  },
  {
   "cell_type": "code",
   "execution_count": 31,
   "metadata": {},
   "outputs": [],
   "source": [
    "#\n",
    "# Loads data to flights Table\n",
    "#\n",
    "def load_us_flights(df,               # type : Spark DataFrame\n",
    "                       output_data_path, # type : String, directoty of parquet file\n",
    "                       output_data_name, # type : String, name of parquet file\n",
    "                       output_data_mode  # type : String, mode (overwrite, append) for parquet file \n",
    "                      ):\n",
    "    \"\"\" Extract and load flights \"\"\"\n",
    "    \n",
    "    if df is None:\n",
    "        raise ValueError('DataFrame is None!')\n",
    "\n",
    "    # Write to dimension table\n",
    "    df.write.mode(output_data_mode) \\\n",
    "                    .partitionBy('date_yy','date_mm','airport_code','airline') \\\n",
    "                    .parquet(output_data_path + output_data_name)\n",
    "    # return\n",
    "    return df\n"
   ]
  },
  {
   "cell_type": "code",
   "execution_count": 32,
   "metadata": {},
   "outputs": [],
   "source": [
    "#\n",
    "# flights Table\n",
    "#\n",
    "def process_us_flights(df,               # type : Spark DataFrame\n",
    "                       output_data_path, # type : String, directoty of parquet file\n",
    "                       output_data_name, # type : String, name of parquet file\n",
    "                       output_data_mode  # type : String, mode (overwrite, append) for parquet file \n",
    "                      ):\n",
    "    \"\"\" Extract and load flights \"\"\"\n",
    "    \n",
    "    if df is None:\n",
    "        raise ValueError('DataFrame is None!')\n",
    "\n",
    "    # Extract \n",
    "    df_spark_flights = extract_us_flights(df)\n",
    "\n",
    "    # Write to dimension table and return\n",
    "    return load_us_flights(df_spark_flights,output_data_path,output_data_name,output_data_mode)\n"
   ]
  },
  {
   "cell_type": "code",
   "execution_count": 33,
   "metadata": {},
   "outputs": [
    {
     "name": "stdout",
     "output_type": "stream",
     "text": [
      "\n",
      "Table: flights.parquet\n",
      "\n",
      "root\n",
      " |-- airline: string (nullable = true)\n",
      " |-- flight_no: string (nullable = true)\n",
      " |-- airport_code: string (nullable = true)\n",
      " |-- date_yy: integer (nullable = true)\n",
      " |-- date_mm: integer (nullable = true)\n",
      " |-- id: long (nullable = false)\n",
      "\n",
      "+-------+---------+------------+-------+-------+---+\n",
      "|airline|flight_no|airport_code|date_yy|date_mm| id|\n",
      "+-------+---------+------------+-------+-------+---+\n",
      "|     OS|       93|         WAS|   2016|      4|  1|\n",
      "|     AA|    00199|         NYC|   2016|      4|  2|\n",
      "|     AZ|    00602|         NYC|   2016|      4|  4|\n",
      "|     AZ|    00608|         NYC|   2016|      4|  8|\n",
      "|     TK|    00001|         NYC|   2016|      4|  9|\n",
      "+-------+---------+------------+-------+-------+---+\n",
      "only showing top 5 rows\n",
      "\n"
     ]
    }
   ],
   "source": [
    "# Select Inbound Air Arrivals\n",
    "df_spark_flights = df_spark.filter(df_spark.i94mode==1).limit(1000)\n",
    "\n",
    "# Load records to flights.parquet\n",
    "df_spark_flights = process_us_flights(df_spark_flights, output_data, 'flights.parquet', \"overwrite\")\n",
    "    \n",
    "# Log\n",
    "log_df(df_spark_flights,'flights.parquet')\n"
   ]
  },
  {
   "cell_type": "code",
   "execution_count": 34,
   "metadata": {},
   "outputs": [
    {
     "name": "stdout",
     "output_type": "stream",
     "text": [
      "+-------+---------+------------+-------+-------+---+---+-----------+----------+------------+----+----+-----------+\n",
      "|airline|flight_no|airport_code|date_yy|date_mm| id| id|iso_country|iso_region|municipality|name|type|coordinates|\n",
      "+-------+---------+------------+-------+-------+---+---+-----------+----------+------------+----+----+-----------+\n",
      "+-------+---------+------------+-------+-------+---+---+-----------+----------+------------+----+----+-----------+\n",
      "\n"
     ]
    }
   ],
   "source": [
    "df_join = df_spark_flights.join(df_spark_us_airports, df_spark_flights.airport_code == df_spark_us_airports.id)\n",
    "df_join.show()"
   ]
  },
  {
   "cell_type": "code",
   "execution_count": 35,
   "metadata": {},
   "outputs": [],
   "source": [
    "#\n",
    "# Extract records for visitors table from Spark DataFrame (df)\n",
    "#\n",
    "def extract_visitors(df               # type : Spark DataFrame\n",
    "                    ):\n",
    "    \"\"\" Extract Visitors data \"\"\"\n",
    "    \n",
    "    if df is None:\n",
    "        raise ValueError('DataFrame is None!')\n",
    "\n",
    "    # Select/project columns\n",
    "    df_spark_visitors = df.select('cicid','biryear','gender','i94bir')\n",
    "\n",
    "    df_spark_visitors = df_spark_visitors.withColumnRenamed('cicid','id')\n",
    "    df_spark_visitors = df_spark_visitors.withColumnRenamed('biryear','dob_yy')\n",
    "    df_spark_visitors = df_spark_visitors.withColumnRenamed('i94bir','age')\n",
    "\n",
    "    # Revise data type of columns - astype/cast\n",
    "    df_spark_visitors = df_spark_visitors.withColumn('id',df_spark_visitors['id'].cast('integer'))\n",
    "    df_spark_visitors = df_spark_visitors.withColumn('dob_yy',df_spark_visitors['dob_yy'].cast('integer'))\n",
    "\n",
    "    # Drop duplicate rows (distinct()) and rows having NaN value, then return \n",
    "    return df_spark_visitors.distinct().dropna()\n"
   ]
  },
  {
   "cell_type": "code",
   "execution_count": 40,
   "metadata": {},
   "outputs": [],
   "source": [
    "#\n",
    "# Loads data to visitors table from Spark DataFrame (df)\n",
    "#\n",
    "def load_visitors(df,               # type : Spark DataFrame\n",
    "                     output_data_path, # type : String, directoty of parquet file\n",
    "                     output_data_name, # type : String, name of parquet file\n",
    "                     output_data_mode  # type : Strinf, mode (overwrite, append) for parquet file\n",
    "                    ):\n",
    "    \"\"\" Load Visitors data \"\"\"\n",
    "    \n",
    "    if df is None:\n",
    "        raise ValueError('DataFrame is None!')\n",
    "\n",
    "    # Write to dimension table \n",
    "    df.write.mode(output_data_mode) \\\n",
    "            .partitionBy('dob_yy','gender') \\\n",
    "            .parquet(output_data_path +  output_data_name)\n",
    "    \n",
    "    # Returns the handle of dataframe\n",
    "    return df\n"
   ]
  },
  {
   "cell_type": "code",
   "execution_count": 41,
   "metadata": {},
   "outputs": [],
   "source": [
    "#\n",
    "# visitors table\n",
    "#\n",
    "def process_visitors(df,               # type : Spark DataFrame\n",
    "                     output_data_path, # type : String, directoty of parquet file\n",
    "                     output_data_name, # type : String, name of parquet file\n",
    "                     output_data_mode  # type : Strinf, mode (overwrite, append) for parquet file\n",
    "                    ):\n",
    "    \"\"\" Extract and Load Visitors data \"\"\"\n",
    "    \n",
    "    if df is None:\n",
    "        raise ValueError('DataFrame is None!')\n",
    "\n",
    "    # Extract Visitors \n",
    "    df_spark_visitors = extract_visitors(df)\n",
    "\n",
    "    # Load Visitors and return the handle of dataframe\n",
    "    return load_visitors(df_spark_visitors, output_data_path, output_data_name, output_data_mode)\n"
   ]
  },
  {
   "cell_type": "code",
   "execution_count": 42,
   "metadata": {},
   "outputs": [
    {
     "name": "stdout",
     "output_type": "stream",
     "text": [
      "\n",
      "Table: visitors.parquet\n",
      "\n",
      "root\n",
      " |-- id: integer (nullable = true)\n",
      " |-- dob_yy: integer (nullable = true)\n",
      " |-- gender: string (nullable = true)\n",
      " |-- age: double (nullable = true)\n",
      "\n",
      "+----+------+------+----+\n",
      "|  id|dob_yy|gender| age|\n",
      "+----+------+------+----+\n",
      "| 898|  2003|     M|13.0|\n",
      "| 927|  1968|     M|48.0|\n",
      "|2406|  1989|     F|27.0|\n",
      "|2520|  1940|     F|76.0|\n",
      "|2600|  1973|     F|43.0|\n",
      "+----+------+------+----+\n",
      "only showing top 5 rows\n",
      "\n"
     ]
    }
   ],
   "source": [
    "\n",
    "# Select Visitors via Air Arrivals\n",
    "df_spark_visitors = df_spark.filter(df_spark.i94mode==1)\n",
    "\n",
    "# Load records to visitors.parquet\n",
    "df_spark_visitors = process_visitors(df_spark_visitors,output_data,'visitors.parquet','overwrite')\n",
    "\n",
    "# Log\n",
    "log_df(df_spark_visitors, 'visitors.parquet')\n"
   ]
  },
  {
   "cell_type": "code",
   "execution_count": 38,
   "metadata": {},
   "outputs": [],
   "source": [
    "# visits Table\n",
    "#from pyspark.sql.functions import col, expr, when\n",
    "from pyspark.sql.types import StringType\n",
    "\n",
    "def process_visits(df,               # type : Spark DataFrame\n",
    "                   output_data_path, # type : String, directoty of parquet file\n",
    "                   output_data_name, # type : String, name of parquet file\n",
    "                   output_data_mode  # type : String, mode (overwrite, append) for parquet file\n",
    "                  ):\n",
    "    \"\"\" Extract and Load Visits \"\"\"\n",
    "    # Check\n",
    "    if df is None:\n",
    "        raise ValueError('df is None!')\n",
    "        \n",
    "    # Select/project columns\n",
    "    df_spark_visits = df.select('cicid','i94yr', 'i94mon', 'i94cit', 'i94res', 'i94port',\\\n",
    "                                         'i94addr', 'i94visa','visatype','id')\n",
    "\n",
    "    df_spark_visits = df_spark_visits.withColumnRenamed('id','flight_id')\n",
    "    df_spark_visits = df_spark_visits.withColumnRenamed('i94yr','visit_yy')\n",
    "    df_spark_visits = df_spark_visits.withColumnRenamed('i94mon','visit_mm')\n",
    "    df_spark_visits = df_spark_visits.withColumnRenamed('i94cit','cit_code')\n",
    "    df_spark_visits = df_spark_visits.withColumnRenamed('i94res','res_code')\n",
    "    df_spark_visits = df_spark_visits.withColumnRenamed('i94port','port_code')\n",
    "    df_spark_visits = df_spark_visits.withColumnRenamed('i94addr','stay_state')\n",
    "    df_spark_visits = df_spark_visits.withColumnRenamed('i94visa','visa_kind')\n",
    "    df_spark_visits = df_spark_visits.withColumnRenamed('visatype','visa_type')\n",
    "    df_spark_visits = df_spark_visits.withColumnRenamed('cicid','id')\n",
    "    \n",
    "    # Revise data type of columns - astype/cast\n",
    "    df_spark_visits = df_spark_visits.withColumn('id',df_spark_visits['id'].cast('integer'))\n",
    "    df_spark_visits = df_spark_visits.withColumn('visit_yy',df_spark_visits['visit_yy'].cast('integer'))\n",
    "    df_spark_visits = df_spark_visits.withColumn('visit_mm',df_spark_visits['visit_mm'].cast('integer'))\n",
    "    df_spark_visits = df_spark_visits.withColumn('cit_code',df_spark_visits['cit_code'].cast('integer'))\n",
    "    df_spark_visits = df_spark_visits.withColumn('res_code',df_spark_visits['res_code'].cast('integer'))\n",
    "    df_spark_visits = df_spark_visits.withColumn('visa_kind',df_spark_visits['visa_kind'].cast('integer'))\n",
    "    \n",
    "    # (FK) visitor_id\n",
    "    df_spark_visits = df_spark_visits.withColumn('visitor_id',df_spark_visits['id'])\n",
    "\n",
    "    # Drop rows having NaN value in any column\n",
    "    df_spark_visits = df_spark_visits.dropna()\n",
    "\n",
    "    # Write to dimension table\n",
    "    df_spark_visits.write \\\n",
    "                .mode(output_data_mode) \\\n",
    "                .partitionBy('port_code','visit_yy','visit_mm') \\\n",
    "                .parquet(output_data_path + output_data_name)\n",
    "    # Return\n",
    "    return df_spark_visits\n"
   ]
  },
  {
   "cell_type": "code",
   "execution_count": 41,
   "metadata": {},
   "outputs": [
    {
     "name": "stdout",
     "output_type": "stream",
     "text": [
      "\n",
      "Table: visits.parquet\n",
      "\n",
      "root\n",
      " |-- id: integer (nullable = true)\n",
      " |-- visit_yy: integer (nullable = true)\n",
      " |-- visit_mm: integer (nullable = true)\n",
      " |-- cit_code: integer (nullable = true)\n",
      " |-- res_code: integer (nullable = true)\n",
      " |-- port_code: string (nullable = true)\n",
      " |-- stay_state: string (nullable = true)\n",
      " |-- visa_kind: integer (nullable = true)\n",
      " |-- visa_type: string (nullable = true)\n",
      " |-- flight_id: long (nullable = false)\n",
      " |-- visitor_id: integer (nullable = true)\n",
      "\n",
      "+---+--------+--------+--------+--------+---------+----------+---------+---------+---------+----------+\n",
      "| id|visit_yy|visit_mm|cit_code|res_code|port_code|stay_state|visa_kind|visa_type|flight_id|visitor_id|\n",
      "+---+--------+--------+--------+--------+---------+----------+---------+---------+---------+----------+\n",
      "| 15|    2016|       4|     101|     101|      WAS|        MI|        2|       B2|        1|        15|\n",
      "| 16|    2016|       4|     101|     101|      NYC|        MA|        2|       B2|        2|        16|\n",
      "| 17|    2016|       4|     101|     101|      NYC|        MA|        2|       B2|        2|        17|\n",
      "| 18|    2016|       4|     101|     101|      NYC|        MI|        1|       B1|        4|        18|\n",
      "| 19|    2016|       4|     101|     101|      NYC|        NJ|        2|       B2|        4|        19|\n",
      "+---+--------+--------+--------+--------+---------+----------+---------+---------+---------+----------+\n",
      "only showing top 5 rows\n",
      "\n"
     ]
    }
   ],
   "source": [
    "# Select Visits via Air Arrivals\n",
    "df_spark_visits = df_spark.filter(df_spark.i94mode==1)\n",
    "\n",
    "# (FK) flight_id  \n",
    "df_spark_visits = df_spark_visits.join(df_spark_flights, (df_spark_flights.airline == df_spark_visits.airline) & \\\n",
    "                                                        (df_spark_flights.flight_no ==  df_spark_visits.fltno) & \\\n",
    "                                                       (df_spark_flights.airport_code == df_spark_visits.i94port) & \\\n",
    "                                                       (df_spark_flights.date_yy == df_spark_visits.i94yr) & \\\n",
    "                                                       (df_spark_flights.date_mm == df_spark_visits.i94mon)  )  \n",
    "# Load records to visits.parquet\n",
    "df_spark_visits = process_visits(df_spark_visits,output_data, 'visits.parquet', \"overwrite\")\n",
    "\n",
    "# Log\n",
    "log_df(df_spark_visits, 'visits.parquet')\n"
   ]
  },
  {
   "cell_type": "code",
   "execution_count": 42,
   "metadata": {},
   "outputs": [
    {
     "name": "stdout",
     "output_type": "stream",
     "text": [
      "+-----+--------+--------+--------+--------+---------+----------+---------+---------+---------+----------+-----+------+------+----+\n",
      "|   id|visit_yy|visit_mm|cit_code|res_code|port_code|stay_state|visa_kind|visa_type|flight_id|visitor_id|   id|dob_yy|gender| age|\n",
      "+-----+--------+--------+--------+--------+---------+----------+---------+---------+---------+----------+-----+------+------+----+\n",
      "|  148|    2016|       4|     103|     103|      NEW|        NY|        2|       WT|       81|       148|  148|  1995|     F|21.0|\n",
      "|  833|    2016|       4|     104|     104|      BOS|        NY|        2|       WT|      694|       833|  833|  2000|     F|16.0|\n",
      "| 1088|    2016|       4|     104|     104|      NEW|        NY|        2|       WT|      776|      1088| 1088|  1973|     F|43.0|\n",
      "| 1238|    2016|       4|     104|     104|      NYC|        FL|        2|       WT|      165|      1238| 1238|  2006|     M|10.0|\n",
      "| 1580|    2016|       4|     104|     104|      LOS|        CA|        2|       WT|      296|      1580| 1580|  1983|     F|33.0|\n",
      "| 1591|    2016|       4|     104|     104|      LOS|        CA|        2|       WT|      279|      1591| 1591|  1993|     F|23.0|\n",
      "| 2122|    2016|       4|     105|     105|      WAS|        VA|        2|       B2|      132|      2122| 2122|  1957|     M|59.0|\n",
      "| 4101|    2016|       4|     110|     110|      NYC|        NY|        1|       WB|       26|      4101| 4101|  1980|     F|36.0|\n",
      "| 4818|    2016|       4|     111|     111|      CLT|        NC|        2|       WT|      699|      4818| 4818|  1948|     F|68.0|\n",
      "| 5300|    2016|       4|     111|     111|      NEW|        NY|        2|       WT|      724|      5300| 5300|  1989|     M|27.0|\n",
      "| 5518|    2016|       4|     111|     111|      NEW|        PA|        2|       WT|       80|      5518| 5518|  1960|     F|56.0|\n",
      "| 6658|    2016|       4|     111|     111|      NYC|        NY|        2|       WT|      165|      6658| 6658|  1964|     M|52.0|\n",
      "| 8086|    2016|       4|     111|     111|      LOS|        AL|        2|       WT|      576|      8086| 8086|  2006|     F|10.0|\n",
      "| 8592|    2016|       4|     111|     111|      LOS|        CA|        2|       WT|       32|      8592| 8592|  1989|     M|27.0|\n",
      "| 9427|    2016|       4|     111|     111|      MIA|        US|        2|       WT|       33|      9427| 9427|  1978|     F|38.0|\n",
      "| 9900|    2016|       4|     111|     111|      SFR|        CA|        2|       WT|      494|      9900| 9900|  1996|     M|20.0|\n",
      "|11858|    2016|       4|     113|     113|      NEW|        NJ|        2|       WT|      808|     11858|11858|  1985|     F|31.0|\n",
      "|12027|    2016|       4|     113|     113|      CHI|        GA|        2|       B2|      409|     12027|12027|  1939|     M|77.0|\n",
      "|14450|    2016|       4|     117|     117|      NYC|        NY|        2|       WT|       29|     14450|14450|  1953|     M|63.0|\n",
      "|14570|    2016|       4|     117|     117|      NYC|        NY|        2|       WT|        8|     14570|14570|  1970|     F|46.0|\n",
      "+-----+--------+--------+--------+--------+---------+----------+---------+---------+---------+----------+-----+------+------+----+\n",
      "only showing top 20 rows\n",
      "\n"
     ]
    }
   ],
   "source": [
    "df_join = df_spark_visits.join(df_spark_visitors, df_spark_visits.visitor_id == df_spark_visitors.id)\n",
    "df_join.show()"
   ]
  },
  {
   "cell_type": "markdown",
   "metadata": {},
   "source": [
    "#### 4.2 Data Quality Checks\n",
    "Explain the data quality checks you'll perform to ensure the pipeline ran as expected. These could include:\n",
    " * Integrity constraints on the relational database (e.g., unique key, data type, etc.)\n",
    " * Unit tests for the scripts to ensure they are doing the right thing\n",
    " * Source/Count checks to ensure completeness\n",
    " \n",
    "Run Quality Checks"
   ]
  },
  {
   "cell_type": "code",
   "execution_count": 1,
   "metadata": {},
   "outputs": [],
   "source": [
    "# Perform quality checks here\n",
    "\n",
    "def check_row_count_equals(df,           # type, Sprk DataFrame, Data\n",
    "                           column_name,  # type, String, Column Name\n",
    "                           table_name    # type, String, Name of table\n",
    "                          ):\n",
    "    \"\"\" Compares the number of rows with the number of unique values in column\"\"\"\n",
    "    if df is None:\n",
    "        raise ValeError('df dataframe is invalid!')\n",
    "    if column_name is None:\n",
    "        raise ValeError('column_name is invalid!')\n",
    "    if table_name is None:\n",
    "        raise ValeError('table_name is invalid!')\n",
    "        \n",
    "    cnt_id = df.select(column_name).distinct().count()\n",
    "    cnt_rows = df.count()\n",
    "    if cnt_id == cnt_rows:\n",
    "        print(\"Counts of rows and counts of unique %s matched for %s\" % (column_name,table_name))\n",
    "    else:\n",
    "        print(\"Counts of rows and counts of unique %s DID NOT matched for %s\" % (column_name,table_name))\n",
    "    return\n"
   ]
  },
  {
   "cell_type": "code",
   "execution_count": 134,
   "metadata": {},
   "outputs": [
    {
     "name": "stdout",
     "output_type": "stream",
     "text": [
      "Counts of rows and counts of unique id matched for visits\n"
     ]
    }
   ],
   "source": [
    "check_row_count_equals(df_spark_visits,'id','visits')"
   ]
  },
  {
   "cell_type": "code",
   "execution_count": 135,
   "metadata": {},
   "outputs": [
    {
     "name": "stdout",
     "output_type": "stream",
     "text": [
      "Counts of rows and counts of unique id matched for flights\n"
     ]
    }
   ],
   "source": [
    "check_row_count_equals(df_spark_flights,'id','flights')"
   ]
  },
  {
   "cell_type": "code",
   "execution_count": 136,
   "metadata": {},
   "outputs": [
    {
     "name": "stdout",
     "output_type": "stream",
     "text": [
      "Counts of rows and counts of unique id matched for visitors\n"
     ]
    }
   ],
   "source": [
    "check_row_count_equals(df_spark_visitors,'id','visitors')"
   ]
  },
  {
   "cell_type": "code",
   "execution_count": 137,
   "metadata": {},
   "outputs": [
    {
     "name": "stdout",
     "output_type": "stream",
     "text": [
      "Counts of rows DID NOT matched for visits and visitors\n"
     ]
    }
   ],
   "source": [
    "if df_spark_visits.count() == df_spark_visitors.count():\n",
    "    print(\"Counts of rows matched for %s and %s\" % ('visits','visitors'))\n",
    "else:\n",
    "    print(\"Counts of rows DID NOT matched for %s and %s\" % ('visits','visitors'))\n"
   ]
  },
  {
   "cell_type": "markdown",
   "metadata": {},
   "source": [
    "#### 4.3 Data dictionary \n",
    "<i>\n",
    "Create a data dictionary for your data model. \n",
    "For each field, provide a brief description of what the data is and where it came from. \n",
    "You can include the data dictionary in the notebook or in a separate file.</i>"
   ]
  },
  {
   "cell_type": "markdown",
   "metadata": {},
   "source": [
    "Source and description of <i>us_cities.parquet</i> columns;\n",
    "\n",
    "| Column             | Description            | Source                                        |\n",
    "|--------------------|------------------------|-----------------------------------------------|\n",
    "| state              | State                  | us-cities-demographics/State                  |\n",
    "| state_code         | State Code             | us-cities-demographics/State Code             |\n",
    "| city               | City                   | us-cities-demographics/City                   |\n",
    "| population_total   | Total Population       | us-cities-demographics/Total Population       |\n",
    "| population_male    | Male Population        | us-cities-demographics/Male Population        |\n",
    "| population_female  | Female Population      | us-cities-demographics/Female Population      |\n",
    "| veterans_cnt       | Number of Veterans     | us-cities-demographics/Number of Veterans     |\n",
    "| foreign_born_cnt   | Number of foreign-born | us-cities-demographics/Foreign-born           |\n",
    "| median_age         | Median Age             | us-cities-demographics/Median Age             |\n",
    "| ave_household_size | Average Household Size | us-cities-demographics/Average Household Size |"
   ]
  },
  {
   "cell_type": "markdown",
   "metadata": {},
   "source": [
    "Source and description of <i>us_airports.parquet</i> columns;\n",
    "\n",
    "| Column       | Description             | Source                      |\n",
    "|--------------|-------------------------|-----------------------------|\n",
    "| id           | Identifier              | airport-codes/ident         |\n",
    "| iso_region   | Region of airport       | airport-codes/iso_region    |\n",
    "| iso_country  | Country of airport      | airport-codes/iso_country   |\n",
    "| municipality | Municipality of airport | airport-codes/municipality  |\n",
    "| name         | Name of airport         | airport-codes/name          |\n",
    "| type         | Type of airport         | airport-codes/type          |\n",
    "| coordinates  | Coordinates of airport  | airport-codes/coordinates   |"
   ]
  },
  {
   "cell_type": "markdown",
   "metadata": {},
   "source": [
    "Source and description of <i>flights.parquet</i> columns;\n",
    "\n",
    "| Column       | Description             | Source                  |\n",
    "|--------------|-------------------------|-------------------------|\n",
    "| airline      | Airline Code            | immigration_data/airline |\n",
    "| flight_no    | Flight Number           | immigration_data/fltno   |\n",
    "| airport_code | Airport Code            | immigration_data/i94port |\n",
    "| date_yy      | Year of Date of Flight  | immigration_data/i94yr   |\n",
    "| date_mm      | Month of Data of Flight | immigration_data/i94mon  |"
   ]
  },
  {
   "cell_type": "markdown",
   "metadata": {},
   "source": [
    "Source and description of <i>visitors.parquet</i> columns;\n",
    "\n",
    "| Column | Description        | Source |\n",
    "|--------|--------------------|--------|\n",
    "| id     | Visitor Identifier | immigration_data/cicid       |\n",
    "| dob_yy | Year of DOB        | immigration_data/i94bir       |\n",
    "| gender | Gender             | immigration_data/Gender       |\n",
    "| age    | Age at visit       | immigration_data/biryear       |"
   ]
  },
  {
   "cell_type": "markdown",
   "metadata": {},
   "source": [
    "Source and description of <i>visits.parquet</i> columns;\n",
    "\n",
    "\n",
    "| Column         | Description                                    | Source |\n",
    "|----------------|------------------------------------------------|-----------------------|\n",
    "| id             | Identifier                                     | immigration_data/cicid |\n",
    "| visit_yy       | Year of arrival date                           | immigration_data/i94yr     |\n",
    "| visit_mm       | Month of arrival date                          | immigration_data/i94mon |\n",
    "| cit_code       | .                                              | immigration_data/i94cit |\n",
    "| res_code       | .                                              | immigration_data/i94res |\n",
    "| port_code      | Port of arrival                                | immigration_data/i94port  |\n",
    "| transport_mode | Mode of transportation(air, land, sea)         | immigration_data/i94mode  |\n",
    "| visitor_id     | (FK) Visitor's identifier (=> visitors)        | visitors.parquet/id  |\n",
    "| flight_id      | (FK) Flight's identifier (=> flights)          | flights.parquet/id  |\n",
    "| addr_state     | State of stay address                          | us_cities.parquet/state_code  |\n",
    "| visa_kind      | I-94 Visa (1: Business, 2: Tourist, 3: Student)| immigration_data/i94visa  | \n",
    "| visa_type      | Visa Type                                      | immigration_data/visatype  |\n"
   ]
  },
  {
   "cell_type": "markdown",
   "metadata": {},
   "source": [
    "For each month, what are the main reason (business, tourism, education) of visits? "
   ]
  },
  {
   "cell_type": "code",
   "execution_count": 138,
   "metadata": {},
   "outputs": [
    {
     "name": "stdout",
     "output_type": "stream",
     "text": [
      "+--------+---------+-------+\n",
      "|visit_mm|visa_kind|  count|\n",
      "+--------+---------+-------+\n",
      "|       4|        2|2340519|\n",
      "|       4|        1| 497840|\n",
      "|       4|        3|  38736|\n",
      "+--------+---------+-------+\n",
      "\n"
     ]
    }
   ],
   "source": [
    "df_spark_visits.select('visit_mm','visa_kind')\\\n",
    "                .groupby('visit_mm','visa_kind')\\\n",
    "                .count()\\\n",
    "                .orderBy(\"count\",ascending=False)\\\n",
    "                .show()"
   ]
  },
  {
   "cell_type": "markdown",
   "metadata": {},
   "source": [
    "Which states are top-10 destinations for Tourists?"
   ]
  },
  {
   "cell_type": "code",
   "execution_count": 139,
   "metadata": {},
   "outputs": [
    {
     "name": "stdout",
     "output_type": "stream",
     "text": [
      "+--------+----------+------+\n",
      "|visit_mm|stay_state| count|\n",
      "+--------+----------+------+\n",
      "|       4|        FL|565225|\n",
      "|       4|        NY|475608|\n",
      "|       4|        CA|363005|\n",
      "|       4|        HI|159259|\n",
      "|       4|        GU| 93007|\n",
      "|       4|        NV| 92019|\n",
      "|       4|        TX| 88639|\n",
      "|       4|        NJ| 60688|\n",
      "|       4|        IL| 51854|\n",
      "|       4|        MA| 45740|\n",
      "+--------+----------+------+\n",
      "only showing top 10 rows\n",
      "\n"
     ]
    }
   ],
   "source": [
    "df_spark_visits.filter(df_spark_visits.visa_kind==2)\\\n",
    "                .select('visit_mm','stay_state')\\\n",
    "                .groupby('visit_mm','stay_state')\\\n",
    "                .count()\\\n",
    "                .orderBy(\"count\",ascending=False)\\\n",
    "                .show(10)"
   ]
  },
  {
   "cell_type": "markdown",
   "metadata": {},
   "source": [
    "Which states are top-10 destinations for Business travelers?"
   ]
  },
  {
   "cell_type": "code",
   "execution_count": 140,
   "metadata": {},
   "outputs": [
    {
     "name": "stdout",
     "output_type": "stream",
     "text": [
      "+--------+----------+-----+\n",
      "|visit_mm|stay_state|count|\n",
      "+--------+----------+-----+\n",
      "|       4|        CA|90523|\n",
      "|       4|        NY|60699|\n",
      "|       4|        FL|47702|\n",
      "|       4|        TX|40509|\n",
      "|       4|        IL|27678|\n",
      "|       4|        NV|21978|\n",
      "|       4|        MA|19792|\n",
      "|       4|        WA|15811|\n",
      "|       4|        GA|14981|\n",
      "|       4|        MI|14329|\n",
      "+--------+----------+-----+\n",
      "only showing top 10 rows\n",
      "\n"
     ]
    }
   ],
   "source": [
    "df_spark_visits.filter(df_spark_visits.visa_kind==1)\\\n",
    "                .select('visit_mm','stay_state')\\\n",
    "                .groupby('visit_mm','stay_state')\\\n",
    "                .count()\\\n",
    "                .orderBy(\"count\",ascending=False)\\\n",
    "                .show(10)"
   ]
  },
  {
   "cell_type": "code",
   "execution_count": 45,
   "metadata": {},
   "outputs": [
    {
     "name": "stdout",
     "output_type": "stream",
     "text": [
      "+--------+----------+----+-----+\n",
      "|visit_mm|stay_state| age|count|\n",
      "+--------+----------+----+-----+\n",
      "|       4|        NY|30.0| 2465|\n",
      "|       4|        NY|50.0| 2307|\n",
      "|       4|        NY|31.0| 2242|\n",
      "|       4|        NY|29.0| 2179|\n",
      "|       4|        NY|40.0| 2121|\n",
      "|       4|        NY|28.0| 2113|\n",
      "|       4|        NY|33.0| 2042|\n",
      "|       4|        NY|32.0| 2042|\n",
      "|       4|        NY|27.0| 1990|\n",
      "|       4|        NY|44.0| 1948|\n",
      "+--------+----------+----+-----+\n",
      "only showing top 10 rows\n",
      "\n"
     ]
    }
   ],
   "source": [
    "df_q = df_spark_visits.join(df_spark_visitors, df_spark_visits.visitor_id==df_spark_visitors.id).select('visit_mm','stay_state','age')\n",
    "df_v = df_q.groupby('visit_mm','stay_state','age')\\\n",
    "        .count()\\\n",
    "        .orderBy(\"count\",ascending=False)\n",
    "df_v.show(10)\n"
   ]
  },
  {
   "cell_type": "code",
   "execution_count": 43,
   "metadata": {},
   "outputs": [
    {
     "name": "stdout",
     "output_type": "stream",
     "text": [
      "+--------+-------+-----+\n",
      "|visit_mm|airline|count|\n",
      "+--------+-------+-----+\n",
      "|       4|     LH|84379|\n",
      "|       4|     AA|45981|\n",
      "|       4|     BA|43742|\n",
      "|       4|     DL|34766|\n",
      "|       4|     AF|33641|\n",
      "|       4|     UA|30151|\n",
      "|       4|     KL|20016|\n",
      "|       4|     TK|15842|\n",
      "|       4|     SK|12040|\n",
      "|       4|     LX| 9617|\n",
      "+--------+-------+-----+\n",
      "only showing top 10 rows\n",
      "\n"
     ]
    }
   ],
   "source": [
    "df_q = df_spark_visits.join(df_spark_flights, df_spark_visits.flight_id==df_spark_flights.id).select('visit_mm','airline')\n",
    "df_q.groupby('visit_mm','airline')\\\n",
    "        .count()\\\n",
    "        .orderBy(\"count\",ascending=False)\\\n",
    "        .show(10)"
   ]
  },
  {
   "cell_type": "code",
   "execution_count": 44,
   "metadata": {},
   "outputs": [
    {
     "name": "stdout",
     "output_type": "stream",
     "text": [
      "+-------+-----+\n",
      "|airline|count|\n",
      "+-------+-----+\n",
      "|     LH|84379|\n",
      "|     AA|45981|\n",
      "|     BA|43742|\n",
      "|     DL|34766|\n",
      "|     AF|33641|\n",
      "|     UA|30151|\n",
      "|     KL|20016|\n",
      "|     TK|15842|\n",
      "|     SK|12040|\n",
      "|     LX| 9617|\n",
      "+-------+-----+\n",
      "only showing top 10 rows\n",
      "\n"
     ]
    }
   ],
   "source": [
    "df_q.select('airline').groupby('airline')\\\n",
    "        .count()\\\n",
    "        .orderBy(\"count\",ascending=False)\\\n",
    "        .show(10)"
   ]
  },
  {
   "cell_type": "markdown",
   "metadata": {},
   "source": [
    "#### Step 5: Complete Project Write Up\n"
   ]
  },
  {
   "cell_type": "markdown",
   "metadata": {},
   "source": [
    "* <b>Clearly state the rationale for the choice of tools and technologies for the project.</b> <br>\n",
    "The rationale to use star schema is to support anticipated and ununticipated queries. "
   ]
  },
  {
   "cell_type": "markdown",
   "metadata": {},
   "source": [
    "* <b>Propose how often the data should be updated and why.</b> <br>\n",
    "The visits, visitors, and flights tables should be updated with hourly data because US Visits data comes every hour and every day (due to constant arrival of visitors to US ports). This data flow will keep appending new records to flights and visitors tables. \n",
    "If each US airport can push their hourly US Visits data to AWS S3 or GCS bucket, then an Airflow DAG can extract data from AWS S3 or GCS bucket and load received data to flights, visitors, and visits table in AWS Redshift. <p>\n",
    "<br>\n",
    "Because the cities and airports are very slowly changing dimensions, it is better to handle insertion of a record via GUI. "
   ]
  },
  {
   "cell_type": "markdown",
   "metadata": {},
   "source": [
    "* <b>Write a description of how you would approach the problem differently under the following scenarios:</b>\n",
    " * <b>The data was increased by 100x.</b><br>\n",
    " Will use Airflow with Spark operator to ingest data paralel. "
   ]
  },
  {
   "cell_type": "markdown",
   "metadata": {},
   "source": [
    "* <b>Write a description of how you would approach the problem differently under the following scenarios:</b>\n",
    " * <b>The data populates a dashboard that must be updated on a daily basis by 7am every day.</b><br>\n",
    " Depending on data needs of dashboard, a data mart tables will be automatically prepared before 7am every day by using Airflow because we can have scheduled scripts."
   ]
  },
  {
   "cell_type": "markdown",
   "metadata": {},
   "source": [
    "* <b>Write a description of how you would approach the problem differently under the following scenarios:</b>\n",
    " * <b>The database needed to be accessed by 100+ people.</b><br>\n",
    "    <p>\n",
    "    Assuming that we know the queries then we can use NoSQL solutions (Cassandra) because the above scenario suggests a read heavy system. \n",
    "    NoSQL solution will remove cost of join operations, and partioned data can improve the query execution time and concurrency. "
   ]
  },
  {
   "cell_type": "markdown",
   "metadata": {},
   "source": [
    "## References\n",
    " 1. https://travel.trade.gov/research/programs/i94/description.asp\n",
    " 1. https://travel.trade.gov/research/programs/i94/methodology.asp\n",
    " 1. Airport Codes, https://datahub.io/core/airport-codes#readme\n",
    " 1. US Cities: Demographics, https://public.opendatasoft.com/explore/dataset/us-cities-demographics/table/\n",
    " 1. Climate Change: Earth Surface Temperature Data, https://www.kaggle.com/berkeleyearth/climate-change-earth-surface-temperature-data\n",
    " "
   ]
  }
 ],
 "metadata": {
  "kernelspec": {
   "display_name": "Python 3",
   "language": "python",
   "name": "python3"
  },
  "language_info": {
   "codemirror_mode": {
    "name": "ipython",
    "version": 3
   },
   "file_extension": ".py",
   "mimetype": "text/x-python",
   "name": "python",
   "nbconvert_exporter": "python",
   "pygments_lexer": "ipython3",
   "version": "3.6.3"
  }
 },
 "nbformat": 4,
 "nbformat_minor": 2
}
