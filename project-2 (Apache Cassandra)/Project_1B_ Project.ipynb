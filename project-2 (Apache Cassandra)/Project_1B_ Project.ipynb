{
 "cells": [
  {
   "cell_type": "markdown",
   "metadata": {},
   "source": [
    "# Project: Data Modeling with Cassandra\n",
    "\n",
    "## Introduction\n",
    "Sparkify wants to analyze the song played event data they've been collecting on songs and user activity on their new music streaming app. They are interested in understanding what songs users are listening to. <br>\n",
    "\n",
    "Team identified 3 queries to analyze the song played event data. <br>\n",
    "\n",
    "Solution will use Apache Cassandra to support these queries. Solution will require processing event log data in CSV format to be loaded to tables in Apache Cassandra database.\n"
   ]
  },
  {
   "cell_type": "markdown",
   "metadata": {},
   "source": [
    "## Solution\n",
    "Solution has two phases:\n",
    " 1. Part-I  : ETL pipeline for pre-processing the song played event log files\n",
    " 2. Part-II : Create Apache Cassandra tables for these queires and load data to event data tables"
   ]
  },
  {
   "cell_type": "markdown",
   "metadata": {},
   "source": [
    "### Part-I : ETL pipeline for pre-processing the song played event log files"
   ]
  },
  {
   "cell_type": "markdown",
   "metadata": {},
   "source": [
    "#### Import Python packages "
   ]
  },
  {
   "cell_type": "code",
   "execution_count": 93,
   "metadata": {},
   "outputs": [],
   "source": [
    "# Import Python packages \n",
    "import pandas as pd\n",
    "import cassandra\n",
    "import re\n",
    "import os\n",
    "import glob\n",
    "import numpy as np\n",
    "import json\n",
    "import csv\n",
    "import logging\n"
   ]
  },
  {
   "cell_type": "markdown",
   "metadata": {},
   "source": [
    "#### Creates list of filepaths to process original event csv data files"
   ]
  },
  {
   "cell_type": "code",
   "execution_count": 94,
   "metadata": {},
   "outputs": [],
   "source": [
    "# tim.o.> adopted from the original project template\n",
    "def getFilePaths(filepath      # type: str, file path to obtain filepaths of files in this directory\n",
    "                ):\n",
    "    ''' Returns filepaths from the given directory (and all subdirectories under this hierarchy). \n",
    "        There is no filter for name of file/directory.\n",
    "    '''\n",
    "    assert (filepath != None), \"Invalid argument!\"\n",
    "    assert (filepath != ''), \"Invalid Value!\"\n",
    "    file_path_list = None\n",
    "    # Create a for loop to create a list of files and collect each filepath\n",
    "    for root, dirs, files in os.walk(filepath):    \n",
    "        # join the file path and roots with the subdirectories using glob\n",
    "        file_path_list = glob.glob(os.path.join(root,'*'))\n",
    "\n",
    "    return file_path_list\n",
    "\n",
    "def printFilePaths(file_path_list     # type: List[str], contains list of filepaths\n",
    "                  ):\n",
    "    ''' Prints filepaths in the given list\n",
    "    '''\n",
    "    assert (file_path_list != None), \"Invalid argument!\"\n",
    "    cnt = 0\n",
    "    for f in file_path_list:\n",
    "        print(f)\n",
    "        cnt += 1\n",
    "    return cnt\n"
   ]
  },
  {
   "cell_type": "code",
   "execution_count": 95,
   "metadata": {},
   "outputs": [
    {
     "name": "stdout",
     "output_type": "stream",
     "text": [
      "Current working directory is /home/workspace \n",
      "/home/workspace/event_data/2018-11-07-events.csv\n",
      "/home/workspace/event_data/2018-11-24-events.csv\n",
      "/home/workspace/event_data/2018-11-04-events.csv\n",
      "/home/workspace/event_data/2018-11-17-events.csv\n",
      "/home/workspace/event_data/2018-11-23-events.csv\n",
      "/home/workspace/event_data/2018-11-21-events.csv\n",
      "/home/workspace/event_data/2018-11-15-events.csv\n",
      "/home/workspace/event_data/2018-11-08-events.csv\n",
      "/home/workspace/event_data/2018-11-11-events.csv\n",
      "/home/workspace/event_data/2018-11-06-events.csv\n",
      "/home/workspace/event_data/2018-11-25-events.csv\n",
      "/home/workspace/event_data/2018-11-02-events.csv\n",
      "/home/workspace/event_data/2018-11-30-events.csv\n",
      "/home/workspace/event_data/2018-11-29-events.csv\n",
      "/home/workspace/event_data/2018-11-05-events.csv\n",
      "/home/workspace/event_data/2018-11-26-events.csv\n",
      "/home/workspace/event_data/2018-11-28-events.csv\n",
      "/home/workspace/event_data/2018-11-14-events.csv\n",
      "/home/workspace/event_data/2018-11-22-events.csv\n",
      "/home/workspace/event_data/2018-11-01-events.csv\n",
      "/home/workspace/event_data/2018-11-16-events.csv\n",
      "/home/workspace/event_data/2018-11-03-events.csv\n",
      "/home/workspace/event_data/2018-11-12-events.csv\n",
      "/home/workspace/event_data/2018-11-13-events.csv\n",
      "/home/workspace/event_data/2018-11-27-events.csv\n",
      "/home/workspace/event_data/2018-11-18-events.csv\n",
      "/home/workspace/event_data/2018-11-20-events.csv\n",
      "/home/workspace/event_data/2018-11-19-events.csv\n",
      "/home/workspace/event_data/2018-11-09-events.csv\n",
      "/home/workspace/event_data/2018-11-10-events.csv\n",
      "There are 30 event files in /home/workspace/event_data.\n"
     ]
    }
   ],
   "source": [
    "logger = logging.getLogger(__name__)\n",
    "# checking your current working directory\n",
    "print('Current working directory is %s ' % os.getcwd())\n",
    "logger.info('Project-2> START')\n",
    "logger.info('Project-2> Current working directory is %s ', os.getcwd())\n",
    "\n",
    "# Get your current folder and subfolder event data\n",
    "file_path = os.getcwd() + '/event_data'\n",
    "logger.info('Project-2> Looking for files in %s ', file_path )\n",
    "\n",
    "# Get filepaths\n",
    "file_path_list=getFilePaths(file_path)\n",
    "print('There are %d event files in %s.' % (printFilePaths(file_path_list),file_path))"
   ]
  },
  {
   "cell_type": "markdown",
   "metadata": {},
   "source": [
    "#### Processing the event log files to create the event data file csv that will be loaded to Apache Casssandra tables"
   ]
  },
  {
   "cell_type": "code",
   "execution_count": 96,
   "metadata": {},
   "outputs": [],
   "source": [
    "#\n",
    "# tim.o.> adopted from project's template\n",
    "#\n",
    "def writeHeaderToEventDataFile(event_data_fname     # type: str, event data file name\n",
    "                              ):\n",
    "    ''' Writes a header to event data file'''\n",
    "    assert (event_data_fname != None),'Invalid Value: Event Data File Name is None!'\n",
    "    assert (event_data_fname != ''),'Invalid Value: Event Data File Name is Empty!'\n",
    "    # Writes header to event data file\n",
    "    with open(event_data_fname, 'w', encoding = 'utf8', newline='') as f:\n",
    "        writer = csv.writer(f, dialect='myDialect')\n",
    "        writer.writerow(['artist','firstName','gender','itemInSession','lastName','length',\\\n",
    "                'level','location','sessionId','song','userId'])\n",
    "    \n",
    "    return\n",
    "\n",
    "\n",
    "def writeToEventDataFile(full_data_rows_list, # type: List[str], list of lines from one event log\n",
    "                         event_data_fname     # type: str, event data file name\n",
    "                        ):\n",
    "    ''' Extracts the fields from each row of event log to write to event data file \n",
    "    '''\n",
    "    assert (event_data_fname != None),'Invalid Value: Event Data File Name is None!'\n",
    "    assert (event_data_fname != ''),'Invalid Value: Event Data File Name is Empty!'\n",
    "    assert (full_data_rows_list != None),'Invalid Value: List of lines is None!'\n",
    "    \n",
    "    with open(event_data_fname, 'a', encoding = 'utf8', newline='') as f:\n",
    "        writer = csv.writer(f, dialect='myDialect')\n",
    "        # For each row, extract the fields needed \n",
    "        for row in full_data_rows_list:\n",
    "            if (row[0] != ''):\n",
    "                writer.writerow((row[0], row[2], row[3], row[4], \n",
    "                                 row[5], row[6], row[7], row[8], \n",
    "                                 row[12], row[13], row[16]))\n",
    "    return\n",
    "\n",
    "\n",
    "def processALogFile(file_name  # type: str, file name of event log csv file\n",
    "                   ):\n",
    "    '''\n",
    "    Reads event log (file_name) file and collects each line into a list\n",
    "    '''\n",
    "    assert (file_name != None),'Invalid Value: Event Log File Name is None!'\n",
    "    assert (file_name != ''),'Invalid Value: Event Log File Name is Empty!'\n",
    "    \n",
    "    # initiating an empty list of rows that will be generated from each file\n",
    "    full_data_rows_list = [] \n",
    "    \n",
    "    # reading a csv file, f \n",
    "    with open(file_name, 'r', encoding = 'utf8', newline='') as csvfile: \n",
    "        # creating a csv reader object \n",
    "        csvreader = csv.reader(csvfile) \n",
    "        next(csvreader)        \n",
    "        # extracting each data row one by one and append it        \n",
    "        for line in csvreader:\n",
    "            #print(line), if (line != '')\n",
    "            full_data_rows_list.append(line) \n",
    "\n",
    "    return full_data_rows_list\n",
    "\n",
    "    \n",
    "def processLogFiles(file_path_list,   # type: List[str], list of event log file names\n",
    "                    event_data_fname  # type: str, event data file name\n",
    "                   ):\n",
    "    ''' \n",
    "    Extracts data from event log files (file_path_list), and collects them into event data file.\n",
    "    '''\n",
    "    assert (file_path_list != None),'Invalid Value: List of event log file names is None!'\n",
    "    assert (event_data_fname != None),'Invalid Value: Event Data File Name is None!'\n",
    "    assert (event_data_fname != ''),'Invalid Value: Event Data File Name is Empty!'\n",
    "\n",
    "    # for every filepath in the file path list \n",
    "    for f in file_path_list:\n",
    "        full_data_rows_list=processALogFile(f)\n",
    "        #if( full_data_rows_list != None and len(full_data_rows_list) > 0):\n",
    "        writeToEventDataFile(full_data_rows_list,event_data_fname)\n",
    "\n",
    "    return\n"
   ]
  },
  {
   "cell_type": "code",
   "execution_count": 97,
   "metadata": {},
   "outputs": [],
   "source": [
    "#\n",
    "# tim.o.> continue to follow the project template\n",
    "#\n",
    "\n",
    "# Extract event logs to event data file\n",
    "evt_data_file_name = 'event_datafile_new.csv'\n",
    "\n",
    "# write header to event data file\n",
    "csv.register_dialect('myDialect', quoting=csv.QUOTE_ALL, skipinitialspace=True)\n",
    "writeHeaderToEventDataFile(evt_data_file_name)\n",
    "\n",
    "processLogFiles(file_path_list,evt_data_file_name)\n",
    "\n",
    "logging.info('Project-2> Completed transfering event log files in %s to %s ', file_path,evt_data_file_name )\n"
   ]
  },
  {
   "cell_type": "code",
   "execution_count": 98,
   "metadata": {},
   "outputs": [
    {
     "name": "stdout",
     "output_type": "stream",
     "text": [
      "There are 6821 rows in \"event_datafile_new.csv\".\n"
     ]
    }
   ],
   "source": [
    "#\n",
    "# tim.o.> from project template\n",
    "#\n",
    "# check the number of rows in event data csv file\n",
    "with open(evt_data_file_name, 'r', encoding = 'utf8') as f:\n",
    "    print('There are %d rows in \\\"%s\\\".'%(sum(1 for line in f),evt_data_file_name))"
   ]
  },
  {
   "cell_type": "markdown",
   "metadata": {},
   "source": [
    "### Part-II : Create Apache Cassandra tables for the following queries and load data to event data tables"
   ]
  },
  {
   "cell_type": "markdown",
   "metadata": {},
   "source": [
    "\n",
    "The CSV file titled <font color=red>**event_datafile_new.csv**</font>, located within the Workspace directory, contains all song played event logs. \n",
    "\n",
    "The <font color=red>**event_datafile_new.csv**</font> contains the following columns: <br>\n",
    "\n",
    "| Index | Column                     |\n",
    "|-------|----------------------------|\n",
    "|  0    | artist                     |\n",
    "|  1    | firstName of user          |\n",
    "|  2    | gender of user             |\n",
    "|  3    | item number in session     |\n",
    "|  4    | last name of user          |\n",
    "|  5    | length of the song         |\n",
    "|  6    | level (paid or free song)  |\n",
    "|  7    | location of the user       |\n",
    "|  8    | sessionId                  |\n",
    "|  9    | song title                 |\n",
    "| 10    | userId                     |\n",
    "\n",
    "The image below is a screenshot of the denormalized data in the <font color=red>**event_datafile_new.csv**</font> after the code above is run:<br>\n",
    "\n",
    "<img src=\"images/image_event_datafile_new.jpg\">"
   ]
  },
  {
   "cell_type": "markdown",
   "metadata": {},
   "source": [
    "### Connecting to Apache Cassandra \n",
    "First, it will connect to <i>cluster</i> and get a <i>session</i> object. <br>\n",
    "Second, it will define a <i>sparkify</i> keyspace. <br>\n",
    "Third, it will set the keyspace to <i>spakify</i>.<br>"
   ]
  },
  {
   "cell_type": "markdown",
   "metadata": {},
   "source": [
    "#### Connecting to a Cluster"
   ]
  },
  {
   "cell_type": "code",
   "execution_count": 99,
   "metadata": {},
   "outputs": [],
   "source": [
    "from cassandra.cluster import Cluster"
   ]
  },
  {
   "cell_type": "code",
   "execution_count": 100,
   "metadata": {},
   "outputs": [],
   "source": [
    "#\n",
    "# tim.o.> adopted from project template\n",
    "#\n",
    "def connectToCassandraCluster(list_of_nodes   # type: List[str], list of ip addresses\n",
    "                             ):\n",
    "    '''\n",
    "    Connects to Cassandra Cluster, returns cluster and session objects\n",
    "    '''\n",
    "    assert (list_of_nodes != None), 'Invalid Value: List of ip addresses is None!'\n",
    "    assert (len(list_of_nodes) > 0), 'Invalid Value: List of ip addresses is Empty!'\n",
    "    \n",
    "    cluster = None\n",
    "    session = None\n",
    "    try:\n",
    "        cluster = Cluster(list_of_nodes)\n",
    "        logger.debug('Got cluster')\n",
    "        \n",
    "        # To establish connection and begin executing queries, need a session\n",
    "        session = cluster.connect()\n",
    "        logger.debug('Connected, got session!')\n",
    "        \n",
    "    except Exception as e:\n",
    "        print(e)\n",
    "        logger.exception(e)\n",
    "\n",
    "    return cluster, session"
   ]
  },
  {
   "cell_type": "code",
   "execution_count": 101,
   "metadata": {},
   "outputs": [],
   "source": [
    "# Conect to Cassandra instance on local machine\n",
    "list_of_nodes= ['127.0.0.1']\n",
    "cluster, session = connectToCassandraCluster(list_of_nodes)"
   ]
  },
  {
   "cell_type": "markdown",
   "metadata": {},
   "source": [
    "#### Create Keyspace"
   ]
  },
  {
   "cell_type": "code",
   "execution_count": 102,
   "metadata": {},
   "outputs": [],
   "source": [
    "# Create a Keyspace for Sparkify\n",
    "try:\n",
    "    session.execute(\"\"\"\n",
    "        CREATE KEYSPACE IF NOT EXISTS sparkify \n",
    "        WITH REPLICATION = \n",
    "        { 'class' : 'SimpleStrategy', 'replication_factor' : 1 }\"\"\"\n",
    "    )\n",
    "    logger.debug('CREATE KEYSPACE sparkify, OK!')\n",
    "except Exception as e:\n",
    "    print(e)\n",
    "    logger.exception(e)"
   ]
  },
  {
   "cell_type": "markdown",
   "metadata": {},
   "source": [
    "#### Set Keyspace"
   ]
  },
  {
   "cell_type": "code",
   "execution_count": 103,
   "metadata": {},
   "outputs": [],
   "source": [
    "# Set KEYSPACE to 'sparkify'\n",
    "try:\n",
    "    session.set_keyspace('sparkify')\n",
    "    logger.debug('SET KEYSPACE TO sparkify, OK!')\n",
    "except Exception as e:\n",
    "    print(e)\n",
    "    logger.exception(e)\n"
   ]
  },
  {
   "cell_type": "markdown",
   "metadata": {},
   "source": [
    "## Task: Create queries to ask the following three questions of the data\n",
    "\n",
    "#### 1. Give me the artist, song title and song's length in the music app history that was heard during  sessionId = 338, and itemInSession  = 4\n",
    "\n",
    "\n",
    "#### 2. Give me only the following: name of artist, song (sorted by itemInSession) and user (first and last name) for userid = 10, sessionid = 182\n",
    "    \n",
    "\n",
    "#### 3. Give me every user name (first and last) in my music app history who listened to the song 'All Hands Against His Own'\n",
    "\n",
    "\n"
   ]
  },
  {
   "cell_type": "markdown",
   "metadata": {},
   "source": [
    " \n",
    "Now we need to create tables to run these queries. <br>\n",
    "We will design the database tables for these queries with Apache Cassandra."
   ]
  },
  {
   "cell_type": "code",
   "execution_count": 104,
   "metadata": {},
   "outputs": [],
   "source": [
    "#\n",
    "# tim.o.> adapted from project template\n",
    "#\n",
    "def insertToDB(dbSession,       # type: , database session handle\n",
    "               file,            # type: str, name of event data csv file\n",
    "               istmt,           # type: str, CQL Insert Statement \n",
    "               funcLine         # type: func_ptr, Pointer to a function: line -> fields in istmt\n",
    "              ):\n",
    "    ''' \n",
    "    Inserts fields from event data file to database table\n",
    "    query string (of INSERT CQL) \n",
    "    A function (funcLine) to extract fields from an event data file line (type: List[str])\n",
    "    '''\n",
    "    assert (dbSession != None), 'Invalid Value: database session is None!'\n",
    "    assert (file != None), 'Invalid Value: Name of event data csv file is None!'\n",
    "    assert (file != ''), 'Invalid Value: Name of event data csv file is Empty!'\n",
    "    assert (istmt != None), 'Invalid Value: CQL INSERT statement is None!'\n",
    "    assert (istmt != ''), 'Invalid Value: CQL INSERT statement is Empty!'\n",
    "    assert (funcLine != None), 'Invalid Value: Function: line->fields in INSETRT statement is None!'\n",
    "    \n",
    "    with open(file, encoding = 'utf8') as f:\n",
    "        csvreader = csv.reader(f)\n",
    "        next(csvreader) # skip header\n",
    "        # for each line\n",
    "        for line in csvreader:\n",
    "            dbSession.execute(istmt, funcLine(line))\n",
    "            \n",
    "    return"
   ]
  },
  {
   "cell_type": "markdown",
   "metadata": {},
   "source": [
    "### Query 1\n",
    "**Query**:  Give me the artist, song's title and song's length in the music app history \n",
    "that was heard during sessionId = 338, and itemInSession = 4\n",
    "\n",
    "Expected output columns are;\n",
    " 1. artist's name\n",
    " 1. song's title\n",
    " 1. song's length\n",
    "\n",
    "The required query uses <i>sessionId</i> and <i>itemInSession</i> in WHERE clause.\n",
    "\n",
    "**PRIMARY KEY (PK) Rationale**<br>\n",
    " - Table for this query should use sessionId as <b>Partition Key</b> and itemInSession as <b>Clustering Column</b>. <br>\n",
    " - The value of sessionId will help to route the given query to one node. Assuming all rows of a session can fit in one node. \n",
    "\n",
    "**Data Type Selection Rationale** <br>\n",
    "\n",
    "|Field| Data Type (Cassandra,[CQL](https://docs.datastax.com/en/cql/3.3/cql/cql_reference/cql_data_types_c.html))| Why? |\n",
    "|-----|----------|-----|\n",
    "| sessionId (K) | bigint | There will be many sessions. (<i>partition **K**ey</i>) |\n",
    "| itemInSession (C)| int | Number of items in a session.<br> A range of [0,max(int)] should be sufficient. (<i>**C**lustering column</i>) |\n",
    "| artistName | text | String data type for artist's name. (<i>query return</i>) |\n",
    "| songTitle  | text | String data type for title of played song. (<i>query return</i>) |\n",
    "| songDuration | float | Duration of played song. <br> A range of [0,max(float)] should be sufficient.  (<i>query return</i>) |\n",
    "\n",
    "<p>\n",
    "Combined columns (sessionId and itemInSession) uniquely identify a song played event. "
   ]
  },
  {
   "cell_type": "code",
   "execution_count": 105,
   "metadata": {},
   "outputs": [],
   "source": [
    "##\n",
    "## Create table for query 1\n",
    "## Contains fields that need to be retrieved and primary key (partition key,clustering column)\n",
    "##\n",
    "\n",
    "table_q1_name = 'songplayed_By_Session_And_ItemInSession'\n",
    "\n",
    "# CQL CREATE TABLE statement\n",
    "stmt = \"CREATE TABLE IF NOT EXISTS \" + table_q1_name\n",
    "stmt = stmt + \" (sessionId bigint, itemInSession int, artistName text, songTitle text, songDuration double, \\\n",
    "                PRIMARY KEY(sessionId, itemInSession));\"\n",
    "logger.debug('CREATE TABLE FOR Q1: [%s]', stmt)\n",
    "\n",
    "try:\n",
    "    session.execute(stmt)\n",
    "except Exception as e:\n",
    "    print(e)\n",
    "    logger.exception(e)"
   ]
  },
  {
   "cell_type": "code",
   "execution_count": 106,
   "metadata": {},
   "outputs": [],
   "source": [
    "def funcLine1(line    # type: List[str], a row of event data csv file\n",
    "             ):\n",
    "    ''' Returns extracted column values from given line, a row of event data file \n",
    "    '''\n",
    "    assert (line != None), 'Invalid Value: A line of event data file is None!'\n",
    "    assert (len(line) > 9), 'Invalid Value: A line of event data file is Empty!'\n",
    "    return (int(line[8]),int(line[3]),line[0],line[9],float(line[5]))\n",
    "\n",
    "\n",
    "# Prepare CQL INSERT Statement\n",
    "istmt = \"INSERT INTO \" + table_q1_name\n",
    "istmt = istmt + \" (sessionId, itemInSession, artistName, songTitle, songDuration)\"\n",
    "istmt = istmt + \" VALUES (%s, %s, %s, %s, %s);\"\n",
    "\n",
    "# Extract and load rows from event data csv file to a table in Cassandra \n",
    "insertToDB(session,evt_data_file_name,istmt,funcLine1)"
   ]
  },
  {
   "cell_type": "markdown",
   "metadata": {},
   "source": [
    "#### Do a SELECT to verify that the data have been inserted into each table"
   ]
  },
  {
   "cell_type": "code",
   "execution_count": 107,
   "metadata": {},
   "outputs": [],
   "source": [
    "#\n",
    "# tim.o.> adopted from project template\n",
    "#\n",
    "def queryBySessionIdItemInSession(dbSession,\n",
    "                                  table_name,\n",
    "                                  sessionId,\n",
    "                                  itemInSession\n",
    "                                 ):\n",
    "    ''' Retrieves artist's name, title of song, and duration song for given session and item in session.\n",
    "    '''\n",
    "    assert (dbSession != None), 'Invalid Value: Database Session is None!'\n",
    "    assert (table_name != None), 'Invalid Value: Table Name is None!'\n",
    "    assert (table_name != ''), 'Invalid Value: Table Name is Empty!'\n",
    "    # Return\n",
    "    rows = None\n",
    "    # CQL SELECT statement\n",
    "    query = \"SELECT artistName, songTitle, songDuration FROM \"+ table_name;\n",
    "    query = query + \" WHERE sessionId = \" + str(sessionId);\n",
    "    query = query + \" and itemInSession = \"+ str(itemInSession) +\";\"\n",
    "    logger.debug(' Query [%s]', query)\n",
    "    \n",
    "    try:\n",
    "        rows = dbSession.execute(query)\n",
    "    except Exception as e:\n",
    "        print(e)\n",
    "        logger.exception(e)\n",
    "\n",
    "    return rows"
   ]
  },
  {
   "cell_type": "code",
   "execution_count": 108,
   "metadata": {},
   "outputs": [
    {
     "name": "stdout",
     "output_type": "stream",
     "text": [
      "\n",
      "\n",
      "Give me the artist, song's title and song's length in the music app history that was heard during sessionId = 338 and itemInSession = 4 \n",
      "\n",
      "\n"
     ]
    },
    {
     "data": {
      "text/html": [
       "<div>\n",
       "<style scoped>\n",
       "    .dataframe tbody tr th:only-of-type {\n",
       "        vertical-align: middle;\n",
       "    }\n",
       "\n",
       "    .dataframe tbody tr th {\n",
       "        vertical-align: top;\n",
       "    }\n",
       "\n",
       "    .dataframe thead th {\n",
       "        text-align: right;\n",
       "    }\n",
       "</style>\n",
       "<table border=\"1\" class=\"dataframe\">\n",
       "  <thead>\n",
       "    <tr style=\"text-align: right;\">\n",
       "      <th></th>\n",
       "      <th>artistName</th>\n",
       "      <th>songTitle</th>\n",
       "      <th>songDuration</th>\n",
       "    </tr>\n",
       "  </thead>\n",
       "  <tbody>\n",
       "    <tr>\n",
       "      <th>0</th>\n",
       "      <td>Faithless</td>\n",
       "      <td>Music Matters (Mark Knight Dub)</td>\n",
       "      <td>495.3073</td>\n",
       "    </tr>\n",
       "  </tbody>\n",
       "</table>\n",
       "</div>"
      ],
      "text/plain": [
       "  artistName                        songTitle  songDuration\n",
       "0  Faithless  Music Matters (Mark Knight Dub)      495.3073"
      ]
     },
     "execution_count": 108,
     "metadata": {},
     "output_type": "execute_result"
    }
   ],
   "source": [
    "# query parameters\n",
    "sessionId = 338\n",
    "itemInSession = 4\n",
    "\n",
    "# do query\n",
    "rows = queryBySessionIdItemInSession(session,table_q1_name,sessionId,itemInSession)\n",
    "\n",
    "# prepare data frame from results set\n",
    "result_set = []\n",
    "if(rows != None):\n",
    "    for row in rows:\n",
    "        result_set.append([row.artistname,row.songtitle,row.songduration])\n",
    "\n",
    "q1_text = 'Give me the artist, song\\'s title and song\\'s length in the music app history ';\n",
    "q1_text = q1_text +'that was heard during'; \n",
    "print( '\\n\\n%s sessionId = %d and itemInSession = %d \\n\\n' % (q1_text,sessionId,itemInSession))\n",
    "\n",
    "res_df = pd.DataFrame(result_set,index=None,columns=['artistName','songTitle','songDuration'])\n",
    "res_df"
   ]
  },
  {
   "cell_type": "markdown",
   "metadata": {},
   "source": [
    "### Query 2"
   ]
  },
  {
   "cell_type": "markdown",
   "metadata": {},
   "source": [
    "**Query**: Give me only the following: name of artist, song (sorted by itemInSession) and \n",
    "        user (first and last name) for userid = 10, sessionid = 182\n",
    "\n",
    "Expected output columns are;\n",
    " 1. artist's name\n",
    " 1. song's title\n",
    " 1. user's first name\n",
    " 1. user's last name\n",
    "\n",
    "The required query uses userId, sessionId and itemInSession in WHERE clause.\n",
    "\n",
    "**PRIMARY KEY (PK) Rationale** <br>\n",
    " - Table for this query should use <i>userId</i> as <b>Partition Key</b> because the objective of query is to return data about the songs played by a user for a given session. \n",
    "<br>\n",
    " - Table for this query should use <i>sessionId</i> and <i>itemInSession</i> as <b>Clustering Column</b>. The inclusion of <i>itemInSession</i> will support the requirement of: result set to be sorted by itemInSession field.<br>\n",
    "\n",
    "**Assumptions**\n",
    " - We can assume that all sessions of any user will fit.\n",
    "\n",
    "**Data Type Selection Rationale** <br>\n",
    "\n",
    "|Field| Data Type (Cassandra,[CQL](https://docs.datastax.com/en/cql/3.3/cql/cql_reference/cql_data_types_c.html))| Why? |\n",
    "|-----|----------|-----|\n",
    "| userId (K)| bigint | There will be many users. (<i>partition key</i>) |\n",
    "| sessionId (C)| bigint |  [0,max(bigint)] should be sufficient because there will be many sessions. (<i>clustering column</i>) |\n",
    "| itemInSession (C)| int | Number of items in a session should within [0,max(int)]. (<i>clustering column</i>) |\n",
    "| artistName | text | String data type for artist. (<i>query return</i>) |\n",
    "| songTitle  | text | String data type for title of played song. (<i>query return</i>) |\n",
    "| userFirstName  | text | First name of user.  (<i>query return</i>) |\n",
    "| userLastName   | text | Last name of user.  (<i>query return</i>) |\n",
    "\n",
    "Naming fields <br>\n",
    " - Used <i>artist</i> prefix in the field name for artist's name to indicate it is an attribute of artist. <br>\n",
    " - Used <i>song</i> prefix in the field name for song's title to indicate it is an attribute of song. <br>\n",
    " - Used <i>user</i> prefix in field names for user's id, first name, and last name to indicate that it is attribute of user.<br>\n"
   ]
  },
  {
   "cell_type": "code",
   "execution_count": 109,
   "metadata": {},
   "outputs": [],
   "source": [
    "##\n",
    "## Create Table for Query 2\n",
    "##\n",
    "table_q2_name = 'query_By_UserId_SessionId'\n",
    "\n",
    "# CQL CREATE TABLE statement\n",
    "stmt = \"CREATE TABLE IF NOT EXISTS \"+ table_q2_name +\" \"\n",
    "stmt = stmt + \"(userId int, sessionId bigint, itemInSession int, \\\n",
    "                artistName text, songTitle text, firstName text, lastName text, \\\n",
    "                PRIMARY KEY(userId, sessionId, itemInSession));\"\n",
    "logger.debug('CREATE TABLE FOR Q2: [%s]', stmt)\n",
    "\n",
    "try:\n",
    "    session.execute(stmt)\n",
    "except Exception as e:\n",
    "    print(e)\n",
    "    logger.exception(e)"
   ]
  },
  {
   "cell_type": "code",
   "execution_count": 110,
   "metadata": {},
   "outputs": [],
   "source": [
    "##\n",
    "## (ETL)\n",
    "## Load data from event_datafile_new.csv to songsplay_q2\n",
    "##\n",
    "def funcLine2(line      # type: List[str], a row of event data csv file\n",
    "             ):\n",
    "    ''' Extracts userId, sessionId, itemInSession, artist, song, firstName, lastName\n",
    "    '''\n",
    "    assert (line != None), 'Invalid Value: A line of event data file is None!'\n",
    "    assert (len(line) > 9), 'Invalid Value: A line of event data file is Empty!'\n",
    "    return (int(line[10]),int(line[8]),int(line[3]),line[0],line[9],line[1],line[4])\n",
    "\n",
    "\n",
    "# INSERT statement\n",
    "istmt = \"INSERT INTO \"+ table_q2_name\n",
    "istmt = istmt + \" (userId,sessionId,itemInSession,artistName,songTitle,firstName,lastName)\"\n",
    "istmt = istmt + \" VALUES (%s, %s, %s, %s, %s, %s, %s);\"\n",
    "\n",
    "# extract and load song played event logs to a table\n",
    "insertToDB(session,evt_data_file_name,istmt,funcLine2)"
   ]
  },
  {
   "cell_type": "code",
   "execution_count": 111,
   "metadata": {},
   "outputs": [],
   "source": [
    "#\n",
    "# Query 2: Give me only the following: \n",
    "#   name of artist, song (sorted by itemInSession) and user (first and last name)\\\n",
    "#   for userid = 10, sessionid = 182\n",
    "#\n",
    "def queryByUserIdSessionId(dbSession,   # type:  , database session\n",
    "                           table_name,  # type: str, table name\n",
    "                           userId,      # type: int, userId (query term)\n",
    "                           sessionId    # type: bigint, sessionId (query term)  \n",
    "                          ):  \n",
    "    ''' Retrieves artist, title of song, first and last name of user by using userId and sessionId\n",
    "    '''\n",
    "    assert (dbSession != None), 'Invalid Vale: Database Session is None!'\n",
    "    assert (table_name != None), 'Invalid Vale: Table name is None!'\n",
    "    assert (table_name != ''), 'Invalid Vale: Table name is Empty!'\n",
    "    \n",
    "    rows = None\n",
    "    # session.prepare()\n",
    "    query = \"SELECT artistName, songTitle, firstName, lastName \"\n",
    "    query = query + \"FROM \" + table_name + \" \" \n",
    "    query = query + \"WHERE userId = \" + str(userId) + \" and sessionId = \" + str(sessionId) + \";\"  \n",
    "    logger.debug('Query: [%s]',query)\n",
    "    try:\n",
    "        rows = dbSession.execute(query)\n",
    "    except Exception as e:\n",
    "        print(e)\n",
    "        logger.exception(e)\n",
    "\n",
    "    return rows\n"
   ]
  },
  {
   "cell_type": "code",
   "execution_count": 112,
   "metadata": {},
   "outputs": [
    {
     "name": "stdout",
     "output_type": "stream",
     "text": [
      "\n",
      "Give me only the following: name of artist, song (sorted by itemInSession) and user (first and last name) for for userid = 10, sessionid = 182 \n",
      "\n",
      "\n"
     ]
    },
    {
     "data": {
      "text/html": [
       "<div>\n",
       "<style scoped>\n",
       "    .dataframe tbody tr th:only-of-type {\n",
       "        vertical-align: middle;\n",
       "    }\n",
       "\n",
       "    .dataframe tbody tr th {\n",
       "        vertical-align: top;\n",
       "    }\n",
       "\n",
       "    .dataframe thead th {\n",
       "        text-align: right;\n",
       "    }\n",
       "</style>\n",
       "<table border=\"1\" class=\"dataframe\">\n",
       "  <thead>\n",
       "    <tr style=\"text-align: right;\">\n",
       "      <th></th>\n",
       "      <th>artistName</th>\n",
       "      <th>songTitle</th>\n",
       "      <th>firstName</th>\n",
       "      <th>lastName</th>\n",
       "    </tr>\n",
       "  </thead>\n",
       "  <tbody>\n",
       "    <tr>\n",
       "      <th>0</th>\n",
       "      <td>Down To The Bone</td>\n",
       "      <td>Keep On Keepin' On</td>\n",
       "      <td>Sylvie</td>\n",
       "      <td>Cruz</td>\n",
       "    </tr>\n",
       "    <tr>\n",
       "      <th>1</th>\n",
       "      <td>Three Drives</td>\n",
       "      <td>Greece 2000</td>\n",
       "      <td>Sylvie</td>\n",
       "      <td>Cruz</td>\n",
       "    </tr>\n",
       "    <tr>\n",
       "      <th>2</th>\n",
       "      <td>Sebastien Tellier</td>\n",
       "      <td>Kilometer</td>\n",
       "      <td>Sylvie</td>\n",
       "      <td>Cruz</td>\n",
       "    </tr>\n",
       "    <tr>\n",
       "      <th>3</th>\n",
       "      <td>Lonnie Gordon</td>\n",
       "      <td>Catch You Baby (Steve Pitron &amp; Max Sanna Radio...</td>\n",
       "      <td>Sylvie</td>\n",
       "      <td>Cruz</td>\n",
       "    </tr>\n",
       "  </tbody>\n",
       "</table>\n",
       "</div>"
      ],
      "text/plain": [
       "          artistName                                          songTitle  \\\n",
       "0   Down To The Bone                                 Keep On Keepin' On   \n",
       "1       Three Drives                                        Greece 2000   \n",
       "2  Sebastien Tellier                                          Kilometer   \n",
       "3      Lonnie Gordon  Catch You Baby (Steve Pitron & Max Sanna Radio...   \n",
       "\n",
       "  firstName lastName  \n",
       "0    Sylvie     Cruz  \n",
       "1    Sylvie     Cruz  \n",
       "2    Sylvie     Cruz  \n",
       "3    Sylvie     Cruz  "
      ]
     },
     "execution_count": 112,
     "metadata": {},
     "output_type": "execute_result"
    }
   ],
   "source": [
    "# query parameters\n",
    "userId = 10\n",
    "sessionId = 182 \n",
    "\n",
    "# query\n",
    "rows = queryByUserIdSessionId(session, table_q2_name, userId, sessionId)\n",
    "\n",
    "# process results set\n",
    "result_set = []\n",
    "if rows != None:\n",
    "    for row in rows:\n",
    "        result_set.append((row.artistname,row.songtitle,row.firstname,row.lastname))\n",
    "\n",
    "# display results\n",
    "q2_text = \"Give me only the following: name of artist, song (sorted by itemInSession) \"\n",
    "q2_text = q2_text + \"and user (first and last name) for\"\n",
    "print('\\n%s for userid = %d, sessionid = %d \\n\\n' % (q2_text, userId, sessionId))\n",
    "\n",
    "res_df = pd.DataFrame(result_set,index=None,columns=['artistName','songTitle','firstName','lastName'])\n",
    "res_df"
   ]
  },
  {
   "cell_type": "markdown",
   "metadata": {},
   "source": [
    "## Query 3\n",
    "**Query**: Give me every user name (first and last) in my music app history \n",
    "        who listened to the song 'All Hands Against His Own'   \n",
    "\n",
    "Expected output columns are;\n",
    " 1. firstName\n",
    " 1. lastName\n",
    "\n",
    "The required query uses songTitle in WHERE clause.\n",
    "\n",
    "**PRIMARY KEY (PK) Rationale** <br>\n",
    " - Table for this query should use <i>songTitle</i> as <b>Partition Key</b> because the objective of query is to return first name and last name of users who played the given song.<br>\n",
    " - Table for this query should use <i>userFirstName</i> and <i>userLastName</i> as <b>Clustering Column</b> to eliminate repeated play entries of the same song by the same user. \n",
    "\n",
    "**Assumptions**\n",
    " - The combination of song's title, user's first name, and user's last name will be unique for the query's objective.\n",
    " - Hash value of song's title should produce good distribution while we should expect to observe that\n",
    " there will be more song play events for favored songs. \n",
    " <br>\n",
    " Notes\n",
    " - According to query, there is no need to return/store multiple play events of the same song by the same user in the same/different sessions. (Requires inclusion of sessionId and itemInSession fields. When aggregate count() is needed or the datetime of song played event becomes important.)\n",
    " - The song's title is unique (i.e., one artist - one song title. The cases of reusing the song title by the same artist(1) or different artists(2) are not handled. Requires inclusion of artist identifier(2), release date/duration attributes(1) assuming that the same artist will not release two songs with the same title in the same year/with exactly the same duration. If not, one needs to look for attributes that can distinguish these two songs.) \n",
    " \n",
    "**Data Type Selection Rationale** <br>\n",
    "\n",
    "|Field| Data Type (Cassandra,[CQL](https://docs.datastax.com/en/cql/3.3/cql/cql_reference/cql_data_types_c.html))| Why? |\n",
    "|-----|----------|-----|\n",
    "| songTitle (K)  | text | String data type for title of played song. (<i>partition key</i>) |\n",
    "| userFirstName (C) | text | First name of user.  (<i>clustering column</i>, <i>query return</i>) |\n",
    "| userLastName (C)  | text | Last name of user.  (<i>clustering column</i>, <i>query return</i>) |\n",
    "\n",
    "**Naming fields** <br>\n",
    " - Used <i>song</i> prefix in the field name for song's title to indicate it is an attribute of a song. <br>\n",
    " - Used <i>user</i> prefix in field names for user's first name, and last name to indicate that it is an attribute of a user.<br>\n"
   ]
  },
  {
   "cell_type": "code",
   "execution_count": 113,
   "metadata": {},
   "outputs": [],
   "source": [
    "##\n",
    "## Create Table for Query 3\n",
    "##\n",
    "table_q3_name = \"query_By_SongTitle\"\n",
    "\n",
    "# CQL CREATE TABLE statement\n",
    "stmt = \"CREATE TABLE IF NOT EXISTS \" + table_q3_name + \" \"\n",
    "stmt = stmt + \"(songTitle text, userId bigint, userFirstName text, userLastName text, \\\n",
    "                PRIMARY KEY(songTitle, userId));\"\n",
    "\n",
    "logger.debug('CREATE TABLE FOR Q3: [%s]', stmt)\n",
    "\n",
    "try:\n",
    "    session.execute(stmt)\n",
    "except Exception as e:\n",
    "    print(e)\n",
    "    logger.exception(e)"
   ]
  },
  {
   "cell_type": "code",
   "execution_count": 114,
   "metadata": {},
   "outputs": [],
   "source": [
    "##\n",
    "## (ETL)\n",
    "## Load data from event_datafile_new.csv to songsplay_q3\n",
    "##\n",
    "def funcLine3(line       # type: List[str], list of columns in a line from event data\n",
    "             ):\n",
    "    '''Picks song, userId, firstName, and lastName\n",
    "    '''\n",
    "    assert (line != None), 'Invalid Value: A line of event data file is None!'\n",
    "    assert (len(line) > 9), 'Invalid Value: A line of event data file is Empty!'\n",
    "    return (line[9],int(line[10]),line[1],line[4])\n",
    "\n",
    "\n",
    "# INSERT statement\n",
    "istmt3 = \"INSERT INTO \" + table_q3_name + \" (songTitle, userId, userFirstName, userLastName)\"\n",
    "istmt3 = istmt3 + \" VALUES (%s, %s, %s, %s);\"\n",
    "\n",
    "# extract and load song played event logs to a table\n",
    "insertToDB(session,evt_data_file_name,istmt3,funcLine3)\n"
   ]
  },
  {
   "cell_type": "code",
   "execution_count": 115,
   "metadata": {},
   "outputs": [],
   "source": [
    "##\n",
    "## Query: Give me every user name (first and last) in my music app history \n",
    "## who listened to the song 'All Hands Against His Own'\n",
    "##\n",
    "def queryUserFirstLastNameBySongTitle(dbSession,  # type: , database session\n",
    "                                      table_name, # type: str, table name\n",
    "                                      songTitle   # type: str, song title [query term]\n",
    "                                     ):\n",
    "    ''' Retrives first and last name of users who listened to given song\n",
    "    '''\n",
    "    assert (dbSession != None), 'Invalid Value: Database session is None!'\n",
    "    assert (table_name != None), 'Invalid Value: Table name is None!'\n",
    "    assert (table_name != ''), 'Invalid Value: Table name is Empty!'\n",
    "    assert (songTitle != None), 'Invalid Value: Song title is None!'\n",
    "    assert (songTitle != ''), 'Invalid Value: Song title is Empty!'\n",
    "    \n",
    "    rows = None      # return\n",
    "    # CQL SELECT Statement\n",
    "    query = \"SELECT userFirstName, userLastName\"\n",
    "    query = query + \" FROM \"+table_name\n",
    "    query = query + \" WHERE songTitle=\\'\"+songTitle+\"\\';\"\n",
    "    logger.debug('Query: [%s]', query)\n",
    "    try:\n",
    "        rows = dbSession.execute(query)\n",
    "    except Exception as e:\n",
    "        print(e)\n",
    "        logger.exception(e)\n",
    "        \n",
    "    return rows"
   ]
  },
  {
   "cell_type": "code",
   "execution_count": 116,
   "metadata": {},
   "outputs": [
    {
     "name": "stdout",
     "output_type": "stream",
     "text": [
      "\n",
      "\n",
      "Give me every user name (first and last) in my music app history who listened to the song 'All Hands Against His Own'.\n",
      "\n"
     ]
    },
    {
     "data": {
      "text/html": [
       "<div>\n",
       "<style scoped>\n",
       "    .dataframe tbody tr th:only-of-type {\n",
       "        vertical-align: middle;\n",
       "    }\n",
       "\n",
       "    .dataframe tbody tr th {\n",
       "        vertical-align: top;\n",
       "    }\n",
       "\n",
       "    .dataframe thead th {\n",
       "        text-align: right;\n",
       "    }\n",
       "</style>\n",
       "<table border=\"1\" class=\"dataframe\">\n",
       "  <thead>\n",
       "    <tr style=\"text-align: right;\">\n",
       "      <th></th>\n",
       "      <th>userFirstName</th>\n",
       "      <th>userLastName</th>\n",
       "    </tr>\n",
       "  </thead>\n",
       "  <tbody>\n",
       "    <tr>\n",
       "      <th>0</th>\n",
       "      <td>Jacqueline</td>\n",
       "      <td>Lynch</td>\n",
       "    </tr>\n",
       "    <tr>\n",
       "      <th>1</th>\n",
       "      <td>Tegan</td>\n",
       "      <td>Levine</td>\n",
       "    </tr>\n",
       "    <tr>\n",
       "      <th>2</th>\n",
       "      <td>Sara</td>\n",
       "      <td>Johnson</td>\n",
       "    </tr>\n",
       "  </tbody>\n",
       "</table>\n",
       "</div>"
      ],
      "text/plain": [
       "  userFirstName userLastName\n",
       "0    Jacqueline        Lynch\n",
       "1         Tegan       Levine\n",
       "2          Sara      Johnson"
      ]
     },
     "execution_count": 116,
     "metadata": {},
     "output_type": "execute_result"
    }
   ],
   "source": [
    "# query parameters\n",
    "songTitle = 'All Hands Against His Own'\n",
    "\n",
    "# query\n",
    "rows = queryUserFirstLastNameBySongTitle(session,table_q3_name,songTitle)\n",
    "\n",
    "# process result set\n",
    "result_set = []\n",
    "if rows != None:\n",
    "    for row in rows:\n",
    "        result_set.append((row.userfirstname,row.userlastname))\n",
    "\n",
    "# display results\n",
    "q3_text = 'Give me every user name (first and last) in my music app history who listened to the song'\n",
    "print('\\n\\n%s \\'%s\\'.\\n' % (q3_text, songTitle))\n",
    "\n",
    "res_df = pd.DataFrame(result_set,index=None,columns=['userFirstName','userLastName'])\n",
    "res_df"
   ]
  },
  {
   "cell_type": "markdown",
   "metadata": {},
   "source": [
    "### Drop the tables before closing out the sessions"
   ]
  },
  {
   "cell_type": "markdown",
   "metadata": {},
   "source": [
    "dropTable() drops one table (if exists), given by table name. <br>\n",
    "dropTables() drops tables (if exists), given by array of table names. <br>"
   ]
  },
  {
   "cell_type": "code",
   "execution_count": 117,
   "metadata": {},
   "outputs": [],
   "source": [
    "def dropTable(dbSession,   # type: , database session\n",
    "              table_name   # type: str, table name\n",
    "             ):\n",
    "    ''' Drops the given table if exists\n",
    "    '''\n",
    "    assert (dbSession != None), 'Invalid Value: Database Session is None!'\n",
    "    assert (table_name != None), 'Invalid Value: Table name is None!'\n",
    "    assert (table_name != ''), 'Invalid Value: Table name is Empty!'\n",
    "    # CQL DROP Statement\n",
    "    stmt=\"DROP TABLE IF EXISTS \"+table_name + \";\";\n",
    "\n",
    "    try:\n",
    "        rows = dbSession.execute(stmt)\n",
    "    except Exception as e:\n",
    "        print(e)     \n",
    "        logger.exception(e)\n",
    "    \n",
    "    return "
   ]
  },
  {
   "cell_type": "code",
   "execution_count": 118,
   "metadata": {},
   "outputs": [],
   "source": [
    "def dropTables(dbSession,        # type: , database session\n",
    "               table_names       # type: List[str], list of table names to be dropped\n",
    "              ):\n",
    "    ''' Drops tables in the list \n",
    "    '''\n",
    "    assert (dbSession != None), 'Invalid Value: Database Session is None!'\n",
    "    assert (table_names != None), 'Invalid Value: List of table names is None!'\n",
    "    assert (len(table_names) > 0), 'Invalid Value: List of table names is Empty!'\n",
    "\n",
    "    for f in table_names:\n",
    "        dropTable(dbSession, f)\n",
    "        \n",
    "    return"
   ]
  },
  {
   "cell_type": "code",
   "execution_count": 119,
   "metadata": {},
   "outputs": [],
   "source": [
    "# Drop tables\n",
    "#\n",
    "tables=[table_q1_name, table_q2_name, table_q3_name]\n",
    "dropTables(session, tables)"
   ]
  },
  {
   "cell_type": "markdown",
   "metadata": {},
   "source": [
    "### Close the session and cluster connection¶"
   ]
  },
  {
   "cell_type": "code",
   "execution_count": 120,
   "metadata": {},
   "outputs": [],
   "source": [
    "session.shutdown()\n",
    "cluster.shutdown()\n",
    "\n",
    "logger.info('Project-2> END')"
   ]
  },
  {
   "cell_type": "code",
   "execution_count": null,
   "metadata": {},
   "outputs": [],
   "source": []
  },
  {
   "cell_type": "code",
   "execution_count": null,
   "metadata": {},
   "outputs": [],
   "source": []
  }
 ],
 "metadata": {
  "kernelspec": {
   "display_name": "Python 3",
   "language": "python",
   "name": "python3"
  },
  "language_info": {
   "codemirror_mode": {
    "name": "ipython",
    "version": 3
   },
   "file_extension": ".py",
   "mimetype": "text/x-python",
   "name": "python",
   "nbconvert_exporter": "python",
   "pygments_lexer": "ipython3",
   "version": "3.6.3"
  }
 },
 "nbformat": 4,
 "nbformat_minor": 2
}
